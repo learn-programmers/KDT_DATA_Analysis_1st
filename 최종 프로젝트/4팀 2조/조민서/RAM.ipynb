{
 "cells": [
  {
   "cell_type": "code",
   "execution_count": 1,
   "id": "0f52c8c2-00d6-4e52-8cb6-0d81a575d86c",
   "metadata": {},
   "outputs": [],
   "source": [
    "import pandas as pd\n",
    "import numpy as np"
   ]
  },
  {
   "cell_type": "code",
   "execution_count": 2,
   "id": "612d6bd6-9dee-4981-ae6a-10c968758b72",
   "metadata": {},
   "outputs": [],
   "source": [
    "df = pd.read_csv('data/steam_requirements_data.csv')"
   ]
  },
  {
   "cell_type": "code",
   "execution_count": 4,
   "id": "5a80ec30-f0c7-451d-96c7-b3a3f3de93bf",
   "metadata": {},
   "outputs": [
    {
     "data": {
      "text/plain": [
       "'500 mhz processor, 96mb ram, 16mb video card, Windows XP, Mouse, Keyboard, Internet Connection Recommended: 800 mhz processor, 128mb ram, 32mb+ video card, Windows XP, Mouse, Keyboard, Internet Connection'"
      ]
     },
     "execution_count": 4,
     "metadata": {},
     "output_type": "execute_result"
    }
   ],
   "source": [
    "df['minimum'][1]"
   ]
  },
  {
   "cell_type": "code",
   "execution_count": 5,
   "id": "3c7f94d5-1df3-43e5-8c87-9fce10548203",
   "metadata": {},
   "outputs": [],
   "source": [
    "def get_RAM(text_list):\n",
    "    result = []\n",
    "    for idx, text in enumerate(text_list):\n",
    "        try:\n",
    "            ram_value = None\n",
    "            text = str(text)\n",
    "            words = text.split()\n",
    "            if text.startswith('A 100% Windows'):\n",
    "                result.append(0)\n",
    "                continue\n",
    "    \n",
    "            for i, item in enumerate(words):\n",
    "                if 'ram' in item.lower() or 'ram,' in item.lower():\n",
    "                    if words[i-1].lower() == 'gb' or words[i-1].lower() == 'gigabytes':\n",
    "                        ram_value = words[i-2] + 'gb'\n",
    "                    elif words[i-1].lower() == 'mb' or words[i-1].lower() == 'megabytes':\n",
    "                        ram_value = words[i-2] + 'mb'\n",
    "                    elif words[i-1].lower() == 'kb' or words[i-1].lower() == 'kilobyte':\n",
    "                        ram_value = words[i-2] + 'kb'\n",
    "                    else:\n",
    "                        ram_value = words[i-1]\n",
    "                    break\n",
    "                elif 'memory:' in item.lower():\n",
    "                    if words[i+2].lower() == 'gb' or words[i+2].lower() == 'gigabytes':\n",
    "                        ram_value = words[i+1] + 'gb'\n",
    "                    elif words[i+2].lower() == 'mb' or words[i+2].lower() == 'megabytes':\n",
    "                        ram_value = words[i+1] + 'mb'\n",
    "                    elif words[i-1].lower() == 'kb' or words[i+2].lower() == 'kilobyte':\n",
    "                        ram_value = words[i+1] + 'kb'\n",
    "                    else:\n",
    "                        ram_value = words[i+1]\n",
    "                    break\n",
    "                elif 'system' in item.lower() and words[i+1].lower().startswith('memory'):\n",
    "                    if words[i-1].lower() == 'gb' or words[i-1].lower() == 'gigabytes':\n",
    "                        ram_value = words[i-2] + 'gb'\n",
    "                    elif words[i-1].lower() == 'mb' or words[i-1].lower() == 'megabytes':\n",
    "                        ram_value = words[i-2] + 'mb'\n",
    "                    elif words[i-1].lower() == 'kb' or words[i-1].lower() == 'kilobyte':\n",
    "                        ram_value = words[i-2] + 'kb'\n",
    "                    else:\n",
    "                        ram_value = words[i-1]\n",
    "                    break\n",
    "            result.append(ram_value)\n",
    "        except IndexError:\n",
    "            result.append(ram_value)\n",
    "            print(f\"Error Index : {idx}\")\n",
    "    return result"
   ]
  },
  {
   "cell_type": "code",
   "execution_count": 6,
   "id": "8905b3a1-096b-4c2d-b346-6c042304918a",
   "metadata": {},
   "outputs": [],
   "source": [
    "def find_none_indices(lst):\n",
    "    none_indices = []\n",
    "    for i, item in enumerate(lst):\n",
    "        if item is None:\n",
    "            none_indices.append(i)\n",
    "    return none_indices"
   ]
  },
  {
   "cell_type": "code",
   "execution_count": 7,
   "id": "9b8f0f74-db44-47e5-9463-ec95375e921f",
   "metadata": {},
   "outputs": [],
   "source": [
    "def convert_to_mb(lst):\n",
    "    converted_lst = []\n",
    "    for item in lst:\n",
    "        if isinstance(item, int) or isinstance(item, float):\n",
    "            converted_lst.append(item)\n",
    "        elif isinstance(item, str):\n",
    "            item = item.lower().strip()\n",
    "            if item.isdigit():\n",
    "                converted_lst.append(int(item))\n",
    "            elif 'mb' in item:\n",
    "                value = item.replace('mb', '')\n",
    "                if value.isdigit():\n",
    "                    converted_lst.append(int(value))\n",
    "                else:\n",
    "                    converted_lst.append(None)\n",
    "            elif 'kb' in item:\n",
    "                value = item.replace('kb', '')\n",
    "                if value.isdigit():\n",
    "                    converted_lst.append(int(float(value) / 1024))\n",
    "                else:\n",
    "                    converted_lst.append(None)\n",
    "            elif 'gb' in item:\n",
    "                value = item.replace('gb', '')\n",
    "                if value.isdigit():\n",
    "                    converted_lst.append(int(float(value) * 1024))\n",
    "                else:\n",
    "                    converted_lst.append(None)\n",
    "            else:\n",
    "                converted_lst.append(None)\n",
    "        else:\n",
    "            converted_lst.append(None)\n",
    "    return converted_lst"
   ]
  },
  {
   "cell_type": "code",
   "execution_count": 8,
   "id": "51e8fe4d-3d07-4e2b-8eea-86b736e5b6af",
   "metadata": {},
   "outputs": [
    {
     "name": "stdout",
     "output_type": "stream",
     "text": [
      "Error Index : 10890\n",
      "Error Index : 20625\n"
     ]
    }
   ],
   "source": [
    "result = get_RAM(df['minimum'])"
   ]
  },
  {
   "cell_type": "code",
   "execution_count": 9,
   "id": "a529ff92-c8ab-4128-8725-57c82e74618c",
   "metadata": {},
   "outputs": [],
   "source": [
    "mb_rs = convert_to_mb(result)"
   ]
  },
  {
   "cell_type": "code",
   "execution_count": 13,
   "id": "6c3a0ba7-9f47-43dc-a40d-f4fb12d7bc56",
   "metadata": {},
   "outputs": [],
   "source": [
    "result_Data = pd.DataFrame()\n",
    "result_Data['appid'] = df['steam_appid']\n",
    "result_Data['Min RAM(MB)'] = mb_rs"
   ]
  },
  {
   "cell_type": "code",
   "execution_count": 14,
   "id": "2892a5b3-b0da-4417-af8c-528f645e165b",
   "metadata": {},
   "outputs": [
    {
     "data": {
      "text/html": [
       "<div>\n",
       "<style scoped>\n",
       "    .dataframe tbody tr th:only-of-type {\n",
       "        vertical-align: middle;\n",
       "    }\n",
       "\n",
       "    .dataframe tbody tr th {\n",
       "        vertical-align: top;\n",
       "    }\n",
       "\n",
       "    .dataframe thead th {\n",
       "        text-align: right;\n",
       "    }\n",
       "</style>\n",
       "<table border=\"1\" class=\"dataframe\">\n",
       "  <thead>\n",
       "    <tr style=\"text-align: right;\">\n",
       "      <th></th>\n",
       "      <th>appid</th>\n",
       "      <th>Min RAM(MB)</th>\n",
       "    </tr>\n",
       "  </thead>\n",
       "  <tbody>\n",
       "    <tr>\n",
       "      <th>0</th>\n",
       "      <td>10</td>\n",
       "      <td>96.0</td>\n",
       "    </tr>\n",
       "    <tr>\n",
       "      <th>1</th>\n",
       "      <td>20</td>\n",
       "      <td>96.0</td>\n",
       "    </tr>\n",
       "    <tr>\n",
       "      <th>2</th>\n",
       "      <td>30</td>\n",
       "      <td>96.0</td>\n",
       "    </tr>\n",
       "    <tr>\n",
       "      <th>3</th>\n",
       "      <td>40</td>\n",
       "      <td>96.0</td>\n",
       "    </tr>\n",
       "    <tr>\n",
       "      <th>4</th>\n",
       "      <td>50</td>\n",
       "      <td>96.0</td>\n",
       "    </tr>\n",
       "    <tr>\n",
       "      <th>...</th>\n",
       "      <td>...</td>\n",
       "      <td>...</td>\n",
       "    </tr>\n",
       "    <tr>\n",
       "      <th>27314</th>\n",
       "      <td>1065230</td>\n",
       "      <td>2048.0</td>\n",
       "    </tr>\n",
       "    <tr>\n",
       "      <th>27315</th>\n",
       "      <td>1065570</td>\n",
       "      <td>4096.0</td>\n",
       "    </tr>\n",
       "    <tr>\n",
       "      <th>27316</th>\n",
       "      <td>1065650</td>\n",
       "      <td>256.0</td>\n",
       "    </tr>\n",
       "    <tr>\n",
       "      <th>27317</th>\n",
       "      <td>1066700</td>\n",
       "      <td>750.0</td>\n",
       "    </tr>\n",
       "    <tr>\n",
       "      <th>27318</th>\n",
       "      <td>1069460</td>\n",
       "      <td>1024.0</td>\n",
       "    </tr>\n",
       "  </tbody>\n",
       "</table>\n",
       "<p>27319 rows × 2 columns</p>\n",
       "</div>"
      ],
      "text/plain": [
       "         appid  Min RAM(MB)\n",
       "0           10         96.0\n",
       "1           20         96.0\n",
       "2           30         96.0\n",
       "3           40         96.0\n",
       "4           50         96.0\n",
       "...        ...          ...\n",
       "27314  1065230       2048.0\n",
       "27315  1065570       4096.0\n",
       "27316  1065650        256.0\n",
       "27317  1066700        750.0\n",
       "27318  1069460       1024.0\n",
       "\n",
       "[27319 rows x 2 columns]"
      ]
     },
     "execution_count": 14,
     "metadata": {},
     "output_type": "execute_result"
    }
   ],
   "source": [
    "result_Data"
   ]
  },
  {
   "cell_type": "code",
   "execution_count": 10,
   "id": "61336887-f97c-47ca-a55f-469a1c39ae6b",
   "metadata": {},
   "outputs": [],
   "source": [
    "result_Data.to_csv('data/RAM_info.csv', index=False)"
   ]
  },
  {
   "cell_type": "code",
   "execution_count": 15,
   "id": "86e1ba12-2f51-4995-bd8d-664f380236ad",
   "metadata": {},
   "outputs": [
    {
     "data": {
      "text/plain": [
       "2266"
      ]
     },
     "execution_count": 15,
     "metadata": {},
     "output_type": "execute_result"
    }
   ],
   "source": [
    "result_Data['Min RAM(MB)'].isnull().sum()"
   ]
  },
  {
   "cell_type": "code",
   "execution_count": null,
   "id": "66e1b23b-8b60-40e5-94b8-898aaec90789",
   "metadata": {},
   "outputs": [],
   "source": []
  }
 ],
 "metadata": {
  "kernelspec": {
   "display_name": "Python 3 (ipykernel)",
   "language": "python",
   "name": "python3"
  },
  "language_info": {
   "codemirror_mode": {
    "name": "ipython",
    "version": 3
   },
   "file_extension": ".py",
   "mimetype": "text/x-python",
   "name": "python",
   "nbconvert_exporter": "python",
   "pygments_lexer": "ipython3",
   "version": "3.9.0"
  }
 },
 "nbformat": 4,
 "nbformat_minor": 5
}
