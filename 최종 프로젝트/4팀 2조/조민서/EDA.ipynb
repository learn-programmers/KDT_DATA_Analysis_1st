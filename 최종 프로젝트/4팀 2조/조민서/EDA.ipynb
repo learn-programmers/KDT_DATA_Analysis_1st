{
 "cells": [
  {
   "cell_type": "code",
   "execution_count": 10,
   "id": "08cfeeb7-6eb3-462c-9552-71a20c4fbf69",
   "metadata": {},
   "outputs": [],
   "source": [
    "import pandas as pd\n",
    "from edaplot.plot_functions import showplot\n",
    "import matplotlib.pyplot as plt\n",
    "import seaborn as sns\n",
    "from collections import Counter"
   ]
  },
  {
   "cell_type": "code",
   "execution_count": 2,
   "id": "92c9a626-9493-4d19-b21a-4d50eefb8fcb",
   "metadata": {},
   "outputs": [],
   "source": [
    "main_df = pd.read_csv('data/steam.csv')\n",
    "ram = pd.read_csv('data/RAM_info.csv')"
   ]
  },
  {
   "cell_type": "code",
   "execution_count": 22,
   "id": "e068fe73-7acc-49cb-886c-158a958c539c",
   "metadata": {},
   "outputs": [],
   "source": [
    "# @hidden_cell\n",
    "def inner_join_df(df1, df2, using):\n",
    "    merged = pd.merge(df1, df2, on=using, how='inner', suffixes=('', ''))\n",
    "    return merged"
   ]
  },
  {
   "cell_type": "code",
   "execution_count": 4,
   "id": "9735f746-ef0d-4bf5-b1d6-f3865b95e2c4",
   "metadata": {},
   "outputs": [],
   "source": [
    "using_df = inner_join_df(main_df, ram, 'appid')"
   ]
  },
  {
   "cell_type": "code",
   "execution_count": 5,
   "id": "caeb5d4c-9068-4ee3-a993-ade7f61a47e6",
   "metadata": {},
   "outputs": [],
   "source": [
    "using_df.dropna(inplace=True)"
   ]
  },
  {
   "cell_type": "code",
   "execution_count": 6,
   "id": "1c224092-d181-4163-8f39-cfab881400cf",
   "metadata": {},
   "outputs": [
    {
     "name": "stdout",
     "output_type": "stream",
     "text": [
      "<class 'pandas.core.frame.DataFrame'>\n",
      "Index: 24807 entries, 0 to 27061\n",
      "Data columns (total 19 columns):\n",
      " #   Column            Non-Null Count  Dtype  \n",
      "---  ------            --------------  -----  \n",
      " 0   appid             24807 non-null  int64  \n",
      " 1   name              24807 non-null  object \n",
      " 2   release_date      24807 non-null  object \n",
      " 3   english           24807 non-null  int64  \n",
      " 4   developer         24807 non-null  object \n",
      " 5   publisher         24807 non-null  object \n",
      " 6   platforms         24807 non-null  object \n",
      " 7   required_age      24807 non-null  int64  \n",
      " 8   categories        24807 non-null  object \n",
      " 9   genres            24807 non-null  object \n",
      " 10  steamspy_tags     24807 non-null  object \n",
      " 11  achievements      24807 non-null  int64  \n",
      " 12  positive_ratings  24807 non-null  int64  \n",
      " 13  negative_ratings  24807 non-null  int64  \n",
      " 14  average_playtime  24807 non-null  int64  \n",
      " 15  median_playtime   24807 non-null  int64  \n",
      " 16  owners            24807 non-null  object \n",
      " 17  price             24807 non-null  float64\n",
      " 18  Min RAM(MB)       24807 non-null  float64\n",
      "dtypes: float64(2), int64(8), object(9)\n",
      "memory usage: 3.8+ MB\n"
     ]
    }
   ],
   "source": [
    "using_df.info()"
   ]
  },
  {
   "cell_type": "code",
   "execution_count": 21,
   "id": "bfbe6f7a-673b-4aae-81bd-fac94d6868d9",
   "metadata": {},
   "outputs": [],
   "source": [
    "using_df.to_csv('merged.csv', index=False)"
   ]
  },
  {
   "cell_type": "code",
   "execution_count": null,
   "id": "f65bc55a-7134-4dd7-87ad-294bf7ee7c4b",
   "metadata": {},
   "outputs": [],
   "source": []
  }
 ],
 "metadata": {
  "kernelspec": {
   "display_name": "Python 3 (ipykernel)",
   "language": "python",
   "name": "python3"
  },
  "language_info": {
   "codemirror_mode": {
    "name": "ipython",
    "version": 3
   },
   "file_extension": ".py",
   "mimetype": "text/x-python",
   "name": "python",
   "nbconvert_exporter": "python",
   "pygments_lexer": "ipython3",
   "version": "3.9.0"
  }
 },
 "nbformat": 4,
 "nbformat_minor": 5
}
