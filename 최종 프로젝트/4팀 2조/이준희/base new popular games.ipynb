{
 "cells": [
  {
   "cell_type": "code",
   "execution_count": 1,
   "id": "81df84b5",
   "metadata": {},
   "outputs": [],
   "source": [
    "from googleapiclient.discovery import build\n",
    "from datetime import datetime, timedelta\n",
    "from googleapiclient.errors import HttpError\n",
    "from oauth2client.tools import argparser\n",
    "import numpy as np\n",
    "import pandas as pd\n",
    "import isodate\n",
    "import requests\n",
    "import time\n",
    "from selenium import webdriver\n",
    "from IPython.display import JSON\n",
    "\n",
    "from webdriver_manager.chrome import ChromeDriverManager\n",
    "from selenium.webdriver.chrome.service import Service\n",
    "from selenium.webdriver.common.by import By\n",
    "from selenium.webdriver.chrome.options import Options"
   ]
  },
  {
   "cell_type": "code",
   "execution_count": 2,
   "id": "86e909f6",
   "metadata": {},
   "outputs": [],
   "source": [
    "# api key load\n",
    "with open('api.txt', 'r') as file:\n",
    "    api_key = file.read().strip()\n",
    "\n",
    "api_service_name = \"youtube\"\n",
    "api_version = \"v3\"\n",
    "\n",
    "# Get credentials and create an API client\n",
    "youtube = build(api_service_name, api_version, developerKey=api_key)"
   ]
  },
  {
   "cell_type": "code",
   "execution_count": 3,
   "id": "22084233",
   "metadata": {},
   "outputs": [],
   "source": [
    "# URL 모음\n",
    "base_url = \"https://store.steampowered.com/\"\n",
    "\n",
    "url_stats = 'stats/'\n",
    "url_search = 'search/'\n",
    "url_category = 'category/'\n",
    "\n",
    "#url_filter = '?filter='\n",
    "url_filter = '?flavor=contenthub_newandtrending'\n",
    "\n",
    "# offset\n",
    "url_offset = '&offset='\n",
    "\n",
    "# 스팀 장르별 URL 모음\n",
    "url_action = 'action/'\n",
    "url_action_fps = 'action_fps/'\n",
    "url_action_tps = 'action_tps/'\n",
    "url_fighting_marial_arts = 'fighting_marial_arts/'\n",
    "url_shump = 'shump/'\n",
    "url_arcade_rhythm = 'arcade_rhythm/'\n",
    "url_action_run_jump = 'action_run_jump/'\n",
    "url_hack_and_slash = 'hack_and_slash/'\n",
    "\n",
    "url_rpg = 'rpg/'\n",
    "url_jrpg = 'rpg_jrpg/'\n",
    "url_rogue_like_rogue_lite = 'rogue_like_rogue_lite/'\n",
    "url_rpg_action = 'rpg_action/'\n",
    "url_adventure_rpg = 'adventure_rpg/'\n",
    "url_rpg_strategy = 'rpg_strategy_tactics/'\n",
    "url_rpg_turn_based = 'rpg_turn_based/'\n",
    "url_rpg_party_based = 'rpg_party_based/'\n",
    "\n",
    "url_strategy = 'strategy/'\n",
    "url_strategy_military = 'strategy_military/'\n",
    "url_strategy_grand_4x = 'strategy_grand_4x/'\n",
    "url_strategy_cities_settlements = 'strategy_cities_settlements/'\n",
    "url_strategy_real_time = 'strategy_real_time/'\n",
    "url_strategy_card_board = 'strategy_card_board/'\n",
    "url_tower_defense = 'tower_defense/'\n",
    "url_strategy_turn_based = 'strategy_turn_based/'\n",
    "\n",
    "url_adventure = 'adventure/'\n",
    "url_metroidvania = 'metroidvania/'\n",
    "url_visual_novel = 'visual_novel/'\n",
    "url_adventure_rpg = 'adventure_rpg/'\n",
    "url_casual = 'casual/'\n",
    "url_puzzle_matching = 'puzzle_matching/'\n",
    "url_story_rich = 'story_rich/'\n",
    "url_hidden_object = 'hidden_object/'\n",
    "\n",
    "rul_simulation = 'simulation/'\n",
    "rul_sim_building_automation = 'sim_building_automation/'\n",
    "rul_sim_farming_crafting = 'sim_farming_crafting/'\n",
    "rul_sim_physics_sandbox = 'sim_physics_sandbox/'\n",
    "rul_sim_life = 'sim_life/'\n",
    "rul_sim_dating = 'sim_dating/'\n",
    "rul_sim_space_flight = 'sim_space_flight/'\n",
    "rul_sim_hobby_sim = 'sim_hobby_sim/'\n",
    "\n",
    "url_sports_and_racing = 'sports_and_racing/'\n",
    "url_sports_individual = 'sports_individual/'\n",
    "url_sports_fishing_hunting = 'sports_fishing_hunting/'\n",
    "url_racing = 'racing/'\n",
    "url_racing_sim = 'racing_sim/'\n",
    "url_sports = 'sports/'\n",
    "url_sports_sim = 'sports_sim/'\n",
    "url_sports_team = 'sports_team/'\n",
    "\n",
    "## 테마 별 URL\n",
    "url_science_fiction = 'science_fiction/'\n",
    "url_horror = 'horror/'\n",
    "url_mystery_detective = 'mystery_detective/'\n",
    "url_survival = 'survival/'\n",
    "url_adultonly = 'adultonly/'\n",
    "url_anime = 'anime/'\n",
    "url_exploration_open_world = 'exploration_open_world/'\n",
    "url_space = 'space/'\n",
    "\n",
    "## 플레이어 지원 별 URL\n",
    "url_multiplayer_lan = 'multiplayer_lan/'\n",
    "url_multiplayer_mmo = 'multiplayer_mmo/'\n",
    "url_multiplayer_local_party = 'multiplayer_local_party/'\n",
    "url_multiplayer = 'multiplayer/'\n",
    "url_singleplayer = 'singleplayer/'\n",
    "url_multiplayer_online_competitive = 'multiplayer_online_competitive/'\n",
    "url_multiplayer_coop = 'multiplayer_coop/'\n"
   ]
  },
  {
   "cell_type": "markdown",
   "id": "a13b1488",
   "metadata": {},
   "source": [
    "## URL 합치기\n",
    "- 태그 바꿀 때는 url_multiplayer만 바꿔서 사용\n",
    "- 게임 목록들이 12개씩 끊겨서 나와서 url_offset 사용\n",
    "    - 아래 반복문에서 사용됨\n",
    "    - 상위 60개만 보게끔 했지만, 더 보고 싶다면 range 인자값을 늘리면 가능."
   ]
  },
  {
   "cell_type": "code",
   "execution_count": 4,
   "id": "b0d9f820",
   "metadata": {},
   "outputs": [],
   "source": [
    "## URL 합치기\n",
    "# 태그 바꿀 때만\n",
    "use_url = base_url + url_category + url_multiplayer + url_filter"
   ]
  },
  {
   "cell_type": "code",
   "execution_count": 5,
   "id": "3440295c",
   "metadata": {},
   "outputs": [],
   "source": [
    "def new_popular_game_scan(use_URL):\n",
    "    # Selenium 옵션 설정\n",
    "    options = Options()\n",
    "    options.headless = True\n",
    "\n",
    "    # Chrome Driver 실행\n",
    "    service = Service(executable_path=ChromeDriverManager().install())\n",
    "    driver = webdriver.Chrome(service=service, options=options)\n",
    "    \n",
    "    driver.get(use_URL)\n",
    "    \n",
    "    game_data = []\n",
    "    time.sleep(20)\n",
    "    games = driver.find_elements(By.CLASS_NAME, \"_1lRFu670LVk6Gmeb12h7Hr\")\n",
    "#     time.sleep(20)\n",
    "    \n",
    "    # 게임 정보 리스트에 추가\n",
    "    for game in games:\n",
    "        name = game.find_element(By.CLASS_NAME, \"_3jI467XYJLy1CQ5YZhp2q_\").text.strip()\n",
    "        time.sleep(5)\n",
    "        price = game.find_element(By.CLASS_NAME, \"Wh0L8EnwsPV_8VAu8TOYr\").text.strip()\n",
    "        release_date = game.find_element(By.CLASS_NAME, \"_3eOdkTDYdWyo_U5-JPeer1\").text.strip()\n",
    "        tags = game.find_elements(By.CLASS_NAME, \"WidgetTag\")\n",
    "\n",
    "        tag_list = [tag.text for tag in tags]\n",
    "        tag_list += [''] * (5 - len(tag_list))\n",
    "\n",
    "        # 게임 데이터에 추가\n",
    "        game_data.append([name, price, release_date] + tag_list[:5])\n",
    "\n",
    "    # 데이터프레임 생성\n",
    "    new_games = pd.DataFrame(game_data, columns=['게임 이름', '가격', '출시일', 'Tag 1', 'Tag 2', 'Tag 3', 'Tag 4', 'Tag 5'])\n",
    "    driver.quit()\n",
    "    \n",
    "    return new_games"
   ]
  },
  {
   "cell_type": "code",
   "execution_count": 6,
   "id": "23648ba4",
   "metadata": {
    "scrolled": true
   },
   "outputs": [
    {
     "ename": "KeyboardInterrupt",
     "evalue": "",
     "output_type": "error",
     "traceback": [
      "\u001b[1;31m---------------------------------------------------------------------------\u001b[0m",
      "\u001b[1;31mKeyboardInterrupt\u001b[0m                         Traceback (most recent call last)",
      "Input \u001b[1;32mIn [6]\u001b[0m, in \u001b[0;36m<cell line: 3>\u001b[1;34m()\u001b[0m\n\u001b[0;32m      4\u001b[0m     offset \u001b[38;5;241m=\u001b[39m \u001b[38;5;28mstr\u001b[39m(\u001b[38;5;241m12\u001b[39m \u001b[38;5;241m*\u001b[39m i)\n\u001b[0;32m      5\u001b[0m     use_url \u001b[38;5;241m=\u001b[39m base_url \u001b[38;5;241m+\u001b[39m url_category \u001b[38;5;241m+\u001b[39m url_multiplayer \u001b[38;5;241m+\u001b[39m url_filter \u001b[38;5;241m+\u001b[39m url_offset \u001b[38;5;241m+\u001b[39m offset\n\u001b[1;32m----> 7\u001b[0m     temp \u001b[38;5;241m=\u001b[39m \u001b[43mnew_popular_game_scan\u001b[49m\u001b[43m(\u001b[49m\u001b[43muse_url\u001b[49m\u001b[43m)\u001b[49m\n\u001b[0;32m      8\u001b[0m     df_list\u001b[38;5;241m.\u001b[39mappend(temp)\n\u001b[0;32m     10\u001b[0m df_combined \u001b[38;5;241m=\u001b[39m pd\u001b[38;5;241m.\u001b[39mconcat(df_list, ignore_index\u001b[38;5;241m=\u001b[39m\u001b[38;5;28;01mTrue\u001b[39;00m)\n",
      "Input \u001b[1;32mIn [5]\u001b[0m, in \u001b[0;36mnew_popular_game_scan\u001b[1;34m(use_URL)\u001b[0m\n\u001b[0;32m     10\u001b[0m     driver\u001b[38;5;241m.\u001b[39mget(use_URL)\n\u001b[0;32m     12\u001b[0m     game_data \u001b[38;5;241m=\u001b[39m []\n\u001b[1;32m---> 13\u001b[0m     \u001b[43mtime\u001b[49m\u001b[38;5;241;43m.\u001b[39;49m\u001b[43msleep\u001b[49m\u001b[43m(\u001b[49m\u001b[38;5;241;43m20\u001b[39;49m\u001b[43m)\u001b[49m\n\u001b[0;32m     14\u001b[0m     games \u001b[38;5;241m=\u001b[39m driver\u001b[38;5;241m.\u001b[39mfind_elements(By\u001b[38;5;241m.\u001b[39mCLASS_NAME, \u001b[38;5;124m\"\u001b[39m\u001b[38;5;124m_1lRFu670LVk6Gmeb12h7Hr\u001b[39m\u001b[38;5;124m\"\u001b[39m)\n\u001b[0;32m     15\u001b[0m \u001b[38;5;66;03m#     time.sleep(20)\u001b[39;00m\n\u001b[0;32m     16\u001b[0m     \n\u001b[0;32m     17\u001b[0m     \u001b[38;5;66;03m# 게임 정보 리스트에 추가\u001b[39;00m\n",
      "\u001b[1;31mKeyboardInterrupt\u001b[0m: "
     ]
    }
   ],
   "source": [
    "df_list = []\n",
    "\n",
    "for i in range(5):\n",
    "    offset = str(12 * i)\n",
    "    use_url = base_url + url_category + url_multiplayer + url_filter + url_offset + offset\n",
    "    \n",
    "    temp = new_popular_game_scan(use_url)\n",
    "    df_list.append(temp)\n",
    "    \n",
    "df_combined = pd.concat(df_list, ignore_index=True)\n",
    "df_combined"
   ]
  },
  {
   "cell_type": "markdown",
   "id": "583f9eb4",
   "metadata": {},
   "source": [
    "## 비어 있는 값('')들이 있어 np.nan 으로 결측치로 바꾼 후 제거"
   ]
  },
  {
   "cell_type": "code",
   "execution_count": 8,
   "id": "6b3b1384",
   "metadata": {},
   "outputs": [
    {
     "name": "stdout",
     "output_type": "stream",
     "text": [
      "<class 'pandas.core.frame.DataFrame'>\n",
      "RangeIndex: 36 entries, 0 to 35\n",
      "Data columns (total 8 columns):\n",
      " #   Column  Non-Null Count  Dtype \n",
      "---  ------  --------------  ----- \n",
      " 0   게임 이름   36 non-null     object\n",
      " 1   가격      36 non-null     object\n",
      " 2   출시일     36 non-null     object\n",
      " 3   Tag 1   36 non-null     object\n",
      " 4   Tag 2   36 non-null     object\n",
      " 5   Tag 3   36 non-null     object\n",
      " 6   Tag 4   36 non-null     object\n",
      " 7   Tag 5   36 non-null     object\n",
      "dtypes: object(8)\n",
      "memory usage: 2.4+ KB\n"
     ]
    }
   ],
   "source": [
    "df_combined['게임 이름'] = df_combined['게임 이름'].replace('', np.nan)\n",
    "\n",
    "df3 = df_combined.copy()\n",
    "data = df3.dropna()\n",
    "data = data.reset_index(drop = True)\n",
    "data.info()"
   ]
  },
  {
   "cell_type": "markdown",
   "id": "6a0913e3",
   "metadata": {},
   "source": [
    "## csv로 저장\n",
    "- 이름만 바꿔서 저장하기"
   ]
  },
  {
   "cell_type": "code",
   "execution_count": 9,
   "id": "7ceffa9c",
   "metadata": {},
   "outputs": [],
   "source": [
    "data.to_csv('multiplayer_new_popular_games.csv',\n",
    "            encoding=\"utf-8-sig\", index=False)"
   ]
  },
  {
   "cell_type": "markdown",
   "id": "1ab45eb0",
   "metadata": {},
   "source": [
    "- 여기까지 진행했을 때 데이터의 수는 12 * n의 값이어야 한다. (n은 range안의 값)\n",
    "- 만약 값이 다르다면 df_list[] 로 확인해보자.\n",
    "- 네트워크 환경에 예민하게 반응한다. (웹 페이지 로딩 속도가 느리다면 time.sleep()을 길게 가지자)\n",
    "- time.sleep()을 많이 사용하다보니 좀 느리다. 기다려보자.\n",
    "- 복붙해서 잘 사용해보자"
   ]
  }
 ],
 "metadata": {
  "kernelspec": {
   "display_name": "Python 3 (ipykernel)",
   "language": "python",
   "name": "python3"
  },
  "language_info": {
   "codemirror_mode": {
    "name": "ipython",
    "version": 3
   },
   "file_extension": ".py",
   "mimetype": "text/x-python",
   "name": "python",
   "nbconvert_exporter": "python",
   "pygments_lexer": "ipython3",
   "version": "3.9.12"
  }
 },
 "nbformat": 4,
 "nbformat_minor": 5
}
