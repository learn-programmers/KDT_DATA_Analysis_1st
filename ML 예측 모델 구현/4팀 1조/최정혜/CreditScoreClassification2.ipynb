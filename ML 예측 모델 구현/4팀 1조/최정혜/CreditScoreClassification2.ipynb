{
 "cells": [
  {
   "cell_type": "markdown",
   "id": "530b7094",
   "metadata": {},
   "source": [
    "## 하이퍼 파라미터 튜닝"
   ]
  },
  {
   "cell_type": "code",
   "execution_count": 1,
   "id": "89e8bc6a",
   "metadata": {},
   "outputs": [],
   "source": [
    "import pandas as pd\n",
    "import numpy as np\n",
    "import matplotlib.pyplot as plt\n",
    "import seaborn as sns\n",
    "\n",
    "from matplotlib import rc\n",
    "rc('font', family='AppleGothic')"
   ]
  },
  {
   "cell_type": "code",
   "execution_count": 2,
   "id": "5b0173bf",
   "metadata": {},
   "outputs": [
    {
     "data": {
      "text/html": [
       "<div>\n",
       "<style scoped>\n",
       "    .dataframe tbody tr th:only-of-type {\n",
       "        vertical-align: middle;\n",
       "    }\n",
       "\n",
       "    .dataframe tbody tr th {\n",
       "        vertical-align: top;\n",
       "    }\n",
       "\n",
       "    .dataframe thead th {\n",
       "        text-align: right;\n",
       "    }\n",
       "</style>\n",
       "<table border=\"1\" class=\"dataframe\">\n",
       "  <thead>\n",
       "    <tr style=\"text-align: right;\">\n",
       "      <th></th>\n",
       "      <th>대출금액</th>\n",
       "      <th>대출기간</th>\n",
       "      <th>근로기간</th>\n",
       "      <th>주택소유상태</th>\n",
       "      <th>부채_대비_소득_비율</th>\n",
       "      <th>총계좌수</th>\n",
       "      <th>대출목적</th>\n",
       "      <th>최근_2년간_연체_횟수</th>\n",
       "      <th>총연체금액</th>\n",
       "      <th>연체계좌수</th>\n",
       "      <th>대출등급</th>\n",
       "      <th>총상환원금비율</th>\n",
       "      <th>총상환이자비율</th>\n",
       "      <th>연간소득_log</th>\n",
       "      <th>총상환원금_log</th>\n",
       "      <th>총상환이자_log</th>\n",
       "    </tr>\n",
       "  </thead>\n",
       "  <tbody>\n",
       "    <tr>\n",
       "      <th>0</th>\n",
       "      <td>12480000</td>\n",
       "      <td>3</td>\n",
       "      <td>6 years</td>\n",
       "      <td>RENT</td>\n",
       "      <td>18.90</td>\n",
       "      <td>15</td>\n",
       "      <td>부채 통합</td>\n",
       "      <td>0</td>\n",
       "      <td>0.0</td>\n",
       "      <td>0.0</td>\n",
       "      <td>C</td>\n",
       "      <td>0.000000</td>\n",
       "      <td>0.000000</td>\n",
       "      <td>18.092177</td>\n",
       "      <td>0.000000</td>\n",
       "      <td>0.000000</td>\n",
       "    </tr>\n",
       "    <tr>\n",
       "      <th>1</th>\n",
       "      <td>14400000</td>\n",
       "      <td>5</td>\n",
       "      <td>10+ years</td>\n",
       "      <td>MORTGAGE</td>\n",
       "      <td>22.33</td>\n",
       "      <td>21</td>\n",
       "      <td>주택 개선</td>\n",
       "      <td>0</td>\n",
       "      <td>0.0</td>\n",
       "      <td>0.0</td>\n",
       "      <td>B</td>\n",
       "      <td>0.025943</td>\n",
       "      <td>0.016254</td>\n",
       "      <td>18.689180</td>\n",
       "      <td>12.830869</td>\n",
       "      <td>12.363337</td>\n",
       "    </tr>\n",
       "    <tr>\n",
       "      <th>2</th>\n",
       "      <td>12000000</td>\n",
       "      <td>3</td>\n",
       "      <td>5 years</td>\n",
       "      <td>MORTGAGE</td>\n",
       "      <td>8.60</td>\n",
       "      <td>14</td>\n",
       "      <td>부채 통합</td>\n",
       "      <td>0</td>\n",
       "      <td>0.0</td>\n",
       "      <td>0.0</td>\n",
       "      <td>A</td>\n",
       "      <td>0.077387</td>\n",
       "      <td>0.012662</td>\n",
       "      <td>18.379859</td>\n",
       "      <td>13.741482</td>\n",
       "      <td>11.931274</td>\n",
       "    </tr>\n",
       "    <tr>\n",
       "      <th>3</th>\n",
       "      <td>14400000</td>\n",
       "      <td>3</td>\n",
       "      <td>8 years</td>\n",
       "      <td>MORTGAGE</td>\n",
       "      <td>15.09</td>\n",
       "      <td>15</td>\n",
       "      <td>부채 통합</td>\n",
       "      <td>0</td>\n",
       "      <td>0.0</td>\n",
       "      <td>0.0</td>\n",
       "      <td>C</td>\n",
       "      <td>0.022627</td>\n",
       "      <td>0.010632</td>\n",
       "      <td>18.698312</td>\n",
       "      <td>12.694116</td>\n",
       "      <td>11.938905</td>\n",
       "    </tr>\n",
       "    <tr>\n",
       "      <th>4</th>\n",
       "      <td>18000000</td>\n",
       "      <td>5</td>\n",
       "      <td>0</td>\n",
       "      <td>RENT</td>\n",
       "      <td>25.39</td>\n",
       "      <td>19</td>\n",
       "      <td>주요 구매</td>\n",
       "      <td>0</td>\n",
       "      <td>0.0</td>\n",
       "      <td>0.0</td>\n",
       "      <td>B</td>\n",
       "      <td>0.012697</td>\n",
       "      <td>0.008275</td>\n",
       "      <td>18.088503</td>\n",
       "      <td>12.339471</td>\n",
       "      <td>11.911413</td>\n",
       "    </tr>\n",
       "  </tbody>\n",
       "</table>\n",
       "</div>"
      ],
      "text/plain": [
       "       대출금액  대출기간       근로기간    주택소유상태  부채_대비_소득_비율  총계좌수   대출목적  \\\n",
       "0  12480000     3    6 years      RENT        18.90    15  부채 통합   \n",
       "1  14400000     5  10+ years  MORTGAGE        22.33    21  주택 개선   \n",
       "2  12000000     3    5 years  MORTGAGE         8.60    14  부채 통합   \n",
       "3  14400000     3    8 years  MORTGAGE        15.09    15  부채 통합   \n",
       "4  18000000     5          0      RENT        25.39    19  주요 구매   \n",
       "\n",
       "   최근_2년간_연체_횟수  총연체금액  연체계좌수 대출등급   총상환원금비율   총상환이자비율   연간소득_log  총상환원금_log  \\\n",
       "0             0    0.0    0.0    C  0.000000  0.000000  18.092177   0.000000   \n",
       "1             0    0.0    0.0    B  0.025943  0.016254  18.689180  12.830869   \n",
       "2             0    0.0    0.0    A  0.077387  0.012662  18.379859  13.741482   \n",
       "3             0    0.0    0.0    C  0.022627  0.010632  18.698312  12.694116   \n",
       "4             0    0.0    0.0    B  0.012697  0.008275  18.088503  12.339471   \n",
       "\n",
       "   총상환이자_log  \n",
       "0   0.000000  \n",
       "1  12.363337  \n",
       "2  11.931274  \n",
       "3  11.938905  \n",
       "4  11.911413  "
      ]
     },
     "execution_count": 2,
     "metadata": {},
     "output_type": "execute_result"
    }
   ],
   "source": [
    "train = pd.read_csv('train_log_feature.csv')\n",
    "train.head()"
   ]
  },
  {
   "cell_type": "code",
   "execution_count": 3,
   "id": "1ba518e2",
   "metadata": {},
   "outputs": [],
   "source": [
    "from sklearn.preprocessing import RobustScaler\n",
    "\n",
    "numeric_cols = ['대출금액', '대출기간', '연간소득_log', '부채_대비_소득_비율', \n",
    "                '총계좌수', '최근_2년간_연체_횟수', '총상환원금_log', '총상환이자_log',\n",
    "               '총연체금액', '연체계좌수', '총상환원금비율', '총상환이자비율']\n",
    "\n",
    "scaler = RobustScaler()\n",
    "train[numeric_cols] = scaler.fit_transform(train[numeric_cols])"
   ]
  },
  {
   "cell_type": "code",
   "execution_count": 4,
   "id": "5cb161b4",
   "metadata": {},
   "outputs": [],
   "source": [
    "from sklearn.preprocessing import LabelEncoder\n",
    "\n",
    "object = train.select_dtypes(include = 'object').columns\n",
    "le = LabelEncoder()\n",
    "for i in object:\n",
    "    if i != '대출등급':\n",
    "        train[i] = le.fit_transform(train[i])"
   ]
  },
  {
   "cell_type": "code",
   "execution_count": 5,
   "id": "ff855d27",
   "metadata": {},
   "outputs": [
    {
     "data": {
      "text/html": [
       "<div>\n",
       "<style scoped>\n",
       "    .dataframe tbody tr th:only-of-type {\n",
       "        vertical-align: middle;\n",
       "    }\n",
       "\n",
       "    .dataframe tbody tr th {\n",
       "        vertical-align: top;\n",
       "    }\n",
       "\n",
       "    .dataframe thead th {\n",
       "        text-align: right;\n",
       "    }\n",
       "</style>\n",
       "<table border=\"1\" class=\"dataframe\">\n",
       "  <thead>\n",
       "    <tr style=\"text-align: right;\">\n",
       "      <th></th>\n",
       "      <th>대출금액</th>\n",
       "      <th>대출기간</th>\n",
       "      <th>근로기간</th>\n",
       "      <th>주택소유상태</th>\n",
       "      <th>부채_대비_소득_비율</th>\n",
       "      <th>총계좌수</th>\n",
       "      <th>대출목적</th>\n",
       "      <th>최근_2년간_연체_횟수</th>\n",
       "      <th>총연체금액</th>\n",
       "      <th>연체계좌수</th>\n",
       "      <th>대출등급</th>\n",
       "      <th>총상환원금비율</th>\n",
       "      <th>총상환이자비율</th>\n",
       "      <th>연간소득_log</th>\n",
       "      <th>총상환원금_log</th>\n",
       "      <th>총상환이자_log</th>\n",
       "    </tr>\n",
       "  </thead>\n",
       "  <tbody>\n",
       "    <tr>\n",
       "      <th>0</th>\n",
       "      <td>-0.313043</td>\n",
       "      <td>0.0</td>\n",
       "      <td>7</td>\n",
       "      <td>2</td>\n",
       "      <td>0.012413</td>\n",
       "      <td>-0.600000</td>\n",
       "      <td>1</td>\n",
       "      <td>0.0</td>\n",
       "      <td>0.0</td>\n",
       "      <td>0.0</td>\n",
       "      <td>C</td>\n",
       "      <td>-0.946399</td>\n",
       "      <td>-0.967514</td>\n",
       "      <td>-0.119095</td>\n",
       "      <td>-10.790385</td>\n",
       "      <td>-8.705597</td>\n",
       "    </tr>\n",
       "    <tr>\n",
       "      <th>1</th>\n",
       "      <td>-0.173913</td>\n",
       "      <td>1.0</td>\n",
       "      <td>2</td>\n",
       "      <td>0</td>\n",
       "      <td>0.278510</td>\n",
       "      <td>-0.200000</td>\n",
       "      <td>10</td>\n",
       "      <td>0.0</td>\n",
       "      <td>0.0</td>\n",
       "      <td>0.0</td>\n",
       "      <td>B</td>\n",
       "      <td>-0.384226</td>\n",
       "      <td>-0.160701</td>\n",
       "      <td>0.769179</td>\n",
       "      <td>-0.381266</td>\n",
       "      <td>-0.141258</td>\n",
       "    </tr>\n",
       "    <tr>\n",
       "      <th>2</th>\n",
       "      <td>-0.347826</td>\n",
       "      <td>0.0</td>\n",
       "      <td>6</td>\n",
       "      <td>0</td>\n",
       "      <td>-0.786656</td>\n",
       "      <td>-0.666667</td>\n",
       "      <td>1</td>\n",
       "      <td>0.0</td>\n",
       "      <td>0.0</td>\n",
       "      <td>0.0</td>\n",
       "      <td>A</td>\n",
       "      <td>0.730573</td>\n",
       "      <td>-0.339006</td>\n",
       "      <td>0.308944</td>\n",
       "      <td>0.357474</td>\n",
       "      <td>-0.440557</td>\n",
       "    </tr>\n",
       "    <tr>\n",
       "      <th>3</th>\n",
       "      <td>-0.173913</td>\n",
       "      <td>0.0</td>\n",
       "      <td>9</td>\n",
       "      <td>0</td>\n",
       "      <td>-0.283165</td>\n",
       "      <td>-0.600000</td>\n",
       "      <td>1</td>\n",
       "      <td>0.0</td>\n",
       "      <td>0.0</td>\n",
       "      <td>0.0</td>\n",
       "      <td>C</td>\n",
       "      <td>-0.456080</td>\n",
       "      <td>-0.439745</td>\n",
       "      <td>0.782767</td>\n",
       "      <td>-0.492208</td>\n",
       "      <td>-0.435271</td>\n",
       "    </tr>\n",
       "    <tr>\n",
       "      <th>4</th>\n",
       "      <td>0.086957</td>\n",
       "      <td>1.0</td>\n",
       "      <td>0</td>\n",
       "      <td>2</td>\n",
       "      <td>0.515904</td>\n",
       "      <td>-0.333333</td>\n",
       "      <td>8</td>\n",
       "      <td>0.0</td>\n",
       "      <td>0.0</td>\n",
       "      <td>0.0</td>\n",
       "      <td>B</td>\n",
       "      <td>-0.671262</td>\n",
       "      <td>-0.556748</td>\n",
       "      <td>-0.124560</td>\n",
       "      <td>-0.779916</td>\n",
       "      <td>-0.454315</td>\n",
       "    </tr>\n",
       "  </tbody>\n",
       "</table>\n",
       "</div>"
      ],
      "text/plain": [
       "       대출금액  대출기간  근로기간  주택소유상태  부채_대비_소득_비율      총계좌수  대출목적  최근_2년간_연체_횟수  \\\n",
       "0 -0.313043   0.0     7       2     0.012413 -0.600000     1           0.0   \n",
       "1 -0.173913   1.0     2       0     0.278510 -0.200000    10           0.0   \n",
       "2 -0.347826   0.0     6       0    -0.786656 -0.666667     1           0.0   \n",
       "3 -0.173913   0.0     9       0    -0.283165 -0.600000     1           0.0   \n",
       "4  0.086957   1.0     0       2     0.515904 -0.333333     8           0.0   \n",
       "\n",
       "   총연체금액  연체계좌수 대출등급   총상환원금비율   총상환이자비율  연간소득_log  총상환원금_log  총상환이자_log  \n",
       "0    0.0    0.0    C -0.946399 -0.967514 -0.119095 -10.790385  -8.705597  \n",
       "1    0.0    0.0    B -0.384226 -0.160701  0.769179  -0.381266  -0.141258  \n",
       "2    0.0    0.0    A  0.730573 -0.339006  0.308944   0.357474  -0.440557  \n",
       "3    0.0    0.0    C -0.456080 -0.439745  0.782767  -0.492208  -0.435271  \n",
       "4    0.0    0.0    B -0.671262 -0.556748 -0.124560  -0.779916  -0.454315  "
      ]
     },
     "execution_count": 5,
     "metadata": {},
     "output_type": "execute_result"
    }
   ],
   "source": [
    "train.head()"
   ]
  },
  {
   "cell_type": "code",
   "execution_count": 6,
   "id": "52eb5285",
   "metadata": {},
   "outputs": [],
   "source": [
    "train_pre = train.copy()"
   ]
  },
  {
   "cell_type": "code",
   "execution_count": 7,
   "id": "4f165bec",
   "metadata": {
    "scrolled": true
   },
   "outputs": [
    {
     "data": {
      "text/html": [
       "<div>\n",
       "<style scoped>\n",
       "    .dataframe tbody tr th:only-of-type {\n",
       "        vertical-align: middle;\n",
       "    }\n",
       "\n",
       "    .dataframe tbody tr th {\n",
       "        vertical-align: top;\n",
       "    }\n",
       "\n",
       "    .dataframe thead th {\n",
       "        text-align: right;\n",
       "    }\n",
       "</style>\n",
       "<table border=\"1\" class=\"dataframe\">\n",
       "  <thead>\n",
       "    <tr style=\"text-align: right;\">\n",
       "      <th></th>\n",
       "      <th>대출금액</th>\n",
       "      <th>대출기간</th>\n",
       "      <th>부채_대비_소득_비율</th>\n",
       "      <th>대출등급</th>\n",
       "      <th>총상환원금비율</th>\n",
       "      <th>총상환이자비율</th>\n",
       "      <th>연간소득_log</th>\n",
       "      <th>총상환원금_log</th>\n",
       "      <th>총상환이자_log</th>\n",
       "    </tr>\n",
       "  </thead>\n",
       "  <tbody>\n",
       "    <tr>\n",
       "      <th>0</th>\n",
       "      <td>-0.313043</td>\n",
       "      <td>0.0</td>\n",
       "      <td>0.012413</td>\n",
       "      <td>C</td>\n",
       "      <td>-0.946399</td>\n",
       "      <td>-0.967514</td>\n",
       "      <td>-0.119095</td>\n",
       "      <td>-10.790385</td>\n",
       "      <td>-8.705597</td>\n",
       "    </tr>\n",
       "    <tr>\n",
       "      <th>1</th>\n",
       "      <td>-0.173913</td>\n",
       "      <td>1.0</td>\n",
       "      <td>0.278510</td>\n",
       "      <td>B</td>\n",
       "      <td>-0.384226</td>\n",
       "      <td>-0.160701</td>\n",
       "      <td>0.769179</td>\n",
       "      <td>-0.381266</td>\n",
       "      <td>-0.141258</td>\n",
       "    </tr>\n",
       "    <tr>\n",
       "      <th>2</th>\n",
       "      <td>-0.347826</td>\n",
       "      <td>0.0</td>\n",
       "      <td>-0.786656</td>\n",
       "      <td>A</td>\n",
       "      <td>0.730573</td>\n",
       "      <td>-0.339006</td>\n",
       "      <td>0.308944</td>\n",
       "      <td>0.357474</td>\n",
       "      <td>-0.440557</td>\n",
       "    </tr>\n",
       "    <tr>\n",
       "      <th>3</th>\n",
       "      <td>-0.173913</td>\n",
       "      <td>0.0</td>\n",
       "      <td>-0.283165</td>\n",
       "      <td>C</td>\n",
       "      <td>-0.456080</td>\n",
       "      <td>-0.439745</td>\n",
       "      <td>0.782767</td>\n",
       "      <td>-0.492208</td>\n",
       "      <td>-0.435271</td>\n",
       "    </tr>\n",
       "    <tr>\n",
       "      <th>4</th>\n",
       "      <td>0.086957</td>\n",
       "      <td>1.0</td>\n",
       "      <td>0.515904</td>\n",
       "      <td>B</td>\n",
       "      <td>-0.671262</td>\n",
       "      <td>-0.556748</td>\n",
       "      <td>-0.124560</td>\n",
       "      <td>-0.779916</td>\n",
       "      <td>-0.454315</td>\n",
       "    </tr>\n",
       "  </tbody>\n",
       "</table>\n",
       "</div>"
      ],
      "text/plain": [
       "       대출금액  대출기간  부채_대비_소득_비율 대출등급   총상환원금비율   총상환이자비율  연간소득_log  총상환원금_log  \\\n",
       "0 -0.313043   0.0     0.012413    C -0.946399 -0.967514 -0.119095 -10.790385   \n",
       "1 -0.173913   1.0     0.278510    B -0.384226 -0.160701  0.769179  -0.381266   \n",
       "2 -0.347826   0.0    -0.786656    A  0.730573 -0.339006  0.308944   0.357474   \n",
       "3 -0.173913   0.0    -0.283165    C -0.456080 -0.439745  0.782767  -0.492208   \n",
       "4  0.086957   1.0     0.515904    B -0.671262 -0.556748 -0.124560  -0.779916   \n",
       "\n",
       "   총상환이자_log  \n",
       "0  -8.705597  \n",
       "1  -0.141258  \n",
       "2  -0.440557  \n",
       "3  -0.435271  \n",
       "4  -0.454315  "
      ]
     },
     "execution_count": 7,
     "metadata": {},
     "output_type": "execute_result"
    }
   ],
   "source": [
    "train_pre.drop(['주택소유상태', '연체계좌수', '총연체금액', '최근_2년간_연체_횟수', '대출목적', '총계좌수', '근로기간'], axis=1, inplace=True)\n",
    "train_pre.head()"
   ]
  },
  {
   "cell_type": "code",
   "execution_count": 13,
   "id": "38d04aba",
   "metadata": {},
   "outputs": [],
   "source": [
    "# 데이터 준비\n",
    "X = train_pre.drop(['대출등급'], axis=1)\n",
    "y = train_pre['대출등급']"
   ]
  },
  {
   "cell_type": "code",
   "execution_count": 27,
   "id": "75c59058",
   "metadata": {},
   "outputs": [],
   "source": [
    "# hyperparameter tuning\n",
    "# 더 많은 옵션을 추가하고 싶지만 노트북 성능상 불가능했음\n",
    "params = {\n",
    "    'n_estimators' : [100, 200],\n",
    "    'max_depth' : [5, 10],\n",
    "    'min_samples_split' : [2, 5],\n",
    "    'min_samples_leaf' : [1, 2],\n",
    "}"
   ]
  },
  {
   "cell_type": "code",
   "execution_count": 19,
   "id": "5ca81392",
   "metadata": {},
   "outputs": [],
   "source": [
    "# 채점 방식\n",
    "scoring = {\n",
    "    'accuracy': make_scorer(accuracy_score),\n",
    "    'f1_score_macro': make_scorer(f1_score, average='macro')\n",
    "}"
   ]
  },
  {
   "cell_type": "code",
   "execution_count": 28,
   "id": "d8ccddfc",
   "metadata": {},
   "outputs": [],
   "source": [
    "# 훈련\n",
    "from sklearn.ensemble import RandomForestClassifier\n",
    "from sklearn.model_selection import cross_validate, StratifiedKFold, GridSearchCV\n",
    "from sklearn.metrics import make_scorer, f1_score, accuracy_score\n",
    "\n",
    "\n",
    "rf = RandomForestClassifier(random_state=42)\n",
    "grid_search = GridSearchCV(estimator=rf, param_grid=params, n_jobs=-1)\n",
    "grid_search.fit(X,y)\n",
    "scores = cross_validate(rf, X, y, cv=StratifiedKFold(), scoring=scoring)"
   ]
  },
  {
   "cell_type": "code",
   "execution_count": 29,
   "id": "17ca53c9",
   "metadata": {},
   "outputs": [
    {
     "name": "stdout",
     "output_type": "stream",
     "text": [
      "{'max_depth': 10, 'min_samples_leaf': 1, 'min_samples_split': 5, 'n_estimators': 200}\n"
     ]
    }
   ],
   "source": [
    "# 최적의 파라미터 확인\n",
    "print(grid_search.best_params_)"
   ]
  },
  {
   "cell_type": "code",
   "execution_count": 31,
   "id": "3ec10d1e",
   "metadata": {},
   "outputs": [],
   "source": [
    "rf = RandomForestClassifier(\n",
    "    n_estimators=200, \n",
    "    max_depth=10, \n",
    "    min_samples_split=5,\n",
    "    min_samples_leaf=1,\n",
    "    n_jobs=-1,\n",
    "    random_state=42\n",
    ")\n",
    "scores = cross_validate(rf, X, y, cv=StratifiedKFold(), scoring=scoring)"
   ]
  },
  {
   "cell_type": "code",
   "execution_count": 32,
   "id": "89aa8cf7",
   "metadata": {},
   "outputs": [
    {
     "name": "stdout",
     "output_type": "stream",
     "text": [
      "0.9328930120924159\n",
      "0.8813791293790807\n"
     ]
    }
   ],
   "source": [
    "print(np.mean(scores['test_accuracy']))\n",
    "print(np.mean(scores['test_f1_score_macro']))"
   ]
  },
  {
   "cell_type": "code",
   "execution_count": 33,
   "id": "b3950cdf",
   "metadata": {},
   "outputs": [
    {
     "name": "stdout",
     "output_type": "stream",
     "text": [
      "대출금액 : 0.028331453737632357\n",
      "대출기간 : 0.03973262699848201\n",
      "부채_대비_소득_비율 : 0.008741991879669982\n",
      "총상환원금비율 : 0.4432029560630235\n",
      "총상환이자비율 : 0.28459223135664086\n",
      "연간소득_log : 0.011493116437557823\n",
      "총상환원금_log : 0.09456812871690952\n",
      "총상환이자_log : 0.08933749481008393\n"
     ]
    }
   ],
   "source": [
    "# 특성 중요도 확인\n",
    "rf.fit(X, y)\n",
    "for feat, importance in zip(X.columns, rf.feature_importances_):\n",
    "    print(f'{feat} : {importance}')"
   ]
  },
  {
   "cell_type": "markdown",
   "id": "c88f1f90",
   "metadata": {},
   "source": [
    "### 결과\n",
    " - 피쳐 8개 + 최적합 파라미터 모델\n",
    "     - 정확도 : 약 93.3%\n",
    "     - F1 score : 약 88.1%\n",
    "     - 피쳐를 추가로 삭제하고 하이퍼 파라미터 튜닝 후 돌린 모델의 성능이 감소한 모습\n",
    " - 그 전 모델은 하이퍼 파라미터 튜닝 없이 돌린 것임으로 해당 모델로 그 전 훈련 세트와 동일하게 피쳐를 담아서 훈련해보기로 결정 (최적합 파라미터 모델 + 피쳐 11개)\n",
    "     - 정확도 : 약 93.5%\n",
    "     - F1 score : 약 88.8%\n",
    "     - 크게 달라지지 않음\n",
    " - 또한 현재 훈련 세트를 최적의 파라미터를 사용하지 않고 시도(피쳐 8개 + 기본값 모델)\n",
    "     - 정확도 : 약 94.5%\n",
    "     - F1 score : 약 92.4%\n",
    "     - 맨 처음 시도(피쳐 여러개 + 기본값 모델)와 아주 비슷한 차이지만 살짝 감소\n",
    "\n",
    " - 이전 결과(피쳐 총 11개, 기본값 모델)\n",
    "     - 정확도 : 약 94.8%\n",
    "     - F1 score : 약 92.8%\n",
    "     \n",
    " - 지금까지 최상의 결과는 피쳐 11개와 기본값 모델"
   ]
  },
  {
   "cell_type": "code",
   "execution_count": 34,
   "id": "704f172d",
   "metadata": {},
   "outputs": [],
   "source": [
    "# 현재 모델로 이전 훈련 세트 적용해보기\n",
    "X2 = train[['대출금액', '대출기간', '근로기간', \n",
    "            '부채_대비_소득_비율', '총계좌수', '대출목적', \n",
    "            '총상환원금비율', '총상환이자비율', '연간소득_log', \n",
    "            '총상환원금_log', '총상환이자_log']]\n",
    "y2 = train['대출등급']"
   ]
  },
  {
   "cell_type": "code",
   "execution_count": 35,
   "id": "5737df05",
   "metadata": {},
   "outputs": [
    {
     "name": "stdout",
     "output_type": "stream",
     "text": [
      "0.9351880942152141\n",
      "0.888128237526035\n"
     ]
    }
   ],
   "source": [
    "scores = cross_validate(rf, X2, y2, cv=StratifiedKFold(), scoring=scoring)\n",
    "print(np.mean(scores['test_accuracy']))\n",
    "print(np.mean(scores['test_f1_score_macro']))"
   ]
  },
  {
   "cell_type": "code",
   "execution_count": 36,
   "id": "526f576e",
   "metadata": {},
   "outputs": [
    {
     "data": {
      "text/html": [
       "<div>\n",
       "<style scoped>\n",
       "    .dataframe tbody tr th:only-of-type {\n",
       "        vertical-align: middle;\n",
       "    }\n",
       "\n",
       "    .dataframe tbody tr th {\n",
       "        vertical-align: top;\n",
       "    }\n",
       "\n",
       "    .dataframe thead th {\n",
       "        text-align: right;\n",
       "    }\n",
       "</style>\n",
       "<table border=\"1\" class=\"dataframe\">\n",
       "  <thead>\n",
       "    <tr style=\"text-align: right;\">\n",
       "      <th></th>\n",
       "      <th>대출금액</th>\n",
       "      <th>대출기간</th>\n",
       "      <th>부채_대비_소득_비율</th>\n",
       "      <th>총상환원금비율</th>\n",
       "      <th>총상환이자비율</th>\n",
       "      <th>연간소득_log</th>\n",
       "      <th>총상환원금_log</th>\n",
       "      <th>총상환이자_log</th>\n",
       "    </tr>\n",
       "  </thead>\n",
       "  <tbody>\n",
       "    <tr>\n",
       "      <th>0</th>\n",
       "      <td>-0.313043</td>\n",
       "      <td>0.0</td>\n",
       "      <td>0.012413</td>\n",
       "      <td>-0.946399</td>\n",
       "      <td>-0.967514</td>\n",
       "      <td>-0.119095</td>\n",
       "      <td>-10.790385</td>\n",
       "      <td>-8.705597</td>\n",
       "    </tr>\n",
       "    <tr>\n",
       "      <th>1</th>\n",
       "      <td>-0.173913</td>\n",
       "      <td>1.0</td>\n",
       "      <td>0.278510</td>\n",
       "      <td>-0.384226</td>\n",
       "      <td>-0.160701</td>\n",
       "      <td>0.769179</td>\n",
       "      <td>-0.381266</td>\n",
       "      <td>-0.141258</td>\n",
       "    </tr>\n",
       "    <tr>\n",
       "      <th>2</th>\n",
       "      <td>-0.347826</td>\n",
       "      <td>0.0</td>\n",
       "      <td>-0.786656</td>\n",
       "      <td>0.730573</td>\n",
       "      <td>-0.339006</td>\n",
       "      <td>0.308944</td>\n",
       "      <td>0.357474</td>\n",
       "      <td>-0.440557</td>\n",
       "    </tr>\n",
       "    <tr>\n",
       "      <th>3</th>\n",
       "      <td>-0.173913</td>\n",
       "      <td>0.0</td>\n",
       "      <td>-0.283165</td>\n",
       "      <td>-0.456080</td>\n",
       "      <td>-0.439745</td>\n",
       "      <td>0.782767</td>\n",
       "      <td>-0.492208</td>\n",
       "      <td>-0.435271</td>\n",
       "    </tr>\n",
       "    <tr>\n",
       "      <th>4</th>\n",
       "      <td>0.086957</td>\n",
       "      <td>1.0</td>\n",
       "      <td>0.515904</td>\n",
       "      <td>-0.671262</td>\n",
       "      <td>-0.556748</td>\n",
       "      <td>-0.124560</td>\n",
       "      <td>-0.779916</td>\n",
       "      <td>-0.454315</td>\n",
       "    </tr>\n",
       "  </tbody>\n",
       "</table>\n",
       "</div>"
      ],
      "text/plain": [
       "       대출금액  대출기간  부채_대비_소득_비율   총상환원금비율   총상환이자비율  연간소득_log  총상환원금_log  \\\n",
       "0 -0.313043   0.0     0.012413 -0.946399 -0.967514 -0.119095 -10.790385   \n",
       "1 -0.173913   1.0     0.278510 -0.384226 -0.160701  0.769179  -0.381266   \n",
       "2 -0.347826   0.0    -0.786656  0.730573 -0.339006  0.308944   0.357474   \n",
       "3 -0.173913   0.0    -0.283165 -0.456080 -0.439745  0.782767  -0.492208   \n",
       "4  0.086957   1.0     0.515904 -0.671262 -0.556748 -0.124560  -0.779916   \n",
       "\n",
       "   총상환이자_log  \n",
       "0  -8.705597  \n",
       "1  -0.141258  \n",
       "2  -0.440557  \n",
       "3  -0.435271  \n",
       "4  -0.454315  "
      ]
     },
     "execution_count": 36,
     "metadata": {},
     "output_type": "execute_result"
    }
   ],
   "source": [
    "X.head()"
   ]
  },
  {
   "cell_type": "code",
   "execution_count": 37,
   "id": "73ec99f2",
   "metadata": {},
   "outputs": [
    {
     "name": "stdout",
     "output_type": "stream",
     "text": [
      "0.9453548590502978\n",
      "0.9241434712734915\n"
     ]
    }
   ],
   "source": [
    "# X와 y를 랜덤포레스트의 기본값으로 훈련\n",
    "rf = RandomForestClassifier(random_state=42)\n",
    "scores = cross_validate(rf, X, y, cv=StratifiedKFold(), scoring=scoring)\n",
    "print(np.mean(scores['test_accuracy']))\n",
    "print(np.mean(scores['test_f1_score_macro']))"
   ]
  },
  {
   "cell_type": "code",
   "execution_count": 38,
   "id": "0b0cea35",
   "metadata": {},
   "outputs": [
    {
     "name": "stdout",
     "output_type": "stream",
     "text": [
      "[0.04962491 0.02863753 0.03709341 0.4232199  0.24583348 0.03265849\n",
      " 0.09759904 0.08533324]\n"
     ]
    }
   ],
   "source": [
    "rf.fit(X, y)"
   ]
  },
  {
   "cell_type": "code",
   "execution_count": 39,
   "id": "73a6d7bd",
   "metadata": {},
   "outputs": [
    {
     "name": "stdout",
     "output_type": "stream",
     "text": [
      "대출금액 : 0.04962490874847182\n",
      "대출기간 : 0.028637532128435794\n",
      "부채_대비_소득_비율 : 0.03709340777850663\n",
      "총상환원금비율 : 0.4232198998317799\n",
      "총상환이자비율 : 0.24583348457564794\n",
      "연간소득_log : 0.03265848801847649\n",
      "총상환원금_log : 0.0975990379505733\n",
      "총상환이자_log : 0.08533324096810813\n"
     ]
    }
   ],
   "source": [
    "for feat, importance in zip(X.columns, rf.feature_importances_):\n",
    "    print(f'{feat} : {importance}')"
   ]
  },
  {
   "cell_type": "code",
   "execution_count": 7,
   "id": "e164272a",
   "metadata": {},
   "outputs": [
    {
     "data": {
      "text/html": [
       "<div>\n",
       "<style scoped>\n",
       "    .dataframe tbody tr th:only-of-type {\n",
       "        vertical-align: middle;\n",
       "    }\n",
       "\n",
       "    .dataframe tbody tr th {\n",
       "        vertical-align: top;\n",
       "    }\n",
       "\n",
       "    .dataframe thead th {\n",
       "        text-align: right;\n",
       "    }\n",
       "</style>\n",
       "<table border=\"1\" class=\"dataframe\">\n",
       "  <thead>\n",
       "    <tr style=\"text-align: right;\">\n",
       "      <th></th>\n",
       "      <th>대출금액</th>\n",
       "      <th>대출기간</th>\n",
       "      <th>근로기간</th>\n",
       "      <th>주택소유상태</th>\n",
       "      <th>부채_대비_소득_비율</th>\n",
       "      <th>총계좌수</th>\n",
       "      <th>대출목적</th>\n",
       "      <th>최근_2년간_연체_횟수</th>\n",
       "      <th>총연체금액</th>\n",
       "      <th>연체계좌수</th>\n",
       "      <th>대출등급</th>\n",
       "      <th>총상환원금비율</th>\n",
       "      <th>총상환이자비율</th>\n",
       "      <th>연간소득_log</th>\n",
       "      <th>총상환원금_log</th>\n",
       "      <th>총상환이자_log</th>\n",
       "    </tr>\n",
       "  </thead>\n",
       "  <tbody>\n",
       "    <tr>\n",
       "      <th>0</th>\n",
       "      <td>-0.313043</td>\n",
       "      <td>0.0</td>\n",
       "      <td>7</td>\n",
       "      <td>2</td>\n",
       "      <td>0.012413</td>\n",
       "      <td>-0.600000</td>\n",
       "      <td>1</td>\n",
       "      <td>0.0</td>\n",
       "      <td>0.0</td>\n",
       "      <td>0.0</td>\n",
       "      <td>C</td>\n",
       "      <td>-0.946399</td>\n",
       "      <td>-0.967514</td>\n",
       "      <td>-0.119095</td>\n",
       "      <td>-10.790385</td>\n",
       "      <td>-8.705597</td>\n",
       "    </tr>\n",
       "    <tr>\n",
       "      <th>1</th>\n",
       "      <td>-0.173913</td>\n",
       "      <td>1.0</td>\n",
       "      <td>2</td>\n",
       "      <td>0</td>\n",
       "      <td>0.278510</td>\n",
       "      <td>-0.200000</td>\n",
       "      <td>10</td>\n",
       "      <td>0.0</td>\n",
       "      <td>0.0</td>\n",
       "      <td>0.0</td>\n",
       "      <td>B</td>\n",
       "      <td>-0.384226</td>\n",
       "      <td>-0.160701</td>\n",
       "      <td>0.769179</td>\n",
       "      <td>-0.381266</td>\n",
       "      <td>-0.141258</td>\n",
       "    </tr>\n",
       "    <tr>\n",
       "      <th>2</th>\n",
       "      <td>-0.347826</td>\n",
       "      <td>0.0</td>\n",
       "      <td>6</td>\n",
       "      <td>0</td>\n",
       "      <td>-0.786656</td>\n",
       "      <td>-0.666667</td>\n",
       "      <td>1</td>\n",
       "      <td>0.0</td>\n",
       "      <td>0.0</td>\n",
       "      <td>0.0</td>\n",
       "      <td>A</td>\n",
       "      <td>0.730573</td>\n",
       "      <td>-0.339006</td>\n",
       "      <td>0.308944</td>\n",
       "      <td>0.357474</td>\n",
       "      <td>-0.440557</td>\n",
       "    </tr>\n",
       "    <tr>\n",
       "      <th>3</th>\n",
       "      <td>-0.173913</td>\n",
       "      <td>0.0</td>\n",
       "      <td>9</td>\n",
       "      <td>0</td>\n",
       "      <td>-0.283165</td>\n",
       "      <td>-0.600000</td>\n",
       "      <td>1</td>\n",
       "      <td>0.0</td>\n",
       "      <td>0.0</td>\n",
       "      <td>0.0</td>\n",
       "      <td>C</td>\n",
       "      <td>-0.456080</td>\n",
       "      <td>-0.439745</td>\n",
       "      <td>0.782767</td>\n",
       "      <td>-0.492208</td>\n",
       "      <td>-0.435271</td>\n",
       "    </tr>\n",
       "    <tr>\n",
       "      <th>4</th>\n",
       "      <td>0.086957</td>\n",
       "      <td>1.0</td>\n",
       "      <td>0</td>\n",
       "      <td>2</td>\n",
       "      <td>0.515904</td>\n",
       "      <td>-0.333333</td>\n",
       "      <td>8</td>\n",
       "      <td>0.0</td>\n",
       "      <td>0.0</td>\n",
       "      <td>0.0</td>\n",
       "      <td>B</td>\n",
       "      <td>-0.671262</td>\n",
       "      <td>-0.556748</td>\n",
       "      <td>-0.124560</td>\n",
       "      <td>-0.779916</td>\n",
       "      <td>-0.454315</td>\n",
       "    </tr>\n",
       "  </tbody>\n",
       "</table>\n",
       "</div>"
      ],
      "text/plain": [
       "       대출금액  대출기간  근로기간  주택소유상태  부채_대비_소득_비율      총계좌수  대출목적  최근_2년간_연체_횟수  \\\n",
       "0 -0.313043   0.0     7       2     0.012413 -0.600000     1           0.0   \n",
       "1 -0.173913   1.0     2       0     0.278510 -0.200000    10           0.0   \n",
       "2 -0.347826   0.0     6       0    -0.786656 -0.666667     1           0.0   \n",
       "3 -0.173913   0.0     9       0    -0.283165 -0.600000     1           0.0   \n",
       "4  0.086957   1.0     0       2     0.515904 -0.333333     8           0.0   \n",
       "\n",
       "   총연체금액  연체계좌수 대출등급   총상환원금비율   총상환이자비율  연간소득_log  총상환원금_log  총상환이자_log  \n",
       "0    0.0    0.0    C -0.946399 -0.967514 -0.119095 -10.790385  -8.705597  \n",
       "1    0.0    0.0    B -0.384226 -0.160701  0.769179  -0.381266  -0.141258  \n",
       "2    0.0    0.0    A  0.730573 -0.339006  0.308944   0.357474  -0.440557  \n",
       "3    0.0    0.0    C -0.456080 -0.439745  0.782767  -0.492208  -0.435271  \n",
       "4    0.0    0.0    B -0.671262 -0.556748 -0.124560  -0.779916  -0.454315  "
      ]
     },
     "execution_count": 7,
     "metadata": {},
     "output_type": "execute_result"
    }
   ],
   "source": [
    "train_pre.head()"
   ]
  },
  {
   "cell_type": "markdown",
   "id": "667779d8",
   "metadata": {},
   "source": [
    "## 시도 결과\n",
    "- 피쳐 5개 + 기본 모델\n",
    "    - 정확도 : 94.6%\n",
    "    - F1 score : 93.2%\n",
    "    - 직전 최고 성적보다 정확도는 떨어지지만 F1 score가 오른 모습! -> 일반화가 된 것일수도\n",
    "- 피쳐 4개 + 기본 모델 (연간소득_log 제외)\n",
    "    - 정확도 : 94.7%\n",
    "    - F1 score : 93.9%\n",
    "    - 정확도와 F1 score 모두 미세하게 증가\n",
    "- 피쳐 4개 + 튜닝 모델\n",
    "    - 정확도 : 94.0%\n",
    "    - F1 score : 92.0%\n",
    "- 이상치 제거한 피쳐 6개 + 기본 모델\n",
    "    - 정확도 : 94.7%\n",
    "    - F1 score : 92.6%\n",
    "    - 큰 차이 없음"
   ]
  },
  {
   "cell_type": "code",
   "execution_count": 10,
   "id": "78dbfc81",
   "metadata": {},
   "outputs": [],
   "source": [
    "# 피쳐 개수 과감하게 줄여보기\n",
    "train_small = train_pre.drop(['대출목적', '최근_2년간_연체_횟수', '근로기간', '주택소유상태', '총계좌수', '총연체금액', '연체계좌수', '대출기간', '부채_대비_소득_비율'], axis=1)"
   ]
  },
  {
   "cell_type": "code",
   "execution_count": 12,
   "id": "c7ac8975",
   "metadata": {},
   "outputs": [],
   "source": [
    "# 대출금액은 총상환이자와 상관계수가 0.62 -> 제외 결정\n",
    "train_small.drop(['대출금액'], axis=1, inplace=True)"
   ]
  },
  {
   "cell_type": "code",
   "execution_count": 13,
   "id": "3dd30f2b",
   "metadata": {},
   "outputs": [],
   "source": [
    "X3 = train_small.drop(['대출등급'], axis=1)\n",
    "y3 = train_small['대출등급']"
   ]
  },
  {
   "cell_type": "code",
   "execution_count": 15,
   "id": "15d04b96",
   "metadata": {},
   "outputs": [],
   "source": [
    "# 채점 방식\n",
    "from sklearn.metrics import make_scorer, f1_score, accuracy_score\n",
    "\n",
    "scoring = {\n",
    "    'accuracy': make_scorer(accuracy_score),\n",
    "    'f1_score_macro': make_scorer(f1_score, average='macro')\n",
    "}"
   ]
  },
  {
   "cell_type": "code",
   "execution_count": 16,
   "id": "02c7c3c2",
   "metadata": {},
   "outputs": [],
   "source": [
    "# 훈련(피쳐 5개 + 기본 모델)\n",
    "from sklearn.ensemble import RandomForestClassifier\n",
    "from sklearn.model_selection import cross_validate, StratifiedKFold\n",
    "\n",
    "rf = RandomForestClassifier(random_state=42)\n",
    "scores = cross_validate(rf, X3, y3, cv=StratifiedKFold(), scoring=scoring)"
   ]
  },
  {
   "cell_type": "code",
   "execution_count": 17,
   "id": "1c5b9b33",
   "metadata": {},
   "outputs": [
    {
     "name": "stdout",
     "output_type": "stream",
     "text": [
      "0.945614468223396\n",
      "0.9322792604697685\n"
     ]
    }
   ],
   "source": [
    "print(np.mean(scores['test_accuracy']))\n",
    "print(np.mean(scores['test_f1_score_macro']))"
   ]
  },
  {
   "cell_type": "code",
   "execution_count": 18,
   "id": "775ed1cd",
   "metadata": {
    "scrolled": true
   },
   "outputs": [
    {
     "name": "stdout",
     "output_type": "stream",
     "text": [
      "총상환원금비율 : 0.528145527456929\n",
      "총상환이자비율 : 0.3105855066471978\n",
      "연간소득_log : 0.02296593909234489\n",
      "총상환원금_log : 0.07052244583780987\n",
      "총상환이자_log : 0.06778058096571854\n"
     ]
    }
   ],
   "source": [
    "# 특성 중요도 확인\n",
    "rf.fit(X3, y3)\n",
    "for feat, importance in zip(X3.columns, rf.feature_importances_):\n",
    "    print(f'{feat} : {importance}')"
   ]
  },
  {
   "cell_type": "code",
   "execution_count": 19,
   "id": "fb9cb78f",
   "metadata": {},
   "outputs": [],
   "source": [
    "# 연간소득_log도 제외\n",
    "X4 = X3.drop(['연간소득_log'], axis=1)\n",
    "y4 = y3.copy()"
   ]
  },
  {
   "cell_type": "code",
   "execution_count": 20,
   "id": "22a8686c",
   "metadata": {},
   "outputs": [
    {
     "data": {
      "text/html": [
       "<div>\n",
       "<style scoped>\n",
       "    .dataframe tbody tr th:only-of-type {\n",
       "        vertical-align: middle;\n",
       "    }\n",
       "\n",
       "    .dataframe tbody tr th {\n",
       "        vertical-align: top;\n",
       "    }\n",
       "\n",
       "    .dataframe thead th {\n",
       "        text-align: right;\n",
       "    }\n",
       "</style>\n",
       "<table border=\"1\" class=\"dataframe\">\n",
       "  <thead>\n",
       "    <tr style=\"text-align: right;\">\n",
       "      <th></th>\n",
       "      <th>총상환원금비율</th>\n",
       "      <th>총상환이자비율</th>\n",
       "      <th>총상환원금_log</th>\n",
       "      <th>총상환이자_log</th>\n",
       "    </tr>\n",
       "  </thead>\n",
       "  <tbody>\n",
       "    <tr>\n",
       "      <th>0</th>\n",
       "      <td>-0.946399</td>\n",
       "      <td>-0.967514</td>\n",
       "      <td>-10.790385</td>\n",
       "      <td>-8.705597</td>\n",
       "    </tr>\n",
       "    <tr>\n",
       "      <th>1</th>\n",
       "      <td>-0.384226</td>\n",
       "      <td>-0.160701</td>\n",
       "      <td>-0.381266</td>\n",
       "      <td>-0.141258</td>\n",
       "    </tr>\n",
       "    <tr>\n",
       "      <th>2</th>\n",
       "      <td>0.730573</td>\n",
       "      <td>-0.339006</td>\n",
       "      <td>0.357474</td>\n",
       "      <td>-0.440557</td>\n",
       "    </tr>\n",
       "    <tr>\n",
       "      <th>3</th>\n",
       "      <td>-0.456080</td>\n",
       "      <td>-0.439745</td>\n",
       "      <td>-0.492208</td>\n",
       "      <td>-0.435271</td>\n",
       "    </tr>\n",
       "    <tr>\n",
       "      <th>4</th>\n",
       "      <td>-0.671262</td>\n",
       "      <td>-0.556748</td>\n",
       "      <td>-0.779916</td>\n",
       "      <td>-0.454315</td>\n",
       "    </tr>\n",
       "  </tbody>\n",
       "</table>\n",
       "</div>"
      ],
      "text/plain": [
       "    총상환원금비율   총상환이자비율  총상환원금_log  총상환이자_log\n",
       "0 -0.946399 -0.967514 -10.790385  -8.705597\n",
       "1 -0.384226 -0.160701  -0.381266  -0.141258\n",
       "2  0.730573 -0.339006   0.357474  -0.440557\n",
       "3 -0.456080 -0.439745  -0.492208  -0.435271\n",
       "4 -0.671262 -0.556748  -0.779916  -0.454315"
      ]
     },
     "execution_count": 20,
     "metadata": {},
     "output_type": "execute_result"
    }
   ],
   "source": [
    "X4.head()"
   ]
  },
  {
   "cell_type": "code",
   "execution_count": 21,
   "id": "97619aaf",
   "metadata": {},
   "outputs": [],
   "source": [
    "# 훈련(피쳐 4개 + 기본 모델)\n",
    "rf = RandomForestClassifier(random_state=42)\n",
    "scores = cross_validate(rf, X4, y4, cv=StratifiedKFold(), scoring=scoring)"
   ]
  },
  {
   "cell_type": "code",
   "execution_count": 22,
   "id": "3da4c572",
   "metadata": {},
   "outputs": [
    {
     "name": "stdout",
     "output_type": "stream",
     "text": [
      "0.9465906508483266\n",
      "0.9394670158995316\n"
     ]
    }
   ],
   "source": [
    "print(np.mean(scores['test_accuracy']))\n",
    "print(np.mean(scores['test_f1_score_macro']))"
   ]
  },
  {
   "cell_type": "code",
   "execution_count": 23,
   "id": "3515d3be",
   "metadata": {},
   "outputs": [],
   "source": [
    "# 튜닝된 모델 + 피쳐 4개(총상환원금비율, 총상환이자비율, 총상환원금_log, 총상환이자_log)\n",
    "rf = RandomForestClassifier(\n",
    "    n_estimators=200, \n",
    "    max_depth=10, \n",
    "    min_samples_split=5,\n",
    "    min_samples_leaf=1,\n",
    "    n_jobs=-1,\n",
    "    random_state=42\n",
    ")\n",
    "scores = cross_validate(rf, X4, y4, cv=StratifiedKFold(), scoring=scoring)"
   ]
  },
  {
   "cell_type": "code",
   "execution_count": 24,
   "id": "0dd44742",
   "metadata": {},
   "outputs": [
    {
     "name": "stdout",
     "output_type": "stream",
     "text": [
      "0.9396431703644863\n",
      "0.9203564981742591\n"
     ]
    }
   ],
   "source": [
    "print(np.mean(scores['test_accuracy']))\n",
    "print(np.mean(scores['test_f1_score_macro']))"
   ]
  },
  {
   "cell_type": "code",
   "execution_count": 26,
   "id": "6c91844f",
   "metadata": {},
   "outputs": [
    {
     "data": {
      "text/html": [
       "<div>\n",
       "<style scoped>\n",
       "    .dataframe tbody tr th:only-of-type {\n",
       "        vertical-align: middle;\n",
       "    }\n",
       "\n",
       "    .dataframe tbody tr th {\n",
       "        vertical-align: top;\n",
       "    }\n",
       "\n",
       "    .dataframe thead th {\n",
       "        text-align: right;\n",
       "    }\n",
       "</style>\n",
       "<table border=\"1\" class=\"dataframe\">\n",
       "  <thead>\n",
       "    <tr style=\"text-align: right;\">\n",
       "      <th></th>\n",
       "      <th>총상환원금비율</th>\n",
       "      <th>총상환이자비율</th>\n",
       "      <th>총상환원금_log</th>\n",
       "      <th>총상환이자_log</th>\n",
       "    </tr>\n",
       "  </thead>\n",
       "  <tbody>\n",
       "    <tr>\n",
       "      <th>0</th>\n",
       "      <td>-0.946399</td>\n",
       "      <td>-0.967514</td>\n",
       "      <td>-10.790385</td>\n",
       "      <td>-8.705597</td>\n",
       "    </tr>\n",
       "    <tr>\n",
       "      <th>1</th>\n",
       "      <td>-0.384226</td>\n",
       "      <td>-0.160701</td>\n",
       "      <td>-0.381266</td>\n",
       "      <td>-0.141258</td>\n",
       "    </tr>\n",
       "    <tr>\n",
       "      <th>2</th>\n",
       "      <td>0.730573</td>\n",
       "      <td>-0.339006</td>\n",
       "      <td>0.357474</td>\n",
       "      <td>-0.440557</td>\n",
       "    </tr>\n",
       "    <tr>\n",
       "      <th>3</th>\n",
       "      <td>-0.456080</td>\n",
       "      <td>-0.439745</td>\n",
       "      <td>-0.492208</td>\n",
       "      <td>-0.435271</td>\n",
       "    </tr>\n",
       "    <tr>\n",
       "      <th>4</th>\n",
       "      <td>-0.671262</td>\n",
       "      <td>-0.556748</td>\n",
       "      <td>-0.779916</td>\n",
       "      <td>-0.454315</td>\n",
       "    </tr>\n",
       "  </tbody>\n",
       "</table>\n",
       "</div>"
      ],
      "text/plain": [
       "    총상환원금비율   총상환이자비율  총상환원금_log  총상환이자_log\n",
       "0 -0.946399 -0.967514 -10.790385  -8.705597\n",
       "1 -0.384226 -0.160701  -0.381266  -0.141258\n",
       "2  0.730573 -0.339006   0.357474  -0.440557\n",
       "3 -0.456080 -0.439745  -0.492208  -0.435271\n",
       "4 -0.671262 -0.556748  -0.779916  -0.454315"
      ]
     },
     "execution_count": 26,
     "metadata": {},
     "output_type": "execute_result"
    }
   ],
   "source": [
    "X4.head()"
   ]
  },
  {
   "cell_type": "markdown",
   "id": "1ef09b89",
   "metadata": {},
   "source": [
    "## 이상치 제거"
   ]
  },
  {
   "cell_type": "code",
   "execution_count": 10,
   "id": "c526b406",
   "metadata": {},
   "outputs": [
    {
     "data": {
      "text/html": [
       "<div>\n",
       "<style scoped>\n",
       "    .dataframe tbody tr th:only-of-type {\n",
       "        vertical-align: middle;\n",
       "    }\n",
       "\n",
       "    .dataframe tbody tr th {\n",
       "        vertical-align: top;\n",
       "    }\n",
       "\n",
       "    .dataframe thead th {\n",
       "        text-align: right;\n",
       "    }\n",
       "</style>\n",
       "<table border=\"1\" class=\"dataframe\">\n",
       "  <thead>\n",
       "    <tr style=\"text-align: right;\">\n",
       "      <th></th>\n",
       "      <th>대출금액</th>\n",
       "      <th>대출기간</th>\n",
       "      <th>근로기간</th>\n",
       "      <th>주택소유상태</th>\n",
       "      <th>부채_대비_소득_비율</th>\n",
       "      <th>총계좌수</th>\n",
       "      <th>대출목적</th>\n",
       "      <th>최근_2년간_연체_횟수</th>\n",
       "      <th>총연체금액</th>\n",
       "      <th>연체계좌수</th>\n",
       "      <th>대출등급</th>\n",
       "      <th>총상환원금비율</th>\n",
       "      <th>총상환이자비율</th>\n",
       "      <th>연간소득_log</th>\n",
       "      <th>총상환원금_log</th>\n",
       "      <th>총상환이자_log</th>\n",
       "    </tr>\n",
       "  </thead>\n",
       "  <tbody>\n",
       "    <tr>\n",
       "      <th>0</th>\n",
       "      <td>12480000</td>\n",
       "      <td>3</td>\n",
       "      <td>6 years</td>\n",
       "      <td>RENT</td>\n",
       "      <td>18.90</td>\n",
       "      <td>15</td>\n",
       "      <td>부채 통합</td>\n",
       "      <td>0</td>\n",
       "      <td>0.0</td>\n",
       "      <td>0.0</td>\n",
       "      <td>C</td>\n",
       "      <td>0.000000</td>\n",
       "      <td>0.000000</td>\n",
       "      <td>18.092177</td>\n",
       "      <td>0.000000</td>\n",
       "      <td>0.000000</td>\n",
       "    </tr>\n",
       "    <tr>\n",
       "      <th>1</th>\n",
       "      <td>14400000</td>\n",
       "      <td>5</td>\n",
       "      <td>10+ years</td>\n",
       "      <td>MORTGAGE</td>\n",
       "      <td>22.33</td>\n",
       "      <td>21</td>\n",
       "      <td>주택 개선</td>\n",
       "      <td>0</td>\n",
       "      <td>0.0</td>\n",
       "      <td>0.0</td>\n",
       "      <td>B</td>\n",
       "      <td>0.025943</td>\n",
       "      <td>0.016254</td>\n",
       "      <td>18.689180</td>\n",
       "      <td>12.830869</td>\n",
       "      <td>12.363337</td>\n",
       "    </tr>\n",
       "    <tr>\n",
       "      <th>2</th>\n",
       "      <td>12000000</td>\n",
       "      <td>3</td>\n",
       "      <td>5 years</td>\n",
       "      <td>MORTGAGE</td>\n",
       "      <td>8.60</td>\n",
       "      <td>14</td>\n",
       "      <td>부채 통합</td>\n",
       "      <td>0</td>\n",
       "      <td>0.0</td>\n",
       "      <td>0.0</td>\n",
       "      <td>A</td>\n",
       "      <td>0.077387</td>\n",
       "      <td>0.012662</td>\n",
       "      <td>18.379859</td>\n",
       "      <td>13.741482</td>\n",
       "      <td>11.931274</td>\n",
       "    </tr>\n",
       "    <tr>\n",
       "      <th>3</th>\n",
       "      <td>14400000</td>\n",
       "      <td>3</td>\n",
       "      <td>8 years</td>\n",
       "      <td>MORTGAGE</td>\n",
       "      <td>15.09</td>\n",
       "      <td>15</td>\n",
       "      <td>부채 통합</td>\n",
       "      <td>0</td>\n",
       "      <td>0.0</td>\n",
       "      <td>0.0</td>\n",
       "      <td>C</td>\n",
       "      <td>0.022627</td>\n",
       "      <td>0.010632</td>\n",
       "      <td>18.698312</td>\n",
       "      <td>12.694116</td>\n",
       "      <td>11.938905</td>\n",
       "    </tr>\n",
       "    <tr>\n",
       "      <th>4</th>\n",
       "      <td>18000000</td>\n",
       "      <td>5</td>\n",
       "      <td>0</td>\n",
       "      <td>RENT</td>\n",
       "      <td>25.39</td>\n",
       "      <td>19</td>\n",
       "      <td>주요 구매</td>\n",
       "      <td>0</td>\n",
       "      <td>0.0</td>\n",
       "      <td>0.0</td>\n",
       "      <td>B</td>\n",
       "      <td>0.012697</td>\n",
       "      <td>0.008275</td>\n",
       "      <td>18.088503</td>\n",
       "      <td>12.339471</td>\n",
       "      <td>11.911413</td>\n",
       "    </tr>\n",
       "  </tbody>\n",
       "</table>\n",
       "</div>"
      ],
      "text/plain": [
       "       대출금액  대출기간       근로기간    주택소유상태  부채_대비_소득_비율  총계좌수   대출목적  \\\n",
       "0  12480000     3    6 years      RENT        18.90    15  부채 통합   \n",
       "1  14400000     5  10+ years  MORTGAGE        22.33    21  주택 개선   \n",
       "2  12000000     3    5 years  MORTGAGE         8.60    14  부채 통합   \n",
       "3  14400000     3    8 years  MORTGAGE        15.09    15  부채 통합   \n",
       "4  18000000     5          0      RENT        25.39    19  주요 구매   \n",
       "\n",
       "   최근_2년간_연체_횟수  총연체금액  연체계좌수 대출등급   총상환원금비율   총상환이자비율   연간소득_log  총상환원금_log  \\\n",
       "0             0    0.0    0.0    C  0.000000  0.000000  18.092177   0.000000   \n",
       "1             0    0.0    0.0    B  0.025943  0.016254  18.689180  12.830869   \n",
       "2             0    0.0    0.0    A  0.077387  0.012662  18.379859  13.741482   \n",
       "3             0    0.0    0.0    C  0.022627  0.010632  18.698312  12.694116   \n",
       "4             0    0.0    0.0    B  0.012697  0.008275  18.088503  12.339471   \n",
       "\n",
       "   총상환이자_log  \n",
       "0   0.000000  \n",
       "1  12.363337  \n",
       "2  11.931274  \n",
       "3  11.938905  \n",
       "4  11.911413  "
      ]
     },
     "execution_count": 10,
     "metadata": {},
     "output_type": "execute_result"
    }
   ],
   "source": [
    "# 스케일링 전 데이터로 이상치 확인하기\n",
    "train = pd.read_csv('train_log_feature.csv')\n",
    "train.head()"
   ]
  },
  {
   "cell_type": "code",
   "execution_count": 11,
   "id": "b53272c4",
   "metadata": {},
   "outputs": [
    {
     "data": {
      "text/html": [
       "<div>\n",
       "<style scoped>\n",
       "    .dataframe tbody tr th:only-of-type {\n",
       "        vertical-align: middle;\n",
       "    }\n",
       "\n",
       "    .dataframe tbody tr th {\n",
       "        vertical-align: top;\n",
       "    }\n",
       "\n",
       "    .dataframe thead th {\n",
       "        text-align: right;\n",
       "    }\n",
       "</style>\n",
       "<table border=\"1\" class=\"dataframe\">\n",
       "  <thead>\n",
       "    <tr style=\"text-align: right;\">\n",
       "      <th></th>\n",
       "      <th>대출금액</th>\n",
       "      <th>대출등급</th>\n",
       "      <th>총상환원금비율</th>\n",
       "      <th>총상환이자비율</th>\n",
       "      <th>연간소득_log</th>\n",
       "      <th>총상환원금_log</th>\n",
       "      <th>총상환이자_log</th>\n",
       "    </tr>\n",
       "  </thead>\n",
       "  <tbody>\n",
       "    <tr>\n",
       "      <th>0</th>\n",
       "      <td>12480000</td>\n",
       "      <td>C</td>\n",
       "      <td>0.000000</td>\n",
       "      <td>0.000000</td>\n",
       "      <td>18.092177</td>\n",
       "      <td>0.000000</td>\n",
       "      <td>0.000000</td>\n",
       "    </tr>\n",
       "    <tr>\n",
       "      <th>1</th>\n",
       "      <td>14400000</td>\n",
       "      <td>B</td>\n",
       "      <td>0.025943</td>\n",
       "      <td>0.016254</td>\n",
       "      <td>18.689180</td>\n",
       "      <td>12.830869</td>\n",
       "      <td>12.363337</td>\n",
       "    </tr>\n",
       "    <tr>\n",
       "      <th>2</th>\n",
       "      <td>12000000</td>\n",
       "      <td>A</td>\n",
       "      <td>0.077387</td>\n",
       "      <td>0.012662</td>\n",
       "      <td>18.379859</td>\n",
       "      <td>13.741482</td>\n",
       "      <td>11.931274</td>\n",
       "    </tr>\n",
       "    <tr>\n",
       "      <th>3</th>\n",
       "      <td>14400000</td>\n",
       "      <td>C</td>\n",
       "      <td>0.022627</td>\n",
       "      <td>0.010632</td>\n",
       "      <td>18.698312</td>\n",
       "      <td>12.694116</td>\n",
       "      <td>11.938905</td>\n",
       "    </tr>\n",
       "    <tr>\n",
       "      <th>4</th>\n",
       "      <td>18000000</td>\n",
       "      <td>B</td>\n",
       "      <td>0.012697</td>\n",
       "      <td>0.008275</td>\n",
       "      <td>18.088503</td>\n",
       "      <td>12.339471</td>\n",
       "      <td>11.911413</td>\n",
       "    </tr>\n",
       "  </tbody>\n",
       "</table>\n",
       "</div>"
      ],
      "text/plain": [
       "       대출금액 대출등급   총상환원금비율   총상환이자비율   연간소득_log  총상환원금_log  총상환이자_log\n",
       "0  12480000    C  0.000000  0.000000  18.092177   0.000000   0.000000\n",
       "1  14400000    B  0.025943  0.016254  18.689180  12.830869  12.363337\n",
       "2  12000000    A  0.077387  0.012662  18.379859  13.741482  11.931274\n",
       "3  14400000    C  0.022627  0.010632  18.698312  12.694116  11.938905\n",
       "4  18000000    B  0.012697  0.008275  18.088503  12.339471  11.911413"
      ]
     },
     "execution_count": 11,
     "metadata": {},
     "output_type": "execute_result"
    }
   ],
   "source": [
    "# 이 중 중요도가 높았던 피쳐들만 사용\n",
    "train.drop(['대출기간', '근로기간', '주택소유상태', '총계좌수', '대출목적', '총연체금액', '연체계좌수', '부채_대비_소득_비율', '최근_2년간_연체_횟수'], axis=1, inplace=True)\n",
    "train.head()"
   ]
  },
  {
   "cell_type": "code",
   "execution_count": 64,
   "id": "7ad13999",
   "metadata": {
    "scrolled": false
   },
   "outputs": [
    {
     "data": {
      "image/png": "[encoded data removed]",
      "text/plain": [
       "<Figure size 1000x1200 with 6 Axes>"
      ]
     },
     "metadata": {},
     "output_type": "display_data"
    }
   ],
   "source": [
    "numerical_cols = ['대출금액', '총상환원금비율', '총상환이자비율', '연간소득_log', '총상환원금_log', '총상환이자_log']\n",
    "\n",
    "fig, axs = plt.subplots(3, 2, figsize=(10, 12))\n",
    "\n",
    "for i, (column, values) in enumerate(train[numerical_cols].items()):\n",
    "    row = i // 2\n",
    "    col = i % 2\n",
    "    axs[row, col].boxplot(values)\n",
    "    axs[row, col].set_title(column)\n",
    "    axs[row, col].set_ylabel('Values')\n",
    "\n",
    "plt.tight_layout()\n",
    "plt.show()"
   ]
  },
  {
   "cell_type": "code",
   "execution_count": 12,
   "id": "e955d492",
   "metadata": {},
   "outputs": [
    {
     "name": "stdout",
     "output_type": "stream",
     "text": [
      "이상치 제거 후 :\n",
      "           대출금액 대출등급   총상환원금비율   총상환이자비율   연간소득_log  총상환원금_log  총상환이자_log\n",
      "0      12480000    C  0.000000  0.000000  18.092177   0.000000   0.000000\n",
      "1      14400000    B  0.025943  0.016254  18.689180  12.830869  12.363337\n",
      "2      12000000    A  0.077387  0.012662  18.379859  13.741482  11.931274\n",
      "3      14400000    C  0.022627  0.010632  18.698312  12.694116  11.938905\n",
      "4      18000000    B  0.012697  0.008275  18.088503  12.339471  11.911413\n",
      "...         ...  ...       ...       ...        ...        ...        ...\n",
      "96289  14400000    C  0.067679  0.034178  19.162618  13.789763  13.106577\n",
      "96290  28800000    E  0.020268  0.029690  18.698312  13.277192  13.658956\n",
      "96291  14400000    A  0.103412  0.016753  18.246327  14.213702  12.393535\n",
      "96292  15600000    D  0.088357  0.052441  18.010153  14.136411  13.614712\n",
      "96293   8640000    C  0.068999  0.031824  17.735502  13.298246  12.524370\n",
      "\n",
      "[95546 rows x 7 columns]\n"
     ]
    }
   ],
   "source": [
    "# 이 중 특성 중요도가 가장 높았던 총상환원금비율의 이상치 제거 시도\n",
    "# IQR 기법 사용\n",
    "Q1 = train[['총상환원금비율']].quantile(0.25)\n",
    "Q3 = train[['총상환원금비율']].quantile(0.75)\n",
    "\n",
    "IQR = Q3 - Q1\n",
    "\n",
    "threshold = 1.5\n",
    "\n",
    "outliers = (train[['총상환원금비율']] < (Q1 - threshold * IQR)) | (train[['총상환원금비율']] > (Q3 + threshold * IQR))\n",
    "\n",
    "train_no_outliers = train[~outliers.any(axis=1)]\n",
    "\n",
    "print(\"이상치 제거 후 :\")\n",
    "print(train_no_outliers)"
   ]
  },
  {
   "cell_type": "code",
   "execution_count": 13,
   "id": "d193ba4a",
   "metadata": {},
   "outputs": [
    {
     "data": {
      "text/html": [
       "<div>\n",
       "<style scoped>\n",
       "    .dataframe tbody tr th:only-of-type {\n",
       "        vertical-align: middle;\n",
       "    }\n",
       "\n",
       "    .dataframe tbody tr th {\n",
       "        vertical-align: top;\n",
       "    }\n",
       "\n",
       "    .dataframe thead th {\n",
       "        text-align: right;\n",
       "    }\n",
       "</style>\n",
       "<table border=\"1\" class=\"dataframe\">\n",
       "  <thead>\n",
       "    <tr style=\"text-align: right;\">\n",
       "      <th></th>\n",
       "      <th>대출금액</th>\n",
       "      <th>대출등급</th>\n",
       "      <th>총상환원금비율</th>\n",
       "      <th>총상환이자비율</th>\n",
       "      <th>연간소득_log</th>\n",
       "      <th>총상환원금_log</th>\n",
       "      <th>총상환이자_log</th>\n",
       "    </tr>\n",
       "  </thead>\n",
       "  <tbody>\n",
       "    <tr>\n",
       "      <th>0</th>\n",
       "      <td>12480000</td>\n",
       "      <td>C</td>\n",
       "      <td>0.000000</td>\n",
       "      <td>0.000000</td>\n",
       "      <td>18.092177</td>\n",
       "      <td>0.000000</td>\n",
       "      <td>0.000000</td>\n",
       "    </tr>\n",
       "    <tr>\n",
       "      <th>1</th>\n",
       "      <td>14400000</td>\n",
       "      <td>B</td>\n",
       "      <td>0.025943</td>\n",
       "      <td>0.016254</td>\n",
       "      <td>18.689180</td>\n",
       "      <td>12.830869</td>\n",
       "      <td>12.363337</td>\n",
       "    </tr>\n",
       "    <tr>\n",
       "      <th>2</th>\n",
       "      <td>12000000</td>\n",
       "      <td>A</td>\n",
       "      <td>0.077387</td>\n",
       "      <td>0.012662</td>\n",
       "      <td>18.379859</td>\n",
       "      <td>13.741482</td>\n",
       "      <td>11.931274</td>\n",
       "    </tr>\n",
       "    <tr>\n",
       "      <th>3</th>\n",
       "      <td>14400000</td>\n",
       "      <td>C</td>\n",
       "      <td>0.022627</td>\n",
       "      <td>0.010632</td>\n",
       "      <td>18.698312</td>\n",
       "      <td>12.694116</td>\n",
       "      <td>11.938905</td>\n",
       "    </tr>\n",
       "    <tr>\n",
       "      <th>4</th>\n",
       "      <td>18000000</td>\n",
       "      <td>B</td>\n",
       "      <td>0.012697</td>\n",
       "      <td>0.008275</td>\n",
       "      <td>18.088503</td>\n",
       "      <td>12.339471</td>\n",
       "      <td>11.911413</td>\n",
       "    </tr>\n",
       "  </tbody>\n",
       "</table>\n",
       "</div>"
      ],
      "text/plain": [
       "       대출금액 대출등급   총상환원금비율   총상환이자비율   연간소득_log  총상환원금_log  총상환이자_log\n",
       "0  12480000    C  0.000000  0.000000  18.092177   0.000000   0.000000\n",
       "1  14400000    B  0.025943  0.016254  18.689180  12.830869  12.363337\n",
       "2  12000000    A  0.077387  0.012662  18.379859  13.741482  11.931274\n",
       "3  14400000    C  0.022627  0.010632  18.698312  12.694116  11.938905\n",
       "4  18000000    B  0.012697  0.008275  18.088503  12.339471  11.911413"
      ]
     },
     "execution_count": 13,
     "metadata": {},
     "output_type": "execute_result"
    }
   ],
   "source": [
    "train_no_outliers.head()"
   ]
  },
  {
   "cell_type": "code",
   "execution_count": 67,
   "id": "ee8de96f",
   "metadata": {
    "scrolled": false
   },
   "outputs": [
    {
     "data": {
      "image/png": "[encoded data removed]",
      "text/plain": [
       "<Figure size 1000x1200 with 6 Axes>"
      ]
     },
     "metadata": {},
     "output_type": "display_data"
    }
   ],
   "source": [
    "# 다시 확인 -> 이상치가 많이 제거됨\n",
    "numerical_cols = ['대출금액', '총상환원금비율', '총상환이자비율', '연간소득_log', '총상환원금_log', '총상환이자_log']\n",
    "\n",
    "fig, axs = plt.subplots(3, 2, figsize=(10, 12))\n",
    "\n",
    "for i, (column, values) in enumerate(train_no_outliers[numerical_cols].items()):\n",
    "    row = i // 2\n",
    "    col = i % 2\n",
    "    axs[row, col].boxplot(values)\n",
    "    axs[row, col].set_title(column)\n",
    "    axs[row, col].set_ylabel('Values')\n",
    "\n",
    "plt.tight_layout()\n",
    "plt.show()"
   ]
  },
  {
   "cell_type": "code",
   "execution_count": 68,
   "id": "a5938de3",
   "metadata": {},
   "outputs": [
    {
     "data": {
      "text/plain": [
       "(95546, 7)"
      ]
     },
     "execution_count": 68,
     "metadata": {},
     "output_type": "execute_result"
    }
   ],
   "source": [
    "train_no_outliers.shape"
   ]
  },
  {
   "cell_type": "code",
   "execution_count": 14,
   "id": "dc33b93e",
   "metadata": {},
   "outputs": [],
   "source": [
    "train_scaled = train_no_outliers.copy()"
   ]
  },
  {
   "cell_type": "code",
   "execution_count": 15,
   "id": "1c944006",
   "metadata": {},
   "outputs": [],
   "source": [
    "# 스케일링\n",
    "from sklearn.preprocessing import RobustScaler\n",
    "\n",
    "numeric_cols = ['대출금액','연간소득_log', '총상환원금_log', '총상환이자_log', '총상환원금비율', '총상환이자비율']\n",
    "\n",
    "scaler = RobustScaler()\n",
    "train_scaled[numeric_cols] = scaler.fit_transform(train_scaled[numeric_cols])"
   ]
  },
  {
   "cell_type": "code",
   "execution_count": 16,
   "id": "98b196cf",
   "metadata": {},
   "outputs": [],
   "source": [
    "# 총상환원금비율 이상치 제거 + 스케일링 완료한 데이터 저장\n",
    "train_scaled.to_csv('train_scaled.csv', index=False) "
   ]
  },
  {
   "cell_type": "code",
   "execution_count": 73,
   "id": "1c03844f",
   "metadata": {},
   "outputs": [],
   "source": [
    "X5 = train_scaled.drop(['대출등급'], axis=1)\n",
    "y5 = train_scaled['대출등급']"
   ]
  },
  {
   "cell_type": "code",
   "execution_count": 74,
   "id": "e8a4ae75",
   "metadata": {},
   "outputs": [],
   "source": [
    "# 기본 모델 + 이상치 제거된 피쳐 6개 훈련\n",
    "rf = RandomForestClassifier(random_state=42)\n",
    "scores = cross_validate(rf, X5, y5, cv=StratifiedKFold(), scoring=scoring)"
   ]
  },
  {
   "cell_type": "code",
   "execution_count": 75,
   "id": "d128f9dc",
   "metadata": {},
   "outputs": [
    {
     "name": "stdout",
     "output_type": "stream",
     "text": [
      "0.9467167579946152\n",
      "0.9262533550947089\n"
     ]
    }
   ],
   "source": [
    "print(np.mean(scores['test_accuracy']))\n",
    "print(np.mean(scores['test_f1_score_macro']))"
   ]
  },
  {
   "cell_type": "code",
   "execution_count": 77,
   "id": "2d694ef0",
   "metadata": {},
   "outputs": [
    {
     "name": "stdout",
     "output_type": "stream",
     "text": [
      "대출금액 : 0.05278790116111679\n",
      "총상환원금비율 : 0.47296257187950574\n",
      "총상환이자비율 : 0.2790518651504971\n",
      "연간소득_log : 0.03311912151937355\n",
      "총상환원금_log : 0.08290099913036593\n",
      "총상환이자_log : 0.07917754115914095\n"
     ]
    }
   ],
   "source": [
    "# 특성 중요도 확인\n",
    "rf.fit(X5, y5)\n",
    "for feat, importance in zip(X5.columns, rf.feature_importances_):\n",
    "    print(f'{feat} : {importance}')"
   ]
  },
  {
   "cell_type": "code",
   "execution_count": 80,
   "id": "5574de6d",
   "metadata": {},
   "outputs": [
    {
     "data": {
      "text/html": [
       "<div>\n",
       "<style scoped>\n",
       "    .dataframe tbody tr th:only-of-type {\n",
       "        vertical-align: middle;\n",
       "    }\n",
       "\n",
       "    .dataframe tbody tr th {\n",
       "        vertical-align: top;\n",
       "    }\n",
       "\n",
       "    .dataframe thead th {\n",
       "        text-align: right;\n",
       "    }\n",
       "</style>\n",
       "<table border=\"1\" class=\"dataframe\">\n",
       "  <thead>\n",
       "    <tr style=\"text-align: right;\">\n",
       "      <th></th>\n",
       "      <th>대출금액</th>\n",
       "      <th>대출등급</th>\n",
       "      <th>총상환원금비율</th>\n",
       "      <th>총상환이자비율</th>\n",
       "      <th>연간소득_log</th>\n",
       "      <th>총상환원금_log</th>\n",
       "      <th>총상환이자_log</th>\n",
       "    </tr>\n",
       "  </thead>\n",
       "  <tbody>\n",
       "    <tr>\n",
       "      <th>0</th>\n",
       "      <td>-0.313043</td>\n",
       "      <td>C</td>\n",
       "      <td>-0.957602</td>\n",
       "      <td>-0.963852</td>\n",
       "      <td>-0.119095</td>\n",
       "      <td>-10.843137</td>\n",
       "      <td>-8.705673</td>\n",
       "    </tr>\n",
       "    <tr>\n",
       "      <th>1</th>\n",
       "      <td>-0.173913</td>\n",
       "      <td>B</td>\n",
       "      <td>-0.387479</td>\n",
       "      <td>-0.160079</td>\n",
       "      <td>0.769179</td>\n",
       "      <td>-0.377136</td>\n",
       "      <td>-0.140917</td>\n",
       "    </tr>\n",
       "    <tr>\n",
       "      <th>2</th>\n",
       "      <td>-0.347826</td>\n",
       "      <td>A</td>\n",
       "      <td>0.743086</td>\n",
       "      <td>-0.337712</td>\n",
       "      <td>0.308944</td>\n",
       "      <td>0.365641</td>\n",
       "      <td>-0.440231</td>\n",
       "    </tr>\n",
       "    <tr>\n",
       "      <th>3</th>\n",
       "      <td>-0.173913</td>\n",
       "      <td>C</td>\n",
       "      <td>-0.460349</td>\n",
       "      <td>-0.438072</td>\n",
       "      <td>0.782767</td>\n",
       "      <td>-0.488684</td>\n",
       "      <td>-0.434944</td>\n",
       "    </tr>\n",
       "    <tr>\n",
       "      <th>4</th>\n",
       "      <td>0.086957</td>\n",
       "      <td>B</td>\n",
       "      <td>-0.678575</td>\n",
       "      <td>-0.554634</td>\n",
       "      <td>-0.124560</td>\n",
       "      <td>-0.777964</td>\n",
       "      <td>-0.453990</td>\n",
       "    </tr>\n",
       "  </tbody>\n",
       "</table>\n",
       "</div>"
      ],
      "text/plain": [
       "       대출금액 대출등급   총상환원금비율   총상환이자비율  연간소득_log  총상환원금_log  총상환이자_log\n",
       "0 -0.313043    C -0.957602 -0.963852 -0.119095 -10.843137  -8.705673\n",
       "1 -0.173913    B -0.387479 -0.160079  0.769179  -0.377136  -0.140917\n",
       "2 -0.347826    A  0.743086 -0.337712  0.308944   0.365641  -0.440231\n",
       "3 -0.173913    C -0.460349 -0.438072  0.782767  -0.488684  -0.434944\n",
       "4  0.086957    B -0.678575 -0.554634 -0.124560  -0.777964  -0.453990"
      ]
     },
     "execution_count": 80,
     "metadata": {},
     "output_type": "execute_result"
    }
   ],
   "source": [
    "train_scaled.head()"
   ]
  },
  {
   "cell_type": "code",
   "execution_count": 81,
   "id": "a8c85fcb",
   "metadata": {},
   "outputs": [],
   "source": [
    "X6 = train_scaled.drop(['대출등급', '연간소득_log', '대출금액'], axis=1)\n",
    "y6 = train_scaled['대출등급']"
   ]
  },
  {
   "cell_type": "code",
   "execution_count": 82,
   "id": "7312408a",
   "metadata": {},
   "outputs": [],
   "source": [
    "# 기본 모델 + 이상치 제거 + 피쳐 4개 훈련\n",
    "rf = RandomForestClassifier(random_state=42)\n",
    "scores = cross_validate(rf, X6, y6, cv=StratifiedKFold(), scoring=scoring)"
   ]
  },
  {
   "cell_type": "code",
   "execution_count": 83,
   "id": "1519ed29",
   "metadata": {},
   "outputs": [
    {
     "name": "stdout",
     "output_type": "stream",
     "text": [
      "0.9502752473560545\n",
      "0.9432493873812537\n"
     ]
    }
   ],
   "source": [
    "print(np.mean(scores['test_accuracy']))\n",
    "print(np.mean(scores['test_f1_score_macro']))"
   ]
  },
  {
   "cell_type": "code",
   "execution_count": 85,
   "id": "4936b4ef",
   "metadata": {},
   "outputs": [
    {
     "name": "stdout",
     "output_type": "stream",
     "text": [
      "총상환원금비율 : 0.5758970357577758\n",
      "총상환이자비율 : 0.33228112502854223\n",
      "총상환원금_log : 0.0439723986388564\n",
      "총상환이자_log : 0.04784944057482552\n"
     ]
    }
   ],
   "source": [
    "rf.fit(X6, y6)\n",
    "for feat, importance in zip(X6.columns, rf.feature_importances_):\n",
    "    print(f'{feat} : {importance}')"
   ]
  },
  {
   "cell_type": "markdown",
   "id": "6d6adbfb",
   "metadata": {},
   "source": [
    "### 최고의 조합\n",
    " - 튜닝된 모델이 전체적으로 기본 모델보다 성능이 떨어졌음\n",
    " - 가장 성능이 좋았던 조합은 총상환원금비율의 이상치를 제거한 피쳐 4개(총상환원금비율, 총상환이자비율, 총상환원금_log, 총상환이자_log)와 기본 랜덤 포레스트 모델\n",
    "    - 정확도 : 약 95%\n",
    "    - F1 score : 약 94.3%\n",
    "    - 정확도와 F1 점수 모두 가장 나은 모습을 보임\n",
    "    \n",
    " - 피쳐가 많다고 좋은 성능이 나오지 않음\n",
    " - 파생 변수를 추가하고 난 후에 가장 눈에 띄는 성능 발전이 있었음 82% -> 94%\n",
    " - 로그 변환 등 여러가지 전처리를 했기 때문에 어느정도의 점수가 나오지 않았나 추측"
   ]
  },
  {
   "cell_type": "code",
   "execution_count": 89,
   "id": "5ae92467",
   "metadata": {},
   "outputs": [],
   "source": [
    "# max_depth에 숫자 추가해서 다시 튜닝 시도\n",
    "params = {\n",
    "    'n_estimators' : [100, 200],\n",
    "    'max_depth' : [5, 7, 10],\n",
    "    'min_samples_split' : [2, 5],\n",
    "    'min_samples_leaf' : [1, 2],\n",
    "}"
   ]
  },
  {
   "cell_type": "code",
   "execution_count": 90,
   "id": "7e92f986",
   "metadata": {},
   "outputs": [
    {
     "name": "stdout",
     "output_type": "stream",
     "text": [
      "{'max_depth': 10, 'min_samples_leaf': 1, 'min_samples_split': 5, 'n_estimators': 200}\n"
     ]
    }
   ],
   "source": [
    "# 같은 결과\n",
    "from sklearn.model_selection import GridSearchCV\n",
    "\n",
    "rf = RandomForestClassifier(random_state=42)\n",
    "grid_search = GridSearchCV(estimator=rf, param_grid=params, n_jobs=-1)\n",
    "grid_search.fit(X6,y6)\n",
    "print(grid_search.best_params_)"
   ]
  },
  {
   "cell_type": "code",
   "execution_count": 93,
   "id": "221edf91",
   "metadata": {},
   "outputs": [],
   "source": [
    "# 이상치 제거 후의 피쳐 4개 + 튜닝 모델 \n",
    "rf = RandomForestClassifier(\n",
    "    n_estimators=200, \n",
    "    max_depth=10, \n",
    "    min_samples_split=5,\n",
    "    min_samples_leaf=1,\n",
    "    n_jobs=-1,\n",
    "    random_state=42\n",
    ")\n",
    "scores = cross_validate(rf, X6, y6, cv=StratifiedKFold(), scoring=scoring)"
   ]
  },
  {
   "cell_type": "code",
   "execution_count": 94,
   "id": "24978134",
   "metadata": {},
   "outputs": [
    {
     "name": "stdout",
     "output_type": "stream",
     "text": [
      "0.9434827077435273\n",
      "0.9247145331848255\n"
     ]
    }
   ],
   "source": [
    "print(np.mean(scores['test_accuracy']))\n",
    "print(np.mean(scores['test_f1_score_macro']))"
   ]
  },
  {
   "cell_type": "markdown",
   "id": "cee5d9b8",
   "metadata": {},
   "source": [
    "## 총 정리\n",
    " - 중요도가 높은 특성 : 총상환원금비율, 총상환이자비율, 총상환원금_log, 총상환이자_log\n",
    " - 파생 변수를 추가한 11개의 특성이 높은 정확도와 F1 score를 보였으나, 중요도가 낮은 특성 제거, 중요도가 높은 특성의 이상치 제거로 미세한 성능 증가를 이루어낼 수 있었음\n",
    " - 시작 전 대출 등급 분류에 있어 중요할 것이라고 생각한 특성들이 중요도가 높지 않았음\n",
    "     - 부채_대비_재산_비율, 최근_2년간_연체_횟수, 총연체금액, 근로기간\n",
    " - 총상환원금과 총상환이자는 중요할 것이라는 예상이 맞았음\n",
    " - 파생 변수가 성능을 올리는 데 중요한 역할을 함 -> 피쳐 엔지니어링의 중요성\n",
    " - 지금까지 해본 시도들의 결과 정리 : https://docs.google.com/spreadsheets/d/11ROzHFoLA7ktq79KhPgGNsK443K-CvhzO2lVlnwwOH8/edit?usp=sharing"
   ]
  },
  {
   "cell_type": "code",
   "execution_count": 18,
   "id": "941267e4",
   "metadata": {},
   "outputs": [
    {
     "data": {
      "text/html": [
       "<div>\n",
       "<style scoped>\n",
       "    .dataframe tbody tr th:only-of-type {\n",
       "        vertical-align: middle;\n",
       "    }\n",
       "\n",
       "    .dataframe tbody tr th {\n",
       "        vertical-align: top;\n",
       "    }\n",
       "\n",
       "    .dataframe thead th {\n",
       "        text-align: right;\n",
       "    }\n",
       "</style>\n",
       "<table border=\"1\" class=\"dataframe\">\n",
       "  <thead>\n",
       "    <tr style=\"text-align: right;\">\n",
       "      <th></th>\n",
       "      <th>대출금액</th>\n",
       "      <th>대출기간</th>\n",
       "      <th>근로기간</th>\n",
       "      <th>주택소유상태</th>\n",
       "      <th>부채_대비_소득_비율</th>\n",
       "      <th>총계좌수</th>\n",
       "      <th>대출목적</th>\n",
       "      <th>최근_2년간_연체_횟수</th>\n",
       "      <th>총연체금액</th>\n",
       "      <th>연체계좌수</th>\n",
       "      <th>대출등급</th>\n",
       "      <th>총상환원금비율</th>\n",
       "      <th>총상환이자비율</th>\n",
       "      <th>연간소득_log</th>\n",
       "      <th>총상환원금_log</th>\n",
       "      <th>총상환이자_log</th>\n",
       "    </tr>\n",
       "  </thead>\n",
       "  <tbody>\n",
       "    <tr>\n",
       "      <th>0</th>\n",
       "      <td>12480000</td>\n",
       "      <td>3</td>\n",
       "      <td>6 years</td>\n",
       "      <td>RENT</td>\n",
       "      <td>18.90</td>\n",
       "      <td>15</td>\n",
       "      <td>부채 통합</td>\n",
       "      <td>0</td>\n",
       "      <td>0.0</td>\n",
       "      <td>0.0</td>\n",
       "      <td>C</td>\n",
       "      <td>0.000000</td>\n",
       "      <td>0.000000</td>\n",
       "      <td>18.092177</td>\n",
       "      <td>0.000000</td>\n",
       "      <td>0.000000</td>\n",
       "    </tr>\n",
       "    <tr>\n",
       "      <th>1</th>\n",
       "      <td>14400000</td>\n",
       "      <td>5</td>\n",
       "      <td>10+ years</td>\n",
       "      <td>MORTGAGE</td>\n",
       "      <td>22.33</td>\n",
       "      <td>21</td>\n",
       "      <td>주택 개선</td>\n",
       "      <td>0</td>\n",
       "      <td>0.0</td>\n",
       "      <td>0.0</td>\n",
       "      <td>B</td>\n",
       "      <td>0.025943</td>\n",
       "      <td>0.016254</td>\n",
       "      <td>18.689180</td>\n",
       "      <td>12.830869</td>\n",
       "      <td>12.363337</td>\n",
       "    </tr>\n",
       "    <tr>\n",
       "      <th>2</th>\n",
       "      <td>12000000</td>\n",
       "      <td>3</td>\n",
       "      <td>5 years</td>\n",
       "      <td>MORTGAGE</td>\n",
       "      <td>8.60</td>\n",
       "      <td>14</td>\n",
       "      <td>부채 통합</td>\n",
       "      <td>0</td>\n",
       "      <td>0.0</td>\n",
       "      <td>0.0</td>\n",
       "      <td>A</td>\n",
       "      <td>0.077387</td>\n",
       "      <td>0.012662</td>\n",
       "      <td>18.379859</td>\n",
       "      <td>13.741482</td>\n",
       "      <td>11.931274</td>\n",
       "    </tr>\n",
       "    <tr>\n",
       "      <th>3</th>\n",
       "      <td>14400000</td>\n",
       "      <td>3</td>\n",
       "      <td>8 years</td>\n",
       "      <td>MORTGAGE</td>\n",
       "      <td>15.09</td>\n",
       "      <td>15</td>\n",
       "      <td>부채 통합</td>\n",
       "      <td>0</td>\n",
       "      <td>0.0</td>\n",
       "      <td>0.0</td>\n",
       "      <td>C</td>\n",
       "      <td>0.022627</td>\n",
       "      <td>0.010632</td>\n",
       "      <td>18.698312</td>\n",
       "      <td>12.694116</td>\n",
       "      <td>11.938905</td>\n",
       "    </tr>\n",
       "    <tr>\n",
       "      <th>4</th>\n",
       "      <td>18000000</td>\n",
       "      <td>5</td>\n",
       "      <td>0</td>\n",
       "      <td>RENT</td>\n",
       "      <td>25.39</td>\n",
       "      <td>19</td>\n",
       "      <td>주요 구매</td>\n",
       "      <td>0</td>\n",
       "      <td>0.0</td>\n",
       "      <td>0.0</td>\n",
       "      <td>B</td>\n",
       "      <td>0.012697</td>\n",
       "      <td>0.008275</td>\n",
       "      <td>18.088503</td>\n",
       "      <td>12.339471</td>\n",
       "      <td>11.911413</td>\n",
       "    </tr>\n",
       "  </tbody>\n",
       "</table>\n",
       "</div>"
      ],
      "text/plain": [
       "       대출금액  대출기간       근로기간    주택소유상태  부채_대비_소득_비율  총계좌수   대출목적  \\\n",
       "0  12480000     3    6 years      RENT        18.90    15  부채 통합   \n",
       "1  14400000     5  10+ years  MORTGAGE        22.33    21  주택 개선   \n",
       "2  12000000     3    5 years  MORTGAGE         8.60    14  부채 통합   \n",
       "3  14400000     3    8 years  MORTGAGE        15.09    15  부채 통합   \n",
       "4  18000000     5          0      RENT        25.39    19  주요 구매   \n",
       "\n",
       "   최근_2년간_연체_횟수  총연체금액  연체계좌수 대출등급   총상환원금비율   총상환이자비율   연간소득_log  총상환원금_log  \\\n",
       "0             0    0.0    0.0    C  0.000000  0.000000  18.092177   0.000000   \n",
       "1             0    0.0    0.0    B  0.025943  0.016254  18.689180  12.830869   \n",
       "2             0    0.0    0.0    A  0.077387  0.012662  18.379859  13.741482   \n",
       "3             0    0.0    0.0    C  0.022627  0.010632  18.698312  12.694116   \n",
       "4             0    0.0    0.0    B  0.012697  0.008275  18.088503  12.339471   \n",
       "\n",
       "   총상환이자_log  \n",
       "0   0.000000  \n",
       "1  12.363337  \n",
       "2  11.931274  \n",
       "3  11.938905  \n",
       "4  11.911413  "
      ]
     },
     "execution_count": 18,
     "metadata": {},
     "output_type": "execute_result"
    }
   ],
   "source": [
    "# 데이터 불러오기\n",
    "train = pd.read_csv('train_log_feature.csv')\n",
    "train.head()"
   ]
  },
  {
   "cell_type": "code",
   "execution_count": 19,
   "id": "d317b71b",
   "metadata": {},
   "outputs": [
    {
     "data": {
      "text/html": [
       "<div>\n",
       "<style scoped>\n",
       "    .dataframe tbody tr th:only-of-type {\n",
       "        vertical-align: middle;\n",
       "    }\n",
       "\n",
       "    .dataframe tbody tr th {\n",
       "        vertical-align: top;\n",
       "    }\n",
       "\n",
       "    .dataframe thead th {\n",
       "        text-align: right;\n",
       "    }\n",
       "</style>\n",
       "<table border=\"1\" class=\"dataframe\">\n",
       "  <thead>\n",
       "    <tr style=\"text-align: right;\">\n",
       "      <th></th>\n",
       "      <th>대출등급</th>\n",
       "      <th>총상환원금비율</th>\n",
       "      <th>총상환이자비율</th>\n",
       "      <th>총상환원금_log</th>\n",
       "      <th>총상환이자_log</th>\n",
       "    </tr>\n",
       "  </thead>\n",
       "  <tbody>\n",
       "    <tr>\n",
       "      <th>0</th>\n",
       "      <td>C</td>\n",
       "      <td>0.000000</td>\n",
       "      <td>0.000000</td>\n",
       "      <td>0.000000</td>\n",
       "      <td>0.000000</td>\n",
       "    </tr>\n",
       "    <tr>\n",
       "      <th>1</th>\n",
       "      <td>B</td>\n",
       "      <td>0.025943</td>\n",
       "      <td>0.016254</td>\n",
       "      <td>12.830869</td>\n",
       "      <td>12.363337</td>\n",
       "    </tr>\n",
       "    <tr>\n",
       "      <th>2</th>\n",
       "      <td>A</td>\n",
       "      <td>0.077387</td>\n",
       "      <td>0.012662</td>\n",
       "      <td>13.741482</td>\n",
       "      <td>11.931274</td>\n",
       "    </tr>\n",
       "    <tr>\n",
       "      <th>3</th>\n",
       "      <td>C</td>\n",
       "      <td>0.022627</td>\n",
       "      <td>0.010632</td>\n",
       "      <td>12.694116</td>\n",
       "      <td>11.938905</td>\n",
       "    </tr>\n",
       "    <tr>\n",
       "      <th>4</th>\n",
       "      <td>B</td>\n",
       "      <td>0.012697</td>\n",
       "      <td>0.008275</td>\n",
       "      <td>12.339471</td>\n",
       "      <td>11.911413</td>\n",
       "    </tr>\n",
       "  </tbody>\n",
       "</table>\n",
       "</div>"
      ],
      "text/plain": [
       "  대출등급   총상환원금비율   총상환이자비율  총상환원금_log  총상환이자_log\n",
       "0    C  0.000000  0.000000   0.000000   0.000000\n",
       "1    B  0.025943  0.016254  12.830869  12.363337\n",
       "2    A  0.077387  0.012662  13.741482  11.931274\n",
       "3    C  0.022627  0.010632  12.694116  11.938905\n",
       "4    B  0.012697  0.008275  12.339471  11.911413"
      ]
     },
     "execution_count": 19,
     "metadata": {},
     "output_type": "execute_result"
    }
   ],
   "source": [
    "# 4개의 피쳐만 사용할 예정\n",
    "train.drop(['대출금액', '대출기간', '근로기간', '주택소유상태', '부채_대비_소득_비율', '총계좌수', '대출목적',\n",
    "           '최근_2년간_연체_횟수', '총연체금액', '연체계좌수', '연간소득_log'], axis=1, inplace=True)\n",
    "train.head()"
   ]
  },
  {
   "cell_type": "code",
   "execution_count": 23,
   "id": "d9d5411c",
   "metadata": {},
   "outputs": [
    {
     "data": {
      "text/plain": [
       "(96294, 5)"
      ]
     },
     "execution_count": 23,
     "metadata": {},
     "output_type": "execute_result"
    }
   ],
   "source": [
    "train.shape"
   ]
  },
  {
   "cell_type": "code",
   "execution_count": 20,
   "id": "107af1f7",
   "metadata": {},
   "outputs": [
    {
     "data": {
      "image/png": "[encoded data removed]",
      "text/plain": [
       "<Figure size 640x480 with 1 Axes>"
      ]
     },
     "metadata": {},
     "output_type": "display_data"
    }
   ],
   "source": [
    "# 총상환원금이자비율의 이상치 확인\n",
    "plt.boxplot(train['총상환이자비율'])\n",
    "plt.title('총상환이자비율의 이상치 확인')\n",
    "plt.xlabel('총상환이자비율')\n",
    "plt.ylabel('Value')\n",
    "\n",
    "plt.show()"
   ]
  },
  {
   "cell_type": "code",
   "execution_count": 21,
   "id": "0e3708a9",
   "metadata": {},
   "outputs": [],
   "source": [
    "# 이상치 제거\n",
    "Q1 = train[['총상환이자비율']].quantile(0.25)\n",
    "Q3 = train[['총상환이자비율']].quantile(0.75)\n",
    "\n",
    "IQR = Q3 - Q1\n",
    "\n",
    "threshold = 1.5\n",
    "\n",
    "outliers = (train[['총상환이자비율']] < (Q1 - threshold * IQR)) | (train[['총상환이자비율']] > (Q3 + threshold * IQR))\n",
    "\n",
    "train_no_outliers = train[~outliers.any(axis=1)]"
   ]
  },
  {
   "cell_type": "code",
   "execution_count": 24,
   "id": "11d3dfda",
   "metadata": {},
   "outputs": [
    {
     "data": {
      "text/plain": [
       "(94385, 5)"
      ]
     },
     "execution_count": 24,
     "metadata": {},
     "output_type": "execute_result"
    }
   ],
   "source": [
    "train_no_outliers.shape"
   ]
  },
  {
   "cell_type": "code",
   "execution_count": 26,
   "id": "d0f5957f",
   "metadata": {},
   "outputs": [
    {
     "data": {
      "image/png": "[encoded data removed]",
      "text/plain": [
       "<Figure size 640x480 with 1 Axes>"
      ]
     },
     "metadata": {},
     "output_type": "display_data"
    }
   ],
   "source": [
    "# 확인\n",
    "plt.boxplot(train_no_outliers['총상환이자비율'])\n",
    "plt.title('총상환이자비율의 이상치 확인')\n",
    "plt.xlabel('총상환이자비율')\n",
    "plt.ylabel('Value')\n",
    "\n",
    "plt.show()"
   ]
  },
  {
   "cell_type": "code",
   "execution_count": 28,
   "id": "c93a80d1",
   "metadata": {},
   "outputs": [],
   "source": [
    "# 스케일링\n",
    "from sklearn.preprocessing import RobustScaler\n",
    "\n",
    "train_post = train_no_outliers.copy()\n",
    "\n",
    "numeric_cols = ['총상환원금비율', '총상환이자비율', '총상환원금_log', '총상환이자_log']\n",
    "\n",
    "scaler = RobustScaler()\n",
    "train_post[numeric_cols] = scaler.fit_transform(train_post[numeric_cols])"
   ]
  },
  {
   "cell_type": "code",
   "execution_count": 29,
   "id": "b56f3747",
   "metadata": {},
   "outputs": [],
   "source": [
    "# 데이터 분리\n",
    "X = train_post.drop(['대출등급'], axis=1)\n",
    "y = train_post['대출등급']"
   ]
  },
  {
   "cell_type": "code",
   "execution_count": 31,
   "id": "e9cdaed9",
   "metadata": {},
   "outputs": [],
   "source": [
    "from sklearn.metrics import make_scorer, f1_score, accuracy_score\n",
    "\n",
    "scoring = {\n",
    "    'accuracy': make_scorer(accuracy_score),\n",
    "    'f1_score_macro': make_scorer(f1_score, average='macro')\n",
    "}"
   ]
  },
  {
   "cell_type": "code",
   "execution_count": 32,
   "id": "18ca8ea3",
   "metadata": {},
   "outputs": [
    {
     "name": "stdout",
     "output_type": "stream",
     "text": [
      "0.9465804947820098\n",
      "0.9330212984613209\n"
     ]
    }
   ],
   "source": [
    "# 총상환원금비율 이상치 제거 + 기본 모델 훈련\n",
    "from sklearn.ensemble import RandomForestClassifier\n",
    "from sklearn.model_selection import cross_validate, StratifiedKFold\n",
    "\n",
    "rf = RandomForestClassifier(random_state=42)\n",
    "scores = cross_validate(rf, X, y, cv=StratifiedKFold(), scoring=scoring)\n",
    "print(np.mean(scores['test_accuracy']))\n",
    "print(np.mean(scores['test_f1_score_macro']))"
   ]
  },
  {
   "cell_type": "code",
   "execution_count": 53,
   "id": "5edd536d",
   "metadata": {
    "collapsed": true
   },
   "outputs": [
    {
     "data": {
      "text/html": [
       "<div>\n",
       "<style scoped>\n",
       "    .dataframe tbody tr th:only-of-type {\n",
       "        vertical-align: middle;\n",
       "    }\n",
       "\n",
       "    .dataframe tbody tr th {\n",
       "        vertical-align: top;\n",
       "    }\n",
       "\n",
       "    .dataframe thead th {\n",
       "        text-align: right;\n",
       "    }\n",
       "</style>\n",
       "<table border=\"1\" class=\"dataframe\">\n",
       "  <thead>\n",
       "    <tr style=\"text-align: right;\">\n",
       "      <th></th>\n",
       "      <th>대출금액</th>\n",
       "      <th>대출기간</th>\n",
       "      <th>근로기간</th>\n",
       "      <th>주택소유상태</th>\n",
       "      <th>부채_대비_소득_비율</th>\n",
       "      <th>총계좌수</th>\n",
       "      <th>대출목적</th>\n",
       "      <th>최근_2년간_연체_횟수</th>\n",
       "      <th>총연체금액</th>\n",
       "      <th>연체계좌수</th>\n",
       "      <th>대출등급</th>\n",
       "      <th>총상환원금비율</th>\n",
       "      <th>총상환이자비율</th>\n",
       "      <th>연간소득_log</th>\n",
       "      <th>총상환원금_log</th>\n",
       "      <th>총상환이자_log</th>\n",
       "    </tr>\n",
       "  </thead>\n",
       "  <tbody>\n",
       "    <tr>\n",
       "      <th>0</th>\n",
       "      <td>12480000</td>\n",
       "      <td>3</td>\n",
       "      <td>6 years</td>\n",
       "      <td>RENT</td>\n",
       "      <td>18.90</td>\n",
       "      <td>15</td>\n",
       "      <td>부채 통합</td>\n",
       "      <td>0</td>\n",
       "      <td>0.0</td>\n",
       "      <td>0.0</td>\n",
       "      <td>C</td>\n",
       "      <td>0.000000</td>\n",
       "      <td>0.000000</td>\n",
       "      <td>18.092177</td>\n",
       "      <td>0.000000</td>\n",
       "      <td>0.000000</td>\n",
       "    </tr>\n",
       "    <tr>\n",
       "      <th>1</th>\n",
       "      <td>14400000</td>\n",
       "      <td>5</td>\n",
       "      <td>10+ years</td>\n",
       "      <td>MORTGAGE</td>\n",
       "      <td>22.33</td>\n",
       "      <td>21</td>\n",
       "      <td>주택 개선</td>\n",
       "      <td>0</td>\n",
       "      <td>0.0</td>\n",
       "      <td>0.0</td>\n",
       "      <td>B</td>\n",
       "      <td>0.025943</td>\n",
       "      <td>0.016254</td>\n",
       "      <td>18.689180</td>\n",
       "      <td>12.830869</td>\n",
       "      <td>12.363337</td>\n",
       "    </tr>\n",
       "    <tr>\n",
       "      <th>2</th>\n",
       "      <td>12000000</td>\n",
       "      <td>3</td>\n",
       "      <td>5 years</td>\n",
       "      <td>MORTGAGE</td>\n",
       "      <td>8.60</td>\n",
       "      <td>14</td>\n",
       "      <td>부채 통합</td>\n",
       "      <td>0</td>\n",
       "      <td>0.0</td>\n",
       "      <td>0.0</td>\n",
       "      <td>A</td>\n",
       "      <td>0.077387</td>\n",
       "      <td>0.012662</td>\n",
       "      <td>18.379859</td>\n",
       "      <td>13.741482</td>\n",
       "      <td>11.931274</td>\n",
       "    </tr>\n",
       "    <tr>\n",
       "      <th>3</th>\n",
       "      <td>14400000</td>\n",
       "      <td>3</td>\n",
       "      <td>8 years</td>\n",
       "      <td>MORTGAGE</td>\n",
       "      <td>15.09</td>\n",
       "      <td>15</td>\n",
       "      <td>부채 통합</td>\n",
       "      <td>0</td>\n",
       "      <td>0.0</td>\n",
       "      <td>0.0</td>\n",
       "      <td>C</td>\n",
       "      <td>0.022627</td>\n",
       "      <td>0.010632</td>\n",
       "      <td>18.698312</td>\n",
       "      <td>12.694116</td>\n",
       "      <td>11.938905</td>\n",
       "    </tr>\n",
       "    <tr>\n",
       "      <th>4</th>\n",
       "      <td>18000000</td>\n",
       "      <td>5</td>\n",
       "      <td>0</td>\n",
       "      <td>RENT</td>\n",
       "      <td>25.39</td>\n",
       "      <td>19</td>\n",
       "      <td>주요 구매</td>\n",
       "      <td>0</td>\n",
       "      <td>0.0</td>\n",
       "      <td>0.0</td>\n",
       "      <td>B</td>\n",
       "      <td>0.012697</td>\n",
       "      <td>0.008275</td>\n",
       "      <td>18.088503</td>\n",
       "      <td>12.339471</td>\n",
       "      <td>11.911413</td>\n",
       "    </tr>\n",
       "  </tbody>\n",
       "</table>\n",
       "</div>"
      ],
      "text/plain": [
       "       대출금액  대출기간       근로기간    주택소유상태  부채_대비_소득_비율  총계좌수   대출목적  \\\n",
       "0  12480000     3    6 years      RENT        18.90    15  부채 통합   \n",
       "1  14400000     5  10+ years  MORTGAGE        22.33    21  주택 개선   \n",
       "2  12000000     3    5 years  MORTGAGE         8.60    14  부채 통합   \n",
       "3  14400000     3    8 years  MORTGAGE        15.09    15  부채 통합   \n",
       "4  18000000     5          0      RENT        25.39    19  주요 구매   \n",
       "\n",
       "   최근_2년간_연체_횟수  총연체금액  연체계좌수 대출등급   총상환원금비율   총상환이자비율   연간소득_log  총상환원금_log  \\\n",
       "0             0    0.0    0.0    C  0.000000  0.000000  18.092177   0.000000   \n",
       "1             0    0.0    0.0    B  0.025943  0.016254  18.689180  12.830869   \n",
       "2             0    0.0    0.0    A  0.077387  0.012662  18.379859  13.741482   \n",
       "3             0    0.0    0.0    C  0.022627  0.010632  18.698312  12.694116   \n",
       "4             0    0.0    0.0    B  0.012697  0.008275  18.088503  12.339471   \n",
       "\n",
       "   총상환이자_log  \n",
       "0   0.000000  \n",
       "1  12.363337  \n",
       "2  11.931274  \n",
       "3  11.938905  \n",
       "4  11.911413  "
      ]
     },
     "execution_count": 53,
     "metadata": {},
     "output_type": "execute_result"
    }
   ],
   "source": [
    "# 두 피쳐 모두 이상치 제거\n",
    "train_two = pd.read_csv('train_log_feature.csv')\n",
    "train_two.head()"
   ]
  },
  {
   "cell_type": "code",
   "execution_count": 54,
   "id": "3a7407e9",
   "metadata": {},
   "outputs": [
    {
     "data": {
      "text/html": [
       "<div>\n",
       "<style scoped>\n",
       "    .dataframe tbody tr th:only-of-type {\n",
       "        vertical-align: middle;\n",
       "    }\n",
       "\n",
       "    .dataframe tbody tr th {\n",
       "        vertical-align: top;\n",
       "    }\n",
       "\n",
       "    .dataframe thead th {\n",
       "        text-align: right;\n",
       "    }\n",
       "</style>\n",
       "<table border=\"1\" class=\"dataframe\">\n",
       "  <thead>\n",
       "    <tr style=\"text-align: right;\">\n",
       "      <th></th>\n",
       "      <th>대출등급</th>\n",
       "      <th>총상환원금비율</th>\n",
       "      <th>총상환이자비율</th>\n",
       "      <th>총상환원금_log</th>\n",
       "      <th>총상환이자_log</th>\n",
       "    </tr>\n",
       "  </thead>\n",
       "  <tbody>\n",
       "    <tr>\n",
       "      <th>0</th>\n",
       "      <td>C</td>\n",
       "      <td>0.000000</td>\n",
       "      <td>0.000000</td>\n",
       "      <td>0.000000</td>\n",
       "      <td>0.000000</td>\n",
       "    </tr>\n",
       "    <tr>\n",
       "      <th>1</th>\n",
       "      <td>B</td>\n",
       "      <td>0.025943</td>\n",
       "      <td>0.016254</td>\n",
       "      <td>12.830869</td>\n",
       "      <td>12.363337</td>\n",
       "    </tr>\n",
       "    <tr>\n",
       "      <th>2</th>\n",
       "      <td>A</td>\n",
       "      <td>0.077387</td>\n",
       "      <td>0.012662</td>\n",
       "      <td>13.741482</td>\n",
       "      <td>11.931274</td>\n",
       "    </tr>\n",
       "    <tr>\n",
       "      <th>3</th>\n",
       "      <td>C</td>\n",
       "      <td>0.022627</td>\n",
       "      <td>0.010632</td>\n",
       "      <td>12.694116</td>\n",
       "      <td>11.938905</td>\n",
       "    </tr>\n",
       "    <tr>\n",
       "      <th>4</th>\n",
       "      <td>B</td>\n",
       "      <td>0.012697</td>\n",
       "      <td>0.008275</td>\n",
       "      <td>12.339471</td>\n",
       "      <td>11.911413</td>\n",
       "    </tr>\n",
       "  </tbody>\n",
       "</table>\n",
       "</div>"
      ],
      "text/plain": [
       "  대출등급   총상환원금비율   총상환이자비율  총상환원금_log  총상환이자_log\n",
       "0    C  0.000000  0.000000   0.000000   0.000000\n",
       "1    B  0.025943  0.016254  12.830869  12.363337\n",
       "2    A  0.077387  0.012662  13.741482  11.931274\n",
       "3    C  0.022627  0.010632  12.694116  11.938905\n",
       "4    B  0.012697  0.008275  12.339471  11.911413"
      ]
     },
     "execution_count": 54,
     "metadata": {},
     "output_type": "execute_result"
    }
   ],
   "source": [
    "train_two.drop(['대출금액', '대출기간', '근로기간', '주택소유상태', '부채_대비_소득_비율', '총계좌수', '대출목적',\n",
    "           '최근_2년간_연체_횟수', '총연체금액', '연체계좌수', '연간소득_log'], axis=1, inplace=True)\n",
    "train_two.head()"
   ]
  },
  {
   "cell_type": "code",
   "execution_count": 55,
   "id": "5c37a242",
   "metadata": {},
   "outputs": [
    {
     "data": {
      "image/png": "[encoded data removed]",
      "text/plain": [
       "<Figure size 1000x500 with 2 Axes>"
      ]
     },
     "metadata": {},
     "output_type": "display_data"
    }
   ],
   "source": [
    "preprocessed_cols = ['총상환원금비율', '총상환이자비율']\n",
    "\n",
    "fig, axs = plt.subplots(1, 2, figsize=(10, 5))\n",
    "\n",
    "for i, column in enumerate(preprocessed_cols):\n",
    "    ax = axs[i]\n",
    "    ax.boxplot(train_two[column])\n",
    "    ax.set_title(column)\n",
    "\n",
    "plt.tight_layout()\n",
    "plt.show()"
   ]
  },
  {
   "cell_type": "code",
   "execution_count": 56,
   "id": "9fc2f540",
   "metadata": {},
   "outputs": [],
   "source": [
    "# 총상환이자비율 이상치 제거\n",
    "Q1 = train_two[['총상환이자비율']].quantile(0.25)\n",
    "Q3 = train_two[['총상환이자비율']].quantile(0.75)\n",
    "\n",
    "IQR = Q3 - Q1\n",
    "\n",
    "threshold = 1.5\n",
    "\n",
    "outliers = (train_two[['총상환이자비율']] < (Q1 - threshold * IQR)) | (train_two[['총상환이자비율']] > (Q3 + threshold * IQR))\n",
    "\n",
    "train_no_outliers2 = train_two[~outliers.any(axis=1)]"
   ]
  },
  {
   "cell_type": "code",
   "execution_count": 57,
   "id": "63c25409",
   "metadata": {},
   "outputs": [],
   "source": [
    "# 총상환원금비율 이상치 제거\n",
    "Q1 = train_no_outliers2[['총상환원금비율']].quantile(0.25)\n",
    "Q3 = train_no_outliers2[['총상환원금비율']].quantile(0.75)\n",
    "\n",
    "IQR = Q3 - Q1\n",
    "\n",
    "threshold = 1.5\n",
    "\n",
    "outliers = (train_no_outliers2[['총상환원금비율']] < (Q1 - threshold * IQR)) | (train_no_outliers2[['총상환원금비율']] > (Q3 + threshold * IQR))\n",
    "\n",
    "train_no_outliers3 = train_no_outliers2[~outliers.any(axis=1)]"
   ]
  },
  {
   "cell_type": "code",
   "execution_count": 58,
   "id": "c0f3e121",
   "metadata": {},
   "outputs": [
    {
     "data": {
      "image/png": "[encoded data removed]",
      "text/plain": [
       "<Figure size 1000x500 with 2 Axes>"
      ]
     },
     "metadata": {},
     "output_type": "display_data"
    }
   ],
   "source": [
    "# 이상치 제거 확인\n",
    "preprocessed_cols = ['총상환원금비율', '총상환이자비율']\n",
    "\n",
    "fig, axs = plt.subplots(1, 2, figsize=(10, 5))\n",
    "\n",
    "for i, column in enumerate(preprocessed_cols):\n",
    "    ax = axs[i]\n",
    "    ax.boxplot(train_no_outliers3[column])\n",
    "    ax.set_title(column)\n",
    "\n",
    "plt.tight_layout()\n",
    "plt.show()"
   ]
  },
  {
   "cell_type": "code",
   "execution_count": 62,
   "id": "46d08a51",
   "metadata": {},
   "outputs": [
    {
     "data": {
      "text/html": [
       "<div>\n",
       "<style scoped>\n",
       "    .dataframe tbody tr th:only-of-type {\n",
       "        vertical-align: middle;\n",
       "    }\n",
       "\n",
       "    .dataframe tbody tr th {\n",
       "        vertical-align: top;\n",
       "    }\n",
       "\n",
       "    .dataframe thead th {\n",
       "        text-align: right;\n",
       "    }\n",
       "</style>\n",
       "<table border=\"1\" class=\"dataframe\">\n",
       "  <thead>\n",
       "    <tr style=\"text-align: right;\">\n",
       "      <th></th>\n",
       "      <th>대출등급</th>\n",
       "      <th>총상환원금비율</th>\n",
       "      <th>총상환이자비율</th>\n",
       "      <th>총상환원금_log</th>\n",
       "      <th>총상환이자_log</th>\n",
       "    </tr>\n",
       "  </thead>\n",
       "  <tbody>\n",
       "    <tr>\n",
       "      <th>0</th>\n",
       "      <td>C</td>\n",
       "      <td>0.000000</td>\n",
       "      <td>0.000000</td>\n",
       "      <td>0.000000</td>\n",
       "      <td>0.000000</td>\n",
       "    </tr>\n",
       "    <tr>\n",
       "      <th>1</th>\n",
       "      <td>B</td>\n",
       "      <td>0.025943</td>\n",
       "      <td>0.016254</td>\n",
       "      <td>12.830869</td>\n",
       "      <td>12.363337</td>\n",
       "    </tr>\n",
       "    <tr>\n",
       "      <th>2</th>\n",
       "      <td>A</td>\n",
       "      <td>0.077387</td>\n",
       "      <td>0.012662</td>\n",
       "      <td>13.741482</td>\n",
       "      <td>11.931274</td>\n",
       "    </tr>\n",
       "    <tr>\n",
       "      <th>3</th>\n",
       "      <td>C</td>\n",
       "      <td>0.022627</td>\n",
       "      <td>0.010632</td>\n",
       "      <td>12.694116</td>\n",
       "      <td>11.938905</td>\n",
       "    </tr>\n",
       "    <tr>\n",
       "      <th>4</th>\n",
       "      <td>B</td>\n",
       "      <td>0.012697</td>\n",
       "      <td>0.008275</td>\n",
       "      <td>12.339471</td>\n",
       "      <td>11.911413</td>\n",
       "    </tr>\n",
       "  </tbody>\n",
       "</table>\n",
       "</div>"
      ],
      "text/plain": [
       "  대출등급   총상환원금비율   총상환이자비율  총상환원금_log  총상환이자_log\n",
       "0    C  0.000000  0.000000   0.000000   0.000000\n",
       "1    B  0.025943  0.016254  12.830869  12.363337\n",
       "2    A  0.077387  0.012662  13.741482  11.931274\n",
       "3    C  0.022627  0.010632  12.694116  11.938905\n",
       "4    B  0.012697  0.008275  12.339471  11.911413"
      ]
     },
     "execution_count": 62,
     "metadata": {},
     "output_type": "execute_result"
    }
   ],
   "source": [
    "train_final = train_no_outliers3.copy()\n",
    "train_final.head()"
   ]
  },
  {
   "cell_type": "code",
   "execution_count": 60,
   "id": "e79f88b4",
   "metadata": {},
   "outputs": [],
   "source": [
    "# 데이터 저장 (2개 피쳐에서 이상치 제거한 버전 - 스케일링 되어있지 않음!)\n",
    "train_final.to_csv('train_processed.csv', index=False)"
   ]
  },
  {
   "cell_type": "code",
   "execution_count": 63,
   "id": "ec7ea34e",
   "metadata": {},
   "outputs": [],
   "source": [
    "# 스케일링\n",
    "from sklearn.preprocessing import RobustScaler\n",
    "\n",
    "numeric_cols = ['총상환원금비율', '총상환이자비율', '총상환원금_log', '총상환이자_log']\n",
    "\n",
    "scaler = RobustScaler()\n",
    "train_final[numeric_cols] = scaler.fit_transform(train_final[numeric_cols])"
   ]
  },
  {
   "cell_type": "code",
   "execution_count": 64,
   "id": "c0ae7d0a",
   "metadata": {},
   "outputs": [],
   "source": [
    "X = train_final.drop(['대출등급'], axis=1)\n",
    "y = train_final['대출등급']"
   ]
  },
  {
   "cell_type": "code",
   "execution_count": 65,
   "id": "2465e64d",
   "metadata": {},
   "outputs": [
    {
     "name": "stdout",
     "output_type": "stream",
     "text": [
      "0.9501403226376837\n",
      "0.9378653782122093\n"
     ]
    }
   ],
   "source": [
    "# 피쳐 2개 이상치 제거(총 4개) + 기본 모델 훈련\n",
    "rf = RandomForestClassifier(random_state=42)\n",
    "scores = cross_validate(rf, X, y, cv=StratifiedKFold(), scoring=scoring)\n",
    "print(np.mean(scores['test_accuracy']))\n",
    "print(np.mean(scores['test_f1_score_macro']))"
   ]
  },
  {
   "cell_type": "code",
   "execution_count": 66,
   "id": "2c5ad38f",
   "metadata": {
    "scrolled": true
   },
   "outputs": [
    {
     "name": "stdout",
     "output_type": "stream",
     "text": [
      "0.9439612325905051\n",
      "0.9132751461690981\n"
     ]
    }
   ],
   "source": [
    "# 피쳐 2개 이상치 제거(총 4개) + 튜닝 모델 훈련\n",
    "rf = RandomForestClassifier(\n",
    "    n_estimators=200, \n",
    "    max_depth=10, \n",
    "    min_samples_split=5,\n",
    "    min_samples_leaf=1,\n",
    "    n_jobs=-1,\n",
    "    random_state=42\n",
    ")\n",
    "scores = cross_validate(rf, X, y, cv=StratifiedKFold(), scoring=scoring)\n",
    "print(np.mean(scores['test_accuracy']))\n",
    "print(np.mean(scores['test_f1_score_macro']))"
   ]
  },
  {
   "cell_type": "code",
   "execution_count": 2,
   "id": "525a9086",
   "metadata": {},
   "outputs": [
    {
     "data": {
      "text/html": [
       "<div>\n",
       "<style scoped>\n",
       "    .dataframe tbody tr th:only-of-type {\n",
       "        vertical-align: middle;\n",
       "    }\n",
       "\n",
       "    .dataframe tbody tr th {\n",
       "        vertical-align: top;\n",
       "    }\n",
       "\n",
       "    .dataframe thead th {\n",
       "        text-align: right;\n",
       "    }\n",
       "</style>\n",
       "<table border=\"1\" class=\"dataframe\">\n",
       "  <thead>\n",
       "    <tr style=\"text-align: right;\">\n",
       "      <th></th>\n",
       "      <th>대출금액</th>\n",
       "      <th>대출등급</th>\n",
       "      <th>총상환원금비율</th>\n",
       "      <th>총상환이자비율</th>\n",
       "      <th>연간소득_log</th>\n",
       "      <th>총상환원금_log</th>\n",
       "      <th>총상환이자_log</th>\n",
       "    </tr>\n",
       "  </thead>\n",
       "  <tbody>\n",
       "    <tr>\n",
       "      <th>0</th>\n",
       "      <td>-0.313043</td>\n",
       "      <td>C</td>\n",
       "      <td>-0.957602</td>\n",
       "      <td>-0.963852</td>\n",
       "      <td>-0.119095</td>\n",
       "      <td>-10.843137</td>\n",
       "      <td>-8.705673</td>\n",
       "    </tr>\n",
       "    <tr>\n",
       "      <th>1</th>\n",
       "      <td>-0.173913</td>\n",
       "      <td>B</td>\n",
       "      <td>-0.387479</td>\n",
       "      <td>-0.160079</td>\n",
       "      <td>0.769179</td>\n",
       "      <td>-0.377136</td>\n",
       "      <td>-0.140917</td>\n",
       "    </tr>\n",
       "    <tr>\n",
       "      <th>2</th>\n",
       "      <td>-0.347826</td>\n",
       "      <td>A</td>\n",
       "      <td>0.743086</td>\n",
       "      <td>-0.337712</td>\n",
       "      <td>0.308944</td>\n",
       "      <td>0.365641</td>\n",
       "      <td>-0.440231</td>\n",
       "    </tr>\n",
       "    <tr>\n",
       "      <th>3</th>\n",
       "      <td>-0.173913</td>\n",
       "      <td>C</td>\n",
       "      <td>-0.460349</td>\n",
       "      <td>-0.438072</td>\n",
       "      <td>0.782767</td>\n",
       "      <td>-0.488684</td>\n",
       "      <td>-0.434944</td>\n",
       "    </tr>\n",
       "    <tr>\n",
       "      <th>4</th>\n",
       "      <td>0.086957</td>\n",
       "      <td>B</td>\n",
       "      <td>-0.678575</td>\n",
       "      <td>-0.554634</td>\n",
       "      <td>-0.124560</td>\n",
       "      <td>-0.777964</td>\n",
       "      <td>-0.453990</td>\n",
       "    </tr>\n",
       "  </tbody>\n",
       "</table>\n",
       "</div>"
      ],
      "text/plain": [
       "       대출금액 대출등급   총상환원금비율   총상환이자비율  연간소득_log  총상환원금_log  총상환이자_log\n",
       "0 -0.313043    C -0.957602 -0.963852 -0.119095 -10.843137  -8.705673\n",
       "1 -0.173913    B -0.387479 -0.160079  0.769179  -0.377136  -0.140917\n",
       "2 -0.347826    A  0.743086 -0.337712  0.308944   0.365641  -0.440231\n",
       "3 -0.173913    C -0.460349 -0.438072  0.782767  -0.488684  -0.434944\n",
       "4  0.086957    B -0.678575 -0.554634 -0.124560  -0.777964  -0.453990"
      ]
     },
     "execution_count": 2,
     "metadata": {},
     "output_type": "execute_result"
    }
   ],
   "source": [
    "train_scaled = pd.read_csv('train_scaled.csv')\n",
    "train_scaled.head()"
   ]
  },
  {
   "cell_type": "code",
   "execution_count": 4,
   "id": "3304131c",
   "metadata": {},
   "outputs": [],
   "source": [
    "train_scaled.drop(['대출금액', '연간소득_log'], axis=1, inplace=True)"
   ]
  },
  {
   "cell_type": "code",
   "execution_count": 5,
   "id": "bc275a66",
   "metadata": {},
   "outputs": [],
   "source": [
    "X = train_scaled.drop(['대출등급'], axis=1)\n",
    "y = train_scaled['대출등급']"
   ]
  },
  {
   "cell_type": "code",
   "execution_count": 8,
   "id": "417887ee",
   "metadata": {},
   "outputs": [],
   "source": [
    "# macro 대신 weighted 사용\n",
    "from sklearn.metrics import make_scorer, f1_score, accuracy_score\n",
    "\n",
    "scoring = {\n",
    "    'accuracy': make_scorer(accuracy_score),\n",
    "    'f1_score_weighted': make_scorer(f1_score, average='weighted')\n",
    "}"
   ]
  },
  {
   "cell_type": "code",
   "execution_count": 9,
   "id": "a2570f29",
   "metadata": {},
   "outputs": [
    {
     "name": "stdout",
     "output_type": "stream",
     "text": [
      "0.9502752473560545\n",
      "0.950893950439483\n"
     ]
    }
   ],
   "source": [
    "# weighted F1 점수 확인\n",
    "from sklearn.ensemble import RandomForestClassifier\n",
    "from sklearn.model_selection import cross_validate, StratifiedKFold\n",
    "\n",
    "rf = RandomForestClassifier(random_state=42)\n",
    "scores = cross_validate(rf, X, y, cv=StratifiedKFold(), scoring=scoring)\n",
    "print(np.mean(scores['test_accuracy']))\n",
    "print(np.mean(scores['test_f1_score_weighted']))"
   ]
  }
 ],
 "metadata": {
  "kernelspec": {
   "display_name": "Python 3 (ipykernel)",
   "language": "python",
   "name": "python3"
  },
  "language_info": {
   "codemirror_mode": {
    "name": "ipython",
    "version": 3
   },
   "file_extension": ".py",
   "mimetype": "text/x-python",
   "name": "python",
   "nbconvert_exporter": "python",
   "pygments_lexer": "ipython3",
   "version": "3.11.5"
  }
 },
 "nbformat": 4,
 "nbformat_minor": 5
}
