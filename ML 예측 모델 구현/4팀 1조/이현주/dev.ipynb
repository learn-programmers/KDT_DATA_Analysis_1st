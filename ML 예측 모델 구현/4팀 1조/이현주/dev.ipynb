{
 "cells": [
  {
   "cell_type": "code",
   "execution_count": 1,
   "id": "8bdf0a84",
   "metadata": {},
   "outputs": [],
   "source": [
    "import pandas as pd\n",
    "import matplotlib.pyplot as plt\n",
    "import seaborn as sns\n",
    "plt.rc('font', family='AppleGothic') "
   ]
  },
  {
   "cell_type": "code",
   "execution_count": 38,
   "id": "8832b1d8",
   "metadata": {},
   "outputs": [],
   "source": [
    "train=pd.read_csv(r\"C:/Users/user/OneDrive/바탕 화면/데브코스/open/train.csv\")\n",
    "test=pd.read_csv(r\"C:/Users/user/OneDrive/바탕 화면/데브코스/open/test.csv\")"
   ]
  },
  {
   "cell_type": "code",
   "execution_count": 3,
   "id": "ab979337",
   "metadata": {},
   "outputs": [
    {
     "data": {
      "text/html": [
       "<div>\n",
       "<style scoped>\n",
       "    .dataframe tbody tr th:only-of-type {\n",
       "        vertical-align: middle;\n",
       "    }\n",
       "\n",
       "    .dataframe tbody tr th {\n",
       "        vertical-align: top;\n",
       "    }\n",
       "\n",
       "    .dataframe thead th {\n",
       "        text-align: right;\n",
       "    }\n",
       "</style>\n",
       "<table border=\"1\" class=\"dataframe\">\n",
       "  <thead>\n",
       "    <tr style=\"text-align: right;\">\n",
       "      <th></th>\n",
       "      <th>ID</th>\n",
       "      <th>대출금액</th>\n",
       "      <th>대출기간</th>\n",
       "      <th>근로기간</th>\n",
       "      <th>주택소유상태</th>\n",
       "      <th>연간소득</th>\n",
       "      <th>부채_대비_소득_비율</th>\n",
       "      <th>총계좌수</th>\n",
       "      <th>대출목적</th>\n",
       "      <th>최근_2년간_연체_횟수</th>\n",
       "      <th>총상환원금</th>\n",
       "      <th>총상환이자</th>\n",
       "      <th>총연체금액</th>\n",
       "      <th>연체계좌수</th>\n",
       "      <th>대출등급</th>\n",
       "    </tr>\n",
       "  </thead>\n",
       "  <tbody>\n",
       "    <tr>\n",
       "      <th>0</th>\n",
       "      <td>TRAIN_00000</td>\n",
       "      <td>12480000</td>\n",
       "      <td>36 months</td>\n",
       "      <td>6 years</td>\n",
       "      <td>RENT</td>\n",
       "      <td>72000000</td>\n",
       "      <td>18.90</td>\n",
       "      <td>15</td>\n",
       "      <td>부채 통합</td>\n",
       "      <td>0</td>\n",
       "      <td>0</td>\n",
       "      <td>0.0</td>\n",
       "      <td>0.0</td>\n",
       "      <td>0.0</td>\n",
       "      <td>C</td>\n",
       "    </tr>\n",
       "    <tr>\n",
       "      <th>1</th>\n",
       "      <td>TRAIN_00001</td>\n",
       "      <td>14400000</td>\n",
       "      <td>60 months</td>\n",
       "      <td>10+ years</td>\n",
       "      <td>MORTGAGE</td>\n",
       "      <td>130800000</td>\n",
       "      <td>22.33</td>\n",
       "      <td>21</td>\n",
       "      <td>주택 개선</td>\n",
       "      <td>0</td>\n",
       "      <td>373572</td>\n",
       "      <td>234060.0</td>\n",
       "      <td>0.0</td>\n",
       "      <td>0.0</td>\n",
       "      <td>B</td>\n",
       "    </tr>\n",
       "    <tr>\n",
       "      <th>2</th>\n",
       "      <td>TRAIN_00002</td>\n",
       "      <td>12000000</td>\n",
       "      <td>36 months</td>\n",
       "      <td>5 years</td>\n",
       "      <td>MORTGAGE</td>\n",
       "      <td>96000000</td>\n",
       "      <td>8.60</td>\n",
       "      <td>14</td>\n",
       "      <td>부채 통합</td>\n",
       "      <td>0</td>\n",
       "      <td>928644</td>\n",
       "      <td>151944.0</td>\n",
       "      <td>0.0</td>\n",
       "      <td>0.0</td>\n",
       "      <td>A</td>\n",
       "    </tr>\n",
       "    <tr>\n",
       "      <th>3</th>\n",
       "      <td>TRAIN_00003</td>\n",
       "      <td>14400000</td>\n",
       "      <td>36 months</td>\n",
       "      <td>8 years</td>\n",
       "      <td>MORTGAGE</td>\n",
       "      <td>132000000</td>\n",
       "      <td>15.09</td>\n",
       "      <td>15</td>\n",
       "      <td>부채 통합</td>\n",
       "      <td>0</td>\n",
       "      <td>325824</td>\n",
       "      <td>153108.0</td>\n",
       "      <td>0.0</td>\n",
       "      <td>0.0</td>\n",
       "      <td>C</td>\n",
       "    </tr>\n",
       "    <tr>\n",
       "      <th>4</th>\n",
       "      <td>TRAIN_00004</td>\n",
       "      <td>18000000</td>\n",
       "      <td>60 months</td>\n",
       "      <td>Unknown</td>\n",
       "      <td>RENT</td>\n",
       "      <td>71736000</td>\n",
       "      <td>25.39</td>\n",
       "      <td>19</td>\n",
       "      <td>주요 구매</td>\n",
       "      <td>0</td>\n",
       "      <td>228540</td>\n",
       "      <td>148956.0</td>\n",
       "      <td>0.0</td>\n",
       "      <td>0.0</td>\n",
       "      <td>B</td>\n",
       "    </tr>\n",
       "  </tbody>\n",
       "</table>\n",
       "</div>"
      ],
      "text/plain": [
       "            ID      대출금액        대출기간       근로기간    주택소유상태       연간소득  \\\n",
       "0  TRAIN_00000  12480000   36 months    6 years      RENT   72000000   \n",
       "1  TRAIN_00001  14400000   60 months  10+ years  MORTGAGE  130800000   \n",
       "2  TRAIN_00002  12000000   36 months    5 years  MORTGAGE   96000000   \n",
       "3  TRAIN_00003  14400000   36 months    8 years  MORTGAGE  132000000   \n",
       "4  TRAIN_00004  18000000   60 months    Unknown      RENT   71736000   \n",
       "\n",
       "   부채_대비_소득_비율  총계좌수   대출목적  최근_2년간_연체_횟수   총상환원금     총상환이자  총연체금액  연체계좌수 대출등급  \n",
       "0        18.90    15  부채 통합             0       0       0.0    0.0    0.0    C  \n",
       "1        22.33    21  주택 개선             0  373572  234060.0    0.0    0.0    B  \n",
       "2         8.60    14  부채 통합             0  928644  151944.0    0.0    0.0    A  \n",
       "3        15.09    15  부채 통합             0  325824  153108.0    0.0    0.0    C  \n",
       "4        25.39    19  주요 구매             0  228540  148956.0    0.0    0.0    B  "
      ]
     },
     "execution_count": 3,
     "metadata": {},
     "output_type": "execute_result"
    }
   ],
   "source": [
    "train.head()"
   ]
  },
  {
   "cell_type": "code",
   "execution_count": 4,
   "id": "e1eebf1a",
   "metadata": {},
   "outputs": [
    {
     "name": "stdout",
     "output_type": "stream",
     "text": [
      "<class 'pandas.core.frame.DataFrame'>\n",
      "RangeIndex: 96294 entries, 0 to 96293\n",
      "Data columns (total 15 columns):\n",
      " #   Column        Non-Null Count  Dtype  \n",
      "---  ------        --------------  -----  \n",
      " 0   ID            96294 non-null  object \n",
      " 1   대출금액          96294 non-null  int64  \n",
      " 2   대출기간          96294 non-null  object \n",
      " 3   근로기간          96294 non-null  object \n",
      " 4   주택소유상태        96294 non-null  object \n",
      " 5   연간소득          96294 non-null  int64  \n",
      " 6   부채_대비_소득_비율   96294 non-null  float64\n",
      " 7   총계좌수          96294 non-null  int64  \n",
      " 8   대출목적          96294 non-null  object \n",
      " 9   최근_2년간_연체_횟수  96294 non-null  int64  \n",
      " 10  총상환원금         96294 non-null  int64  \n",
      " 11  총상환이자         96294 non-null  float64\n",
      " 12  총연체금액         96294 non-null  float64\n",
      " 13  연체계좌수         96294 non-null  float64\n",
      " 14  대출등급          96294 non-null  object \n",
      "dtypes: float64(4), int64(5), object(6)\n",
      "memory usage: 11.0+ MB\n"
     ]
    }
   ],
   "source": [
    "train.info()"
   ]
  },
  {
   "cell_type": "code",
   "execution_count": 5,
   "id": "0a4c693d",
   "metadata": {},
   "outputs": [
    {
     "data": {
      "text/plain": [
       "ID              0\n",
       "대출금액            0\n",
       "대출기간            0\n",
       "근로기간            0\n",
       "주택소유상태          0\n",
       "연간소득            0\n",
       "부채_대비_소득_비율     0\n",
       "총계좌수            0\n",
       "대출목적            0\n",
       "최근_2년간_연체_횟수    0\n",
       "총상환원금           0\n",
       "총상환이자           0\n",
       "총연체금액           0\n",
       "연체계좌수           0\n",
       "대출등급            0\n",
       "dtype: int64"
      ]
     },
     "execution_count": 5,
     "metadata": {},
     "output_type": "execute_result"
    }
   ],
   "source": [
    "train.isna().sum()"
   ]
  },
  {
   "cell_type": "code",
   "execution_count": 6,
   "id": "a1362319",
   "metadata": {},
   "outputs": [
    {
     "name": "stdout",
     "output_type": "stream",
     "text": [
      "ID\n",
      "['TRAIN_00000' 'TRAIN_00001' 'TRAIN_00002' ... 'TRAIN_96291' 'TRAIN_96292'\n",
      " 'TRAIN_96293']\n",
      "\n",
      "\n",
      "대출금액\n",
      "[12480000 14400000 12000000 ...  1650000 36240000 39450000]\n",
      "\n",
      "\n",
      "대출기간\n",
      "[' 36 months' ' 60 months']\n",
      "\n",
      "\n",
      "근로기간\n",
      "['6 years' '10+ years' '5 years' '8 years' 'Unknown' '9 years' '2 years'\n",
      " '1 year' '3 years' '7 years' '4 years' '< 1 year' '10+years' '<1 year'\n",
      " '3' '1 years']\n",
      "\n",
      "\n",
      "주택소유상태\n",
      "['RENT' 'MORTGAGE' 'OWN' 'ANY']\n",
      "\n",
      "\n",
      "연간소득\n",
      "[ 72000000 130800000  96000000 ...  78602400  83094000  66330000]\n",
      "\n",
      "\n",
      "부채_대비_소득_비율\n",
      "[18.9  22.33  8.6  ... 63.64 71.4  52.8 ]\n",
      "\n",
      "\n",
      "총계좌수\n",
      "[ 15  21  14  19  30  22  45  11  26  10  24  17  35  20   9  36  16  59\n",
      "  29  12  28  31   8  37   6   7  13  25  46  18  42  32  63  38  43  23\n",
      "  39  33  27  76   5  40  41  50  55  61  51  53  52  62  81  34  47  48\n",
      "  44   4  64  56  54  67  49  72  69  57  66  73  65 101  58  85  86  97\n",
      "  60  71  70  78  75  68  79  77  95  84  74  80  90  93  96  89  91  94\n",
      "  82  87 109 130 102 105  92  99 127 106  98  83 169 140 151  88 125 112\n",
      " 110]\n",
      "\n",
      "\n",
      "대출목적\n",
      "['부채 통합' '주택 개선' '주요 구매' '휴가' '의료' '자동차' '신용 카드' '소규모 사업' '기타' '이사' '주택'\n",
      " '재생 에너지']\n",
      "\n",
      "\n",
      "최근_2년간_연체_횟수\n",
      "[ 0  1  9 11  6  2  3  4  5 14  8  7 16 10 13 12 18 17 30 15]\n",
      "\n",
      "\n",
      "총상환원금\n",
      "[      0  373572  928644 ... 2132196 1481496 1378368]\n",
      "\n",
      "\n",
      "총상환이자\n",
      "[     0. 234060. 151944. ... 169680. 620328. 818076.]\n",
      "\n",
      "\n",
      "총연체금액\n",
      "[    0. 21792. 18000. 46536. 25284. 33996. 52308. 46500. 40716. 39588.\n",
      " 20292. 50064. 75768. 38712. 19116. 35304. 19212. 24000.  6000. 19608.\n",
      " 18660. 44688. 20124.  4800. 25512. 52032. 45576. 74076. 36888. 31416.\n",
      " 35868. 24180. 27900. 44496. 24300. 21696. 19620. 18288. 52428. 31320.\n",
      " 52884. 30192. 75216. 32088. 19944. 52836. 25524. 57276. 26148. 32316.\n",
      " 20196. 30780. 23628. 19200. 70044. 12000. 72000. 24600. 28356. 37440.\n",
      " 31308. 28884. 48300. 43584. 36000. 35148. 20136. 44292. 19128. 57672.\n",
      " 43968. 24864. 26760. 37704. 21264. 60396. 31860. 72864. 21252. 72444.\n",
      " 59184. 26436. 27300.  2400. 40872. 41388. 26412. 28692. 21444. 52452.\n",
      " 35376. 23592. 21324. 21240. 53712. 28716. 41592. 24096. 60576. 19800.\n",
      " 26160. 41352. 42276. 48000. 29964. 30636. 30600. 32052. 38292.]\n",
      "\n",
      "\n",
      "연체계좌수\n",
      "[0. 1. 2. 4.]\n",
      "\n",
      "\n",
      "대출등급\n",
      "['C' 'B' 'A' 'D' 'F' 'G' 'E']\n",
      "\n",
      "\n"
     ]
    }
   ],
   "source": [
    "column_names = train.columns.tolist()\n",
    "for i in column_names:\n",
    "    print(i)\n",
    "    print(train[i].unique())\n",
    "    print(\"\\n\")"
   ]
  },
  {
   "cell_type": "code",
   "execution_count": 7,
   "id": "d48aa718",
   "metadata": {},
   "outputs": [
    {
     "data": {
      "text/plain": [
       "0          6 years\n",
       "1        10+ years\n",
       "2          5 years\n",
       "3          8 years\n",
       "4          Unknown\n",
       "           ...    \n",
       "96289    10+ years\n",
       "96290    10+ years\n",
       "96291       1 year\n",
       "96292      5 years\n",
       "96293    10+ years\n",
       "Name: 근로기간, Length: 96294, dtype: object"
      ]
     },
     "execution_count": 7,
     "metadata": {},
     "output_type": "execute_result"
    }
   ],
   "source": [
    "train[\"근로기간\"]"
   ]
  },
  {
   "cell_type": "code",
   "execution_count": 8,
   "id": "c935de89",
   "metadata": {},
   "outputs": [
    {
     "name": "stdout",
     "output_type": "stream",
     "text": [
      "['1 year', '1 years', '10+ years', '10+years', '2 years', '3', '3 years', '4 years', '5 years', '6 years', '7 years', '8 years', '9 years', '< 1 year', '<1 year', 'Unknown']\n"
     ]
    }
   ],
   "source": [
    "print(sorted(train[\"근로기간\"].unique()))"
   ]
  },
  {
   "cell_type": "code",
   "execution_count": 9,
   "id": "ed38f845",
   "metadata": {},
   "outputs": [],
   "source": [
    "train['근로기간'] = train['근로기간'].map(lambda x:x.replace(' ', ''))"
   ]
  },
  {
   "cell_type": "code",
   "execution_count": 10,
   "id": "7b7bae5f",
   "metadata": {},
   "outputs": [
    {
     "name": "stdout",
     "output_type": "stream",
     "text": [
      "['10+years', '1year', '1years', '2years', '3', '3years', '4years', '5years', '6years', '7years', '8years', '9years', '<1year', 'Unknown']\n"
     ]
    }
   ],
   "source": [
    "print(sorted(train[\"근로기간\"].unique()))"
   ]
  },
  {
   "cell_type": "markdown",
   "id": "6779abbf",
   "metadata": {},
   "source": [
    "-----------------------------------------------------------------------------------------"
   ]
  },
  {
   "cell_type": "code",
   "execution_count": 11,
   "id": "b30b075e",
   "metadata": {},
   "outputs": [],
   "source": [
    "train.loc[train['근로기간']=='1year',\"근로기간\"]=\"1years\""
   ]
  },
  {
   "cell_type": "code",
   "execution_count": 12,
   "id": "9e1c1613",
   "metadata": {},
   "outputs": [
    {
     "name": "stdout",
     "output_type": "stream",
     "text": [
      "['10+years', '1years', '2years', '3', '3years', '4years', '5years', '6years', '7years', '8years', '9years', '<1year', 'Unknown']\n"
     ]
    }
   ],
   "source": [
    "print(sorted(train[\"근로기간\"].unique()))"
   ]
  },
  {
   "cell_type": "code",
   "execution_count": 13,
   "id": "25ce1e7a",
   "metadata": {},
   "outputs": [],
   "source": [
    "train['근로기간'] = train['근로기간'].map(lambda x:x.replace('years', ''))"
   ]
  },
  {
   "cell_type": "code",
   "execution_count": 14,
   "id": "b46910e7",
   "metadata": {},
   "outputs": [
    {
     "name": "stdout",
     "output_type": "stream",
     "text": [
      "['1', '10+', '2', '3', '4', '5', '6', '7', '8', '9', '<1year', 'Unknown']\n"
     ]
    }
   ],
   "source": [
    "print(sorted(train[\"근로기간\"].unique()))"
   ]
  },
  {
   "cell_type": "code",
   "execution_count": 15,
   "id": "acf6ac52",
   "metadata": {},
   "outputs": [],
   "source": [
    "train.loc[train[\"근로기간\"]==\"10+\", \"근로기간\"]=\"10\"\n",
    "train.loc[train[\"근로기간\"]=='<1year',\"근로기간\"]=\"0\"\n",
    "train.loc[train[\"근로기간\"]=='Unknown',\"근로기간\"]=\"0\""
   ]
  },
  {
   "cell_type": "code",
   "execution_count": 16,
   "id": "7248f453",
   "metadata": {},
   "outputs": [
    {
     "name": "stdout",
     "output_type": "stream",
     "text": [
      "['0', '1', '10', '2', '3', '4', '5', '6', '7', '8', '9']\n"
     ]
    }
   ],
   "source": [
    "print(sorted(train[\"근로기간\"].unique()))"
   ]
  },
  {
   "cell_type": "code",
   "execution_count": 17,
   "id": "580bfd60",
   "metadata": {},
   "outputs": [],
   "source": [
    "train[\"근로기간\"]=train[\"근로기간\"].astype(\"int\")"
   ]
  },
  {
   "cell_type": "code",
   "execution_count": 18,
   "id": "31a99131",
   "metadata": {},
   "outputs": [
    {
     "name": "stdout",
     "output_type": "stream",
     "text": [
      "<class 'pandas.core.frame.DataFrame'>\n",
      "RangeIndex: 96294 entries, 0 to 96293\n",
      "Data columns (total 15 columns):\n",
      " #   Column        Non-Null Count  Dtype  \n",
      "---  ------        --------------  -----  \n",
      " 0   ID            96294 non-null  object \n",
      " 1   대출금액          96294 non-null  int64  \n",
      " 2   대출기간          96294 non-null  object \n",
      " 3   근로기간          96294 non-null  int32  \n",
      " 4   주택소유상태        96294 non-null  object \n",
      " 5   연간소득          96294 non-null  int64  \n",
      " 6   부채_대비_소득_비율   96294 non-null  float64\n",
      " 7   총계좌수          96294 non-null  int64  \n",
      " 8   대출목적          96294 non-null  object \n",
      " 9   최근_2년간_연체_횟수  96294 non-null  int64  \n",
      " 10  총상환원금         96294 non-null  int64  \n",
      " 11  총상환이자         96294 non-null  float64\n",
      " 12  총연체금액         96294 non-null  float64\n",
      " 13  연체계좌수         96294 non-null  float64\n",
      " 14  대출등급          96294 non-null  object \n",
      "dtypes: float64(4), int32(1), int64(5), object(5)\n",
      "memory usage: 10.7+ MB\n"
     ]
    }
   ],
   "source": [
    "train.info()"
   ]
  },
  {
   "cell_type": "code",
   "execution_count": 19,
   "id": "21765ec5",
   "metadata": {},
   "outputs": [],
   "source": [
    "list_cat = ['대출기간', '근로기간', '주택소유상태', '대출목적']"
   ]
  },
  {
   "cell_type": "code",
   "execution_count": 20,
   "id": "06df0f79",
   "metadata": {},
   "outputs": [],
   "source": [
    "order=[\"A\",\"B\",\"C\",\"D\",\"E\",\"F\",\"G\"]"
   ]
  },
  {
   "cell_type": "code",
   "execution_count": 21,
   "id": "cf75f506",
   "metadata": {},
   "outputs": [
    {
     "data": {
      "text/plain": [
       "0         36 months\n",
       "1         60 months\n",
       "2         36 months\n",
       "3         36 months\n",
       "4         60 months\n",
       "            ...    \n",
       "96289     36 months\n",
       "96290     60 months\n",
       "96291     36 months\n",
       "96292     36 months\n",
       "96293     36 months\n",
       "Name: 대출기간, Length: 96294, dtype: object"
      ]
     },
     "execution_count": 21,
     "metadata": {},
     "output_type": "execute_result"
    }
   ],
   "source": [
    "train[\"대출기간\"]"
   ]
  },
  {
   "cell_type": "code",
   "execution_count": 22,
   "id": "f075b37e",
   "metadata": {},
   "outputs": [
    {
     "data": {
      "image/png": "[encoded data removed]",
      "text/plain": [
       "<Figure size 432x288 with 1 Axes>"
      ]
     },
     "metadata": {
      "needs_background": "light"
     },
     "output_type": "display_data"
    }
   ],
   "source": [
    "plt.rc('font', family='Malgun Gothic')\n",
    "sns.countplot(data=train,x=\"대출등급\", order=order)\n",
    "plt.xticks(rotation=45)\n",
    "plt.title(\"대출등급\")\n",
    "plt.show()"
   ]
  },
  {
   "cell_type": "code",
   "execution_count": 23,
   "id": "fd0df7f4",
   "metadata": {},
   "outputs": [
    {
     "data": {
      "image/png": "[encoded data removed]",
      "text/plain": [
       "<Figure size 432x288 with 1 Axes>"
      ]
     },
     "metadata": {
      "needs_background": "light"
     },
     "output_type": "display_data"
    },
    {
     "data": {
      "image/png": "[encoded data removed]",
      "text/plain": [
       "<Figure size 432x288 with 1 Axes>"
      ]
     },
     "metadata": {
      "needs_background": "light"
     },
     "output_type": "display_data"
    },
    {
     "data": {
      "image/png": "[encoded data removed]",
      "text/plain": [
       "<Figure size 432x288 with 1 Axes>"
      ]
     },
     "metadata": {
      "needs_background": "light"
     },
     "output_type": "display_data"
    },
    {
     "data": {
      "image/png": "[encoded data removed]",
      "text/plain": [
       "<Figure size 432x288 with 1 Axes>"
      ]
     },
     "metadata": {
      "needs_background": "light"
     },
     "output_type": "display_data"
    }
   ],
   "source": [
    "for col in list_cat:\n",
    "    plt.rc('font', family='Malgun Gothic')\n",
    "    sns.countplot(data=train,x=col, hue=\"대출등급\", hue_order=order)\n",
    "    plt.xticks(rotation=45)\n",
    "    plt.title(col)\n",
    "    plt.show()\n",
    "    #모기지- 주택담보대출"
   ]
  },
  {
   "cell_type": "code",
   "execution_count": 24,
   "id": "fe870c62",
   "metadata": {},
   "outputs": [
    {
     "data": {
      "text/plain": [
       "1"
      ]
     },
     "execution_count": 24,
     "metadata": {},
     "output_type": "execute_result"
    }
   ],
   "source": [
    "(train['주택소유상태'] == \"ANY\").sum()"
   ]
  },
  {
   "cell_type": "code",
   "execution_count": 25,
   "id": "12ae7e6a",
   "metadata": {},
   "outputs": [],
   "source": [
    "selected_rows=train[train['주택소유상태'] == 'ANY']"
   ]
  },
  {
   "cell_type": "code",
   "execution_count": 26,
   "id": "2424f311",
   "metadata": {},
   "outputs": [],
   "source": [
    "train.loc[selected_rows.index, '주택소유상태'] = \"MORTGAGE\""
   ]
  },
  {
   "cell_type": "code",
   "execution_count": 27,
   "id": "9bf9e4cd",
   "metadata": {},
   "outputs": [
    {
     "data": {
      "image/png": "[encoded data removed]",
      "text/plain": [
       "<Figure size 432x288 with 1 Axes>"
      ]
     },
     "metadata": {
      "needs_background": "light"
     },
     "output_type": "display_data"
    }
   ],
   "source": [
    "plt.rc('font', family='Malgun Gothic')\n",
    "sns.countplot(data=train,x=\"주택소유상태\")\n",
    "plt.xticks(rotation=45)\n",
    "plt.title(\"주택소유상태\")\n",
    "plt.show()"
   ]
  },
  {
   "cell_type": "code",
   "execution_count": 28,
   "id": "56c97bdd",
   "metadata": {},
   "outputs": [],
   "source": [
    "from sklearn.model_selection import train_test_split\n",
    "from sklearn.metrics import accuracy_score\n",
    "\n",
    "X = train.drop(['대출등급','ID'], axis = 1)\n",
    "y = train['대출등급']\n"
   ]
  },
  {
   "cell_type": "code",
   "execution_count": 29,
   "id": "5f18f7ce",
   "metadata": {},
   "outputs": [
    {
     "name": "stdout",
     "output_type": "stream",
     "text": [
      "           대출금액  대출기간  근로기간  주택소유상태       연간소득  부채_대비_소득_비율  총계좌수  대출목적  \\\n",
      "0      12480000     0     6       2   72000000        18.90    15     1   \n",
      "1      14400000     1    10       0  130800000        22.33    21    10   \n",
      "2      12000000     0     5       0   96000000         8.60    14     1   \n",
      "3      14400000     0     8       0  132000000        15.09    15     1   \n",
      "4      18000000     1     0       2   71736000        25.39    19     8   \n",
      "...         ...   ...   ...     ...        ...          ...   ...   ...   \n",
      "96289  14400000     0    10       0  210000000         9.33    33     3   \n",
      "96290  28800000     1    10       0  132000000         5.16    25    10   \n",
      "96291  14400000     0     1       0   84000000        11.24    22     3   \n",
      "96292  15600000     0     5       0   66330000        17.30    21     1   \n",
      "96293   8640000     0    10       2   50400000        11.80    14     3   \n",
      "\n",
      "       최근_2년간_연체_횟수    총상환원금     총상환이자  총연체금액  연체계좌수  \n",
      "0                 0        0       0.0    0.0    0.0  \n",
      "1                 0   373572  234060.0    0.0    0.0  \n",
      "2                 0   928644  151944.0    0.0    0.0  \n",
      "3                 0   325824  153108.0    0.0    0.0  \n",
      "4                 0   228540  148956.0    0.0    0.0  \n",
      "...             ...      ...       ...    ...    ...  \n",
      "96289             0   974580  492168.0    0.0    0.0  \n",
      "96290             0   583728  855084.0    0.0    0.0  \n",
      "96291             0  1489128  241236.0    0.0    0.0  \n",
      "96292             2  1378368  818076.0    0.0    0.0  \n",
      "96293             0   596148  274956.0    0.0    0.0  \n",
      "\n",
      "[96294 rows x 13 columns]\n",
      "(67405, 13)\n",
      "(67405,)\n"
     ]
    }
   ],
   "source": [
    "from sklearn.preprocessing import LabelEncoder\n",
    "# 라벨 인코더 객체 생성\n",
    "label_encoder = LabelEncoder()\n",
    "\n",
    "# 각 변수에 대해 라벨 인코딩 수행\n",
    "for col in list_cat:\n",
    "    X[col] = label_encoder.fit_transform(X[col])\n",
    "\n",
    "# 인코딩된 데이터 확인\n",
    "print(X)\n",
    "\n",
    "X_train, X_test, y_train, y_test=train_test_split(X, y,test_size=0.3, random_state=123)\n",
    "print(X_train.shape)\n",
    "print(y_train.shape)"
   ]
  },
  {
   "cell_type": "code",
   "execution_count": 30,
   "id": "bae317fc",
   "metadata": {},
   "outputs": [
    {
     "name": "stdout",
     "output_type": "stream",
     "text": [
      "Accuracy : 0.8283\n",
      "Precision : 0.8282\n"
     ]
    }
   ],
   "source": [
    "#의사결정나무\n",
    "from sklearn.tree import DecisionTreeClassifier\n",
    "from sklearn.metrics import accuracy_score, f1_score\n",
    "\n",
    "dt_clf = DecisionTreeClassifier(random_state = 123)\n",
    "dt_clf = dt_clf.fit(X_train, y_train)\n",
    "dt_pred = dt_clf.predict(X_test)\n",
    "\n",
    "accuracy_dt = accuracy_score(y_test, dt_pred)\n",
    "f1_dt = f1_score(y_test, dt_pred, average='weighted')\n",
    "print('Accuracy :', round(accuracy_dt,4))\n",
    "print('Precision :', round(f1_dt,4))"
   ]
  },
  {
   "cell_type": "code",
   "execution_count": 31,
   "id": "87d2a0dd",
   "metadata": {},
   "outputs": [
    {
     "name": "stdout",
     "output_type": "stream",
     "text": [
      "Best Hyperparameters: {'max_depth': 15, 'min_samples_leaf': 4, 'min_samples_split': 10}\n",
      "GridSarchCV highest Accuracy: 0.8390736958704005\n"
     ]
    }
   ],
   "source": [
    "# 의사결정나무 파라미터 튜닝\n",
    "from sklearn.model_selection import GridSearchCV\n",
    "\n",
    "params= {\n",
    "    'max_depth': [None, 5, 10, 15],\n",
    "    'min_samples_split': [2, 5, 10],\n",
    "    'min_samples_leaf': [1, 2, 4]\n",
    "} # 원하는 파라미터가 있다면 추가 가능\n",
    "\n",
    "grid_cv = GridSearchCV(estimator=dt_clf, param_grid = params, cv=5, scoring='accuracy')\n",
    "grid_cv.fit(X_train, y_train)\n",
    "\n",
    "best_params = grid_cv.best_params_\n",
    "print(f\"Best Hyperparameters: {best_params}\")\n",
    "\n",
    "best_model = grid_cv.best_estimator_\n",
    "y_pred = best_model.predict(X_test)\n",
    "\n",
    "accuracy = accuracy_score(y_test, y_pred)\n",
    "print(f\"GridSarchCV highest Accuracy: {accuracy}\")"
   ]
  },
  {
   "cell_type": "code",
   "execution_count": 32,
   "id": "90b124b4",
   "metadata": {},
   "outputs": [
    {
     "name": "stdout",
     "output_type": "stream",
     "text": [
      "Accuracy : 0.7931\n",
      "Precision : 0.7886\n"
     ]
    }
   ],
   "source": [
    "from sklearn.ensemble import RandomForestClassifier\n",
    "\n",
    "rf_clf = RandomForestClassifier(random_state = 123)\n",
    "rf_clf = rf_clf.fit(X_train, y_train)\n",
    "rf_pred = rf_clf.predict(X_test)\n",
    "\n",
    "accuracy_rf = accuracy_score(y_test, rf_pred)\n",
    "f1_rf = f1_score(y_test, rf_pred, average='weighted')\n",
    "print('Accuracy :', round(accuracy_rf,4))\n",
    "print('Precision :', round(f1_rf,4))"
   ]
  },
  {
   "cell_type": "code",
   "execution_count": 33,
   "id": "fbe596a4",
   "metadata": {},
   "outputs": [
    {
     "data": {
      "image/png": "[encoded data removed]",
      "text/plain": [
       "<Figure size 576x432 with 2 Axes>"
      ]
     },
     "metadata": {
      "needs_background": "light"
     },
     "output_type": "display_data"
    }
   ],
   "source": [
    "# 수치형 변수들만을 추출하여 새로운 데이터프레임 생성\n",
    "numeric_df = train.select_dtypes(include=['int', 'float'])\n",
    "\n",
    "# 상관관계 히트맵 그리기\n",
    "plt.figure(figsize=(8, 6))\n",
    "sns.heatmap(numeric_df.corr(), annot=True, cmap='coolwarm', linewidths=.5)\n",
    "plt.title('Heatmap of Numerical Variables')\n",
    "plt.show()"
   ]
  },
  {
   "cell_type": "code",
   "execution_count": 34,
   "id": "5d79367a",
   "metadata": {},
   "outputs": [
    {
     "name": "stdout",
     "output_type": "stream",
     "text": [
      "                ID      대출금액        대출기간  근로기간    주택소유상태       연간소득  \\\n",
      "0      TRAIN_00000  12480000   36 months     6      RENT   72000000   \n",
      "1      TRAIN_00001  14400000   60 months    10  MORTGAGE  130800000   \n",
      "2      TRAIN_00002  12000000   36 months     5  MORTGAGE   96000000   \n",
      "3      TRAIN_00003  14400000   36 months     8  MORTGAGE  132000000   \n",
      "4      TRAIN_00004  18000000   60 months     0      RENT   71736000   \n",
      "...            ...       ...         ...   ...       ...        ...   \n",
      "96289  TRAIN_96289  14400000   36 months    10  MORTGAGE  210000000   \n",
      "96290  TRAIN_96290  28800000   60 months    10  MORTGAGE  132000000   \n",
      "96291  TRAIN_96291  14400000   36 months     1  MORTGAGE   84000000   \n",
      "96292  TRAIN_96292  15600000   36 months     5  MORTGAGE   66330000   \n",
      "96293  TRAIN_96293   8640000   36 months    10      RENT   50400000   \n",
      "\n",
      "       부채_대비_소득_비율  총계좌수   대출목적  최근_2년간_연체_횟수    총상환원금     총상환이자  총연체금액  \\\n",
      "0            18.90    15  부채 통합             0        0       0.0    0.0   \n",
      "1            22.33    21  주택 개선             0   373572  234060.0    0.0   \n",
      "2             8.60    14  부채 통합             0   928644  151944.0    0.0   \n",
      "3            15.09    15  부채 통합             0   325824  153108.0    0.0   \n",
      "4            25.39    19  주요 구매             0   228540  148956.0    0.0   \n",
      "...            ...   ...    ...           ...      ...       ...    ...   \n",
      "96289         9.33    33  신용 카드             0   974580  492168.0    0.0   \n",
      "96290         5.16    25  주택 개선             0   583728  855084.0    0.0   \n",
      "96291        11.24    22  신용 카드             0  1489128  241236.0    0.0   \n",
      "96292        17.30    21  부채 통합             2  1378368  818076.0    0.0   \n",
      "96293        11.80    14  신용 카드             0   596148  274956.0    0.0   \n",
      "\n",
      "       연체계좌수 대출등급  근로기간 대비 대출금액  \n",
      "0        0.0    C     2080000.0  \n",
      "1        0.0    B     1440000.0  \n",
      "2        0.0    A     2400000.0  \n",
      "3        0.0    C     1800000.0  \n",
      "4        0.0    B           0.0  \n",
      "...      ...  ...           ...  \n",
      "96289    0.0    C     1440000.0  \n",
      "96290    0.0    E     2880000.0  \n",
      "96291    0.0    A    14400000.0  \n",
      "96292    0.0    D     3120000.0  \n",
      "96293    0.0    C      864000.0  \n",
      "\n",
      "[96294 rows x 16 columns]\n"
     ]
    }
   ],
   "source": [
    "# 근로기간이 0인 경우에는 대출금액 대비 근로기간을 0으로 설정하는 함수 정의\n",
    "def calculate_ratio(row):\n",
    "    if row[\"근로기간\"] == 0:\n",
    "        return 0\n",
    "    else:\n",
    "        return row[\"대출금액\"] / row[\"근로기간\"]\n",
    "\n",
    "# \"근로기간 대비 대출금액\" 열 추가\n",
    "train[\"근로기간 대비 대출금액\"] = train.apply(calculate_ratio, axis=1)\n",
    "\n",
    "print(train)"
   ]
  },
  {
   "cell_type": "code",
   "execution_count": 39,
   "id": "ba643e4d",
   "metadata": {},
   "outputs": [],
   "source": [
    "y1 = train['대출등급']\n",
    "train = train.drop(['대출등급','ID'], axis = 1)"
   ]
  },
  {
   "cell_type": "code",
   "execution_count": 40,
   "id": "d061b587",
   "metadata": {},
   "outputs": [
    {
     "name": "stdout",
     "output_type": "stream",
     "text": [
      "           대출금액  대출기간  근로기간  주택소유상태       연간소득  부채_대비_소득_비율  총계좌수  대출목적  \\\n",
      "0      12480000     0     6       2   72000000        18.90    15     1   \n",
      "1      14400000     1    10       0  130800000        22.33    21    10   \n",
      "2      12000000     0     5       0   96000000         8.60    14     1   \n",
      "3      14400000     0     8       0  132000000        15.09    15     1   \n",
      "4      18000000     1     0       2   71736000        25.39    19     8   \n",
      "...         ...   ...   ...     ...        ...          ...   ...   ...   \n",
      "96289  14400000     0    10       0  210000000         9.33    33     3   \n",
      "96290  28800000     1    10       0  132000000         5.16    25    10   \n",
      "96291  14400000     0     1       0   84000000        11.24    22     3   \n",
      "96292  15600000     0     5       0   66330000        17.30    21     1   \n",
      "96293   8640000     0    10       2   50400000        11.80    14     3   \n",
      "\n",
      "       최근_2년간_연체_횟수    총상환원금     총상환이자  총연체금액  연체계좌수  \n",
      "0                 0        0       0.0    0.0    0.0  \n",
      "1                 0   373572  234060.0    0.0    0.0  \n",
      "2                 0   928644  151944.0    0.0    0.0  \n",
      "3                 0   325824  153108.0    0.0    0.0  \n",
      "4                 0   228540  148956.0    0.0    0.0  \n",
      "...             ...      ...       ...    ...    ...  \n",
      "96289             0   974580  492168.0    0.0    0.0  \n",
      "96290             0   583728  855084.0    0.0    0.0  \n",
      "96291             0  1489128  241236.0    0.0    0.0  \n",
      "96292             2  1378368  818076.0    0.0    0.0  \n",
      "96293             0   596148  274956.0    0.0    0.0  \n",
      "\n",
      "[96294 rows x 13 columns]\n",
      "(67405, 13)\n",
      "(67405,)\n"
     ]
    }
   ],
   "source": [
    "# 라벨 인코더 객체 생성\n",
    "label_encoder = LabelEncoder()\n",
    "\n",
    "# 각 변수에 대해 라벨 인코딩 수행\n",
    "for col in list_cat:\n",
    "    train[col] = label_encoder.fit_transform(train[col])\n",
    "\n",
    "# 인코딩된 데이터 확인\n",
    "print(X)\n",
    "\n",
    "X_train1, X_test1, y_train1, y_test1=train_test_split(X, y1,test_size=0.3, random_state=123)\n",
    "print(X_train1.shape)\n",
    "print(y_train1.shape)"
   ]
  },
  {
   "cell_type": "code",
   "execution_count": 41,
   "id": "e2724c2e",
   "metadata": {},
   "outputs": [
    {
     "name": "stdout",
     "output_type": "stream",
     "text": [
      "Accuracy : 0.7931\n",
      "Precision : 0.7886\n"
     ]
    }
   ],
   "source": [
    "rf_clf1 = RandomForestClassifier(random_state = 123)\n",
    "rf_clf1 = rf_clf1.fit(X_train1, y_train1)\n",
    "rf_pred1 = rf_clf1.predict(X_test1)\n",
    "\n",
    "accuracy_rf1 = accuracy_score(y_test1, rf_pred1)\n",
    "f1_rf1 = f1_score(y_test1, rf_pred1, average='weighted')\n",
    "print('Accuracy :', round(accuracy_rf1,4))\n",
    "print('Precision :', round(f1_rf1,4))"
   ]
  },
  {
   "cell_type": "code",
   "execution_count": 42,
   "id": "c2447146",
   "metadata": {},
   "outputs": [],
   "source": [
    "import numpy as np"
   ]
  },
  {
   "cell_type": "code",
   "execution_count": 56,
   "id": "4a6718eb",
   "metadata": {},
   "outputs": [],
   "source": [
    "# 로그 변환 함수 정의\n",
    "def log_transform(x):\n",
    "    return np.log(x + 1)  # 로그 변환 시 0이 되는 경우를 방지하기 위해 1을 더해줍니다.\n",
    "# 대출금액에 로그 변환 적용\n",
    "train['대출금액_로그변환'] = train['대출금액'].apply(log_transform)\n",
    "train['연간소득_로그변환'] = train['연간소득'].apply(log_transform)\n",
    "test['대출금액_로그변환'] = test['대출금액'].apply(log_transform)\n",
    "test['연간소득_로그변환'] = test['연간소득'].apply(log_transform)\n",
    "\n",
    "\n",
    "X['대출금액_로그변환'] = X['대출금액'].apply(log_transform)\n",
    "X['연간소득_로그변환'] = X['연간소득'].apply(log_transform)\n",
    "test['대출금액_로그변환'] = test['대출금액'].apply(log_transform)\n",
    "test['연간소득_로그변환'] = test['연간소득'].apply(log_transform)"
   ]
  },
  {
   "cell_type": "code",
   "execution_count": 45,
   "id": "abe2282d",
   "metadata": {},
   "outputs": [
    {
     "name": "stdout",
     "output_type": "stream",
     "text": [
      "['대출금액', '대출기간', '근로기간', '주택소유상태', '연간소득', '부채_대비_소득_비율', '총계좌수', '대출목적', '최근_2년간_연체_횟수', '총상환원금', '총상환이자', '총연체금액', '연체계좌수', '대출금액_로그변환', '연간소득_로그변환']\n"
     ]
    }
   ],
   "source": [
    "columns_list = train.columns.tolist()\n",
    "\n",
    "print(columns_list)"
   ]
  },
  {
   "cell_type": "code",
   "execution_count": 49,
   "id": "8cbabdab",
   "metadata": {},
   "outputs": [
    {
     "name": "stdout",
     "output_type": "stream",
     "text": [
      "           대출금액  대출기간  근로기간  주택소유상태       연간소득  부채_대비_소득_비율  총계좌수  대출목적  \\\n",
      "0      12480000     0     6       2   72000000        18.90    15     1   \n",
      "1      14400000     1    10       0  130800000        22.33    21    10   \n",
      "2      12000000     0     5       0   96000000         8.60    14     1   \n",
      "3      14400000     0     8       0  132000000        15.09    15     1   \n",
      "4      18000000     1     0       2   71736000        25.39    19     8   \n",
      "...         ...   ...   ...     ...        ...          ...   ...   ...   \n",
      "96289  14400000     0    10       0  210000000         9.33    33     3   \n",
      "96290  28800000     1    10       0  132000000         5.16    25    10   \n",
      "96291  14400000     0     1       0   84000000        11.24    22     3   \n",
      "96292  15600000     0     5       0   66330000        17.30    21     1   \n",
      "96293   8640000     0    10       2   50400000        11.80    14     3   \n",
      "\n",
      "       최근_2년간_연체_횟수    총상환원금     총상환이자  총연체금액  연체계좌수  \n",
      "0                 0        0       0.0    0.0    0.0  \n",
      "1                 0   373572  234060.0    0.0    0.0  \n",
      "2                 0   928644  151944.0    0.0    0.0  \n",
      "3                 0   325824  153108.0    0.0    0.0  \n",
      "4                 0   228540  148956.0    0.0    0.0  \n",
      "...             ...      ...       ...    ...    ...  \n",
      "96289             0   974580  492168.0    0.0    0.0  \n",
      "96290             0   583728  855084.0    0.0    0.0  \n",
      "96291             0  1489128  241236.0    0.0    0.0  \n",
      "96292             2  1378368  818076.0    0.0    0.0  \n",
      "96293             0   596148  274956.0    0.0    0.0  \n",
      "\n",
      "[96294 rows x 13 columns]\n",
      "(67405, 13)\n",
      "(67405,)\n"
     ]
    }
   ],
   "source": [
    "# 라벨 인코더 객체 생성\n",
    "label_encoder = LabelEncoder()\n",
    "\n",
    "# 각 변수에 대해 라벨 인코딩 수행\n",
    "for col in list_cat:\n",
    "    X[col] = label_encoder.fit_transform(X[col])\n",
    "\n",
    "# 인코딩된 데이터 확인\n",
    "print(X)\n",
    "\n",
    "X_train1, X_test1, y_train1, y_test1=train_test_split(X, y1,test_size=0.3, random_state=123)\n",
    "print(X_train1.shape)\n",
    "print(y_train1.shape)"
   ]
  },
  {
   "cell_type": "code",
   "execution_count": 55,
   "id": "627836e1",
   "metadata": {},
   "outputs": [
    {
     "data": {
      "text/html": [
       "<div>\n",
       "<style scoped>\n",
       "    .dataframe tbody tr th:only-of-type {\n",
       "        vertical-align: middle;\n",
       "    }\n",
       "\n",
       "    .dataframe tbody tr th {\n",
       "        vertical-align: top;\n",
       "    }\n",
       "\n",
       "    .dataframe thead th {\n",
       "        text-align: right;\n",
       "    }\n",
       "</style>\n",
       "<table border=\"1\" class=\"dataframe\">\n",
       "  <thead>\n",
       "    <tr style=\"text-align: right;\">\n",
       "      <th></th>\n",
       "      <th>대출금액</th>\n",
       "      <th>대출기간</th>\n",
       "      <th>근로기간</th>\n",
       "      <th>주택소유상태</th>\n",
       "      <th>연간소득</th>\n",
       "      <th>부채_대비_소득_비율</th>\n",
       "      <th>총계좌수</th>\n",
       "      <th>대출목적</th>\n",
       "      <th>최근_2년간_연체_횟수</th>\n",
       "      <th>총상환원금</th>\n",
       "      <th>총상환이자</th>\n",
       "      <th>총연체금액</th>\n",
       "      <th>연체계좌수</th>\n",
       "    </tr>\n",
       "  </thead>\n",
       "  <tbody>\n",
       "    <tr>\n",
       "      <th>0</th>\n",
       "      <td>12480000</td>\n",
       "      <td>0</td>\n",
       "      <td>6</td>\n",
       "      <td>2</td>\n",
       "      <td>72000000</td>\n",
       "      <td>18.90</td>\n",
       "      <td>15</td>\n",
       "      <td>1</td>\n",
       "      <td>0</td>\n",
       "      <td>0</td>\n",
       "      <td>0.0</td>\n",
       "      <td>0.0</td>\n",
       "      <td>0.0</td>\n",
       "    </tr>\n",
       "    <tr>\n",
       "      <th>1</th>\n",
       "      <td>14400000</td>\n",
       "      <td>1</td>\n",
       "      <td>10</td>\n",
       "      <td>0</td>\n",
       "      <td>130800000</td>\n",
       "      <td>22.33</td>\n",
       "      <td>21</td>\n",
       "      <td>10</td>\n",
       "      <td>0</td>\n",
       "      <td>373572</td>\n",
       "      <td>234060.0</td>\n",
       "      <td>0.0</td>\n",
       "      <td>0.0</td>\n",
       "    </tr>\n",
       "    <tr>\n",
       "      <th>2</th>\n",
       "      <td>12000000</td>\n",
       "      <td>0</td>\n",
       "      <td>5</td>\n",
       "      <td>0</td>\n",
       "      <td>96000000</td>\n",
       "      <td>8.60</td>\n",
       "      <td>14</td>\n",
       "      <td>1</td>\n",
       "      <td>0</td>\n",
       "      <td>928644</td>\n",
       "      <td>151944.0</td>\n",
       "      <td>0.0</td>\n",
       "      <td>0.0</td>\n",
       "    </tr>\n",
       "    <tr>\n",
       "      <th>3</th>\n",
       "      <td>14400000</td>\n",
       "      <td>0</td>\n",
       "      <td>8</td>\n",
       "      <td>0</td>\n",
       "      <td>132000000</td>\n",
       "      <td>15.09</td>\n",
       "      <td>15</td>\n",
       "      <td>1</td>\n",
       "      <td>0</td>\n",
       "      <td>325824</td>\n",
       "      <td>153108.0</td>\n",
       "      <td>0.0</td>\n",
       "      <td>0.0</td>\n",
       "    </tr>\n",
       "    <tr>\n",
       "      <th>4</th>\n",
       "      <td>18000000</td>\n",
       "      <td>1</td>\n",
       "      <td>0</td>\n",
       "      <td>2</td>\n",
       "      <td>71736000</td>\n",
       "      <td>25.39</td>\n",
       "      <td>19</td>\n",
       "      <td>8</td>\n",
       "      <td>0</td>\n",
       "      <td>228540</td>\n",
       "      <td>148956.0</td>\n",
       "      <td>0.0</td>\n",
       "      <td>0.0</td>\n",
       "    </tr>\n",
       "    <tr>\n",
       "      <th>...</th>\n",
       "      <td>...</td>\n",
       "      <td>...</td>\n",
       "      <td>...</td>\n",
       "      <td>...</td>\n",
       "      <td>...</td>\n",
       "      <td>...</td>\n",
       "      <td>...</td>\n",
       "      <td>...</td>\n",
       "      <td>...</td>\n",
       "      <td>...</td>\n",
       "      <td>...</td>\n",
       "      <td>...</td>\n",
       "      <td>...</td>\n",
       "    </tr>\n",
       "    <tr>\n",
       "      <th>96289</th>\n",
       "      <td>14400000</td>\n",
       "      <td>0</td>\n",
       "      <td>10</td>\n",
       "      <td>0</td>\n",
       "      <td>210000000</td>\n",
       "      <td>9.33</td>\n",
       "      <td>33</td>\n",
       "      <td>3</td>\n",
       "      <td>0</td>\n",
       "      <td>974580</td>\n",
       "      <td>492168.0</td>\n",
       "      <td>0.0</td>\n",
       "      <td>0.0</td>\n",
       "    </tr>\n",
       "    <tr>\n",
       "      <th>96290</th>\n",
       "      <td>28800000</td>\n",
       "      <td>1</td>\n",
       "      <td>10</td>\n",
       "      <td>0</td>\n",
       "      <td>132000000</td>\n",
       "      <td>5.16</td>\n",
       "      <td>25</td>\n",
       "      <td>10</td>\n",
       "      <td>0</td>\n",
       "      <td>583728</td>\n",
       "      <td>855084.0</td>\n",
       "      <td>0.0</td>\n",
       "      <td>0.0</td>\n",
       "    </tr>\n",
       "    <tr>\n",
       "      <th>96291</th>\n",
       "      <td>14400000</td>\n",
       "      <td>0</td>\n",
       "      <td>1</td>\n",
       "      <td>0</td>\n",
       "      <td>84000000</td>\n",
       "      <td>11.24</td>\n",
       "      <td>22</td>\n",
       "      <td>3</td>\n",
       "      <td>0</td>\n",
       "      <td>1489128</td>\n",
       "      <td>241236.0</td>\n",
       "      <td>0.0</td>\n",
       "      <td>0.0</td>\n",
       "    </tr>\n",
       "    <tr>\n",
       "      <th>96292</th>\n",
       "      <td>15600000</td>\n",
       "      <td>0</td>\n",
       "      <td>5</td>\n",
       "      <td>0</td>\n",
       "      <td>66330000</td>\n",
       "      <td>17.30</td>\n",
       "      <td>21</td>\n",
       "      <td>1</td>\n",
       "      <td>2</td>\n",
       "      <td>1378368</td>\n",
       "      <td>818076.0</td>\n",
       "      <td>0.0</td>\n",
       "      <td>0.0</td>\n",
       "    </tr>\n",
       "    <tr>\n",
       "      <th>96293</th>\n",
       "      <td>8640000</td>\n",
       "      <td>0</td>\n",
       "      <td>10</td>\n",
       "      <td>2</td>\n",
       "      <td>50400000</td>\n",
       "      <td>11.80</td>\n",
       "      <td>14</td>\n",
       "      <td>3</td>\n",
       "      <td>0</td>\n",
       "      <td>596148</td>\n",
       "      <td>274956.0</td>\n",
       "      <td>0.0</td>\n",
       "      <td>0.0</td>\n",
       "    </tr>\n",
       "  </tbody>\n",
       "</table>\n",
       "<p>96294 rows × 13 columns</p>\n",
       "</div>"
      ],
      "text/plain": [
       "           대출금액  대출기간  근로기간  주택소유상태       연간소득  부채_대비_소득_비율  총계좌수  대출목적  \\\n",
       "0      12480000     0     6       2   72000000        18.90    15     1   \n",
       "1      14400000     1    10       0  130800000        22.33    21    10   \n",
       "2      12000000     0     5       0   96000000         8.60    14     1   \n",
       "3      14400000     0     8       0  132000000        15.09    15     1   \n",
       "4      18000000     1     0       2   71736000        25.39    19     8   \n",
       "...         ...   ...   ...     ...        ...          ...   ...   ...   \n",
       "96289  14400000     0    10       0  210000000         9.33    33     3   \n",
       "96290  28800000     1    10       0  132000000         5.16    25    10   \n",
       "96291  14400000     0     1       0   84000000        11.24    22     3   \n",
       "96292  15600000     0     5       0   66330000        17.30    21     1   \n",
       "96293   8640000     0    10       2   50400000        11.80    14     3   \n",
       "\n",
       "       최근_2년간_연체_횟수    총상환원금     총상환이자  총연체금액  연체계좌수  \n",
       "0                 0        0       0.0    0.0    0.0  \n",
       "1                 0   373572  234060.0    0.0    0.0  \n",
       "2                 0   928644  151944.0    0.0    0.0  \n",
       "3                 0   325824  153108.0    0.0    0.0  \n",
       "4                 0   228540  148956.0    0.0    0.0  \n",
       "...             ...      ...       ...    ...    ...  \n",
       "96289             0   974580  492168.0    0.0    0.0  \n",
       "96290             0   583728  855084.0    0.0    0.0  \n",
       "96291             0  1489128  241236.0    0.0    0.0  \n",
       "96292             2  1378368  818076.0    0.0    0.0  \n",
       "96293             0   596148  274956.0    0.0    0.0  \n",
       "\n",
       "[96294 rows x 13 columns]"
      ]
     },
     "execution_count": 55,
     "metadata": {},
     "output_type": "execute_result"
    }
   ],
   "source": []
  },
  {
   "cell_type": "code",
   "execution_count": 58,
   "id": "7f540550",
   "metadata": {},
   "outputs": [],
   "source": [
    "# 선택할 특성 변수들 정의\n",
    "train\n",
    "selected_features = ['대출기간', '근로기간', '주택소유상태', '부채_대비_소득_비율', \n",
    "                     '총계좌수', '대출목적', '최근_2년간_연체_횟수', '총상환원금', '총상환이자', \n",
    "                     '총연체금액', '연체계좌수', '대출금액_로그변환','연간소득_로그변환']\n",
    "\n",
    "# 선택된 변수들로 이루어진 데이터프레임 생성\n",
    "selected_df = X[selected_features]\n",
    "\n",
    "# 랜덤 포레스트 모델 훈련\n",
    "X = selected_df\n",
    "y1  # 예시로 타겟변수를 추가해줍니다.\n",
    "X_train2, X_test2, y_train2, y_test2=train_test_split(X, y1,test_size=0.3, random_state=123)\n",
    "model = RandomForestClassifier()"
   ]
  },
  {
   "cell_type": "code",
   "execution_count": 59,
   "id": "0ba79b52",
   "metadata": {},
   "outputs": [
    {
     "name": "stdout",
     "output_type": "stream",
     "text": [
      "Accuracy : 0.791\n",
      "Precision : 0.7866\n"
     ]
    }
   ],
   "source": [
    "rf_clf2 = model.fit(X_train2, y_train2)\n",
    "rf_pred2 = rf_clf2.predict(X_test2)\n",
    "\n",
    "accuracy_rf2 = accuracy_score(y_test2, rf_pred2)\n",
    "f1_rf2 = f1_score(y_test2, rf_pred2, average='weighted')\n",
    "print('Accuracy :', round(accuracy_rf2,4))\n",
    "print('Precision :', round(f1_rf2,4))"
   ]
  },
  {
   "cell_type": "code",
   "execution_count": 60,
   "id": "bab8d818",
   "metadata": {},
   "outputs": [
    {
     "name": "stdout",
     "output_type": "stream",
     "text": [
      "Accuracy : 0.7452\n",
      "Precision : 0.7407\n"
     ]
    }
   ],
   "source": [
    "from sklearn.ensemble import GradientBoostingClassifier\n",
    "\n",
    "g_boost = GradientBoostingClassifier(random_state = 123)\n",
    "g_boost.fit(X_train, y_train)\n",
    "g_boost_pred = g_boost.predict(X_test)\n",
    "\n",
    "accuracy_g_boost = accuracy_score(y_test, g_boost_pred)\n",
    "f1_g_boost = f1_score(y_test, g_boost_pred, average='weighted')\n",
    "print('Accuracy :', round(accuracy_g_boost,4))\n",
    "print('Precision :', round(f1_g_boost,4))"
   ]
  },
  {
   "cell_type": "markdown",
   "id": "f69b7fe5",
   "metadata": {},
   "source": [
    "파생변수만들기"
   ]
  },
  {
   "cell_type": "code",
   "execution_count": 61,
   "id": "a1406bf6",
   "metadata": {},
   "outputs": [],
   "source": [
    "# 총상환원금비율과 총상환이자비율 추가\n",
    "train['총상환원금비율'] = train['총상환원금'] / train['대출금액']\n",
    "train['총상환이자비율'] = train['총상환이자'] / train['대출금액']"
   ]
  },
  {
   "cell_type": "code",
   "execution_count": 62,
   "id": "663debae",
   "metadata": {},
   "outputs": [],
   "source": [
    "test['총상환원금비율'] = test['총상환원금'] / test['대출금액']\n",
    "test['총상환이자비율'] = test['총상환이자'] / test['대출금액']"
   ]
  },
  {
   "cell_type": "code",
   "execution_count": 63,
   "id": "3ee27b20",
   "metadata": {},
   "outputs": [
    {
     "name": "stdout",
     "output_type": "stream",
     "text": [
      "<class 'pandas.core.frame.DataFrame'>\n",
      "RangeIndex: 96294 entries, 0 to 96293\n",
      "Data columns (total 17 columns):\n",
      " #   Column        Non-Null Count  Dtype  \n",
      "---  ------        --------------  -----  \n",
      " 0   대출금액          96294 non-null  int64  \n",
      " 1   대출기간          96294 non-null  int32  \n",
      " 2   근로기간          96294 non-null  int32  \n",
      " 3   주택소유상태        96294 non-null  int32  \n",
      " 4   연간소득          96294 non-null  int64  \n",
      " 5   부채_대비_소득_비율   96294 non-null  float64\n",
      " 6   총계좌수          96294 non-null  int64  \n",
      " 7   대출목적          96294 non-null  int32  \n",
      " 8   최근_2년간_연체_횟수  96294 non-null  int64  \n",
      " 9   총상환원금         96294 non-null  int64  \n",
      " 10  총상환이자         96294 non-null  float64\n",
      " 11  총연체금액         96294 non-null  float64\n",
      " 12  연체계좌수         96294 non-null  float64\n",
      " 13  대출금액_로그변환     96294 non-null  float64\n",
      " 14  연간소득_로그변환     96294 non-null  float64\n",
      " 15  총상환원금비율       96294 non-null  float64\n",
      " 16  총상환이자비율       96294 non-null  float64\n",
      "dtypes: float64(8), int32(4), int64(5)\n",
      "memory usage: 11.0 MB\n"
     ]
    }
   ],
   "source": [
    "train.info()"
   ]
  },
  {
   "cell_type": "code",
   "execution_count": 66,
   "id": "2b8cc6f4",
   "metadata": {},
   "outputs": [
    {
     "name": "stdout",
     "output_type": "stream",
     "text": [
      "Accuracy : 0.9425\n",
      "Precision : 0.9422\n"
     ]
    }
   ],
   "source": [
    "# 선택할 특성 변수들 정의\n",
    "selected_features = ['대출기간', '근로기간', '주택소유상태', '부채_대비_소득_비율', \n",
    "                     '총계좌수', '대출목적', '최근_2년간_연체_횟수', '총상환원금', '총상환이자', \n",
    "                     '총연체금액', '연체계좌수', '대출금액_로그변환','연간소득_로그변환','총상환원금비율','총상환이자비율']\n",
    "\n",
    "# 선택된 변수들로 이루어진 데이터프레임 생성\n",
    "selected_df = train[selected_features]\n",
    "\n",
    "# 랜덤 포레스트 모델 훈련\n",
    "X = selected_df\n",
    "y1  # 예시로 타겟변수를 추가해줍니다.\n",
    "X_train2, X_test2, y_train2, y_test2=train_test_split(X, y1,test_size=0.3, random_state=123)\n",
    "model = RandomForestClassifier()\n",
    "rf_clf2 = model.fit(X_train2, y_train2)\n",
    "rf_pred2 = rf_clf2.predict(X_test2)\n",
    "\n",
    "accuracy_rf2 = accuracy_score(y_test2, rf_pred2)\n",
    "f1_rf2 = f1_score(y_test2, rf_pred2, average='weighted')\n",
    "print('Accuracy :', round(accuracy_rf2,4))\n",
    "print('Precision :', round(f1_rf2,4))"
   ]
  },
  {
   "cell_type": "code",
   "execution_count": 67,
   "id": "6b809e4b",
   "metadata": {},
   "outputs": [],
   "source": [
    "X \n",
    "X_train, X_test, y_train, y_test=train_test_split(X, y,test_size=0.3, random_state=123)"
   ]
  },
  {
   "cell_type": "code",
   "execution_count": 68,
   "id": "31505f32",
   "metadata": {},
   "outputs": [
    {
     "name": "stdout",
     "output_type": "stream",
     "text": [
      "Accuracy : 0.9528\n",
      "f1_score : 0.9472\n"
     ]
    }
   ],
   "source": [
    "g_boost = GradientBoostingClassifier(random_state = 123)\n",
    "g_boost.fit(X, y)\n",
    "g_boost_pred = g_boost.predict(X_test)\n",
    "\n",
    "accuracy_g_boost = accuracy_score(y_test, g_boost_pred)\n",
    "f1_g_boost = f1_score(y_test, g_boost_pred, average='macro')\n",
    "print('Accuracy :', round(accuracy_g_boost,4))\n",
    "print('f1_score :', round(f1_g_boost,4))"
   ]
  },
  {
   "cell_type": "code",
   "execution_count": null,
   "id": "3f041a09",
   "metadata": {},
   "outputs": [],
   "source": []
  }
 ],
 "metadata": {
  "kernelspec": {
   "display_name": "Python 3",
   "language": "python",
   "name": "python3"
  },
  "language_info": {
   "codemirror_mode": {
    "name": "ipython",
    "version": 3
   },
   "file_extension": ".py",
   "mimetype": "text/x-python",
   "name": "python",
   "nbconvert_exporter": "python",
   "pygments_lexer": "ipython3",
   "version": "3.8.8"
  }
 },
 "nbformat": 4,
 "nbformat_minor": 5
}
