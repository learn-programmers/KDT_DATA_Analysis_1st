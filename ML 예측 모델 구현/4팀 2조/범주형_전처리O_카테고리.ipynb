{
 "cells": [
  {
   "cell_type": "code",
   "execution_count": 1,
   "id": "d19341de-c0a1-4240-86fc-9b23be3cc9af",
   "metadata": {},
   "outputs": [],
   "source": [
    "import numpy as np\n",
    "import pandas as pd\n",
    "import matplotlib.pylab as plt\n",
    "import seaborn as sns\n",
    "import random\n",
    "import os\n",
    "sns.set(style=\"white\")\n",
    "\n",
    "# 한글 폰트 설정\n",
    "plt.rcParams['font.family'] = 'Malgun Gothic'\n",
    "plt.rcParams['axes.unicode_minus'] = False ## 마이너스 부호 깨짐 방지"
   ]
  },
  {
   "cell_type": "code",
   "execution_count": 2,
   "id": "17446af8-35af-4ea5-ad6a-7c48dce17081",
   "metadata": {},
   "outputs": [],
   "source": [
    "def set_random_seed(seed):\n",
    "    np.random.seed(seed)\n",
    "    random.seed(seed)\n",
    "    os.environ['PYTHONHASHSEED'] = str(seed)\n",
    "    \n",
    "random_seed = 1106\n",
    "set_random_seed(random_seed)"
   ]
  },
  {
   "cell_type": "markdown",
   "id": "ae777727-e318-49d6-be20-b0f623570ff8",
   "metadata": {},
   "source": [
    "|컬럼 |내용|\n",
    "|---|---|\n",
    "sessionID | 세션 ID|\n",
    "userID | 사용자 ID|\n",
    "TARGET | 세션에서 발생한 총 조회수|\n",
    "browser | 사용된 브라우저|\n",
    "OS | 사용된 기기의 운영체제|\n",
    "device | 사용된 기기|\n",
    "new | 첫 방문 여부 (0: 첫 방문 아님, 1: 첫 방문)|\n",
    "quality | 세션의 질 (거래 성사를 기준으로 측정된 값, 범위: 1~100)|\n",
    "duration | 총 세션 시간 (단위: 초)|\n",
    "bounced | 이탈 여부 (0: 이탈하지 않음, 1: 이탈함)|\n",
    "transaction | 세션 내에서 발생의 거래의 수|\n",
    "transaction_revenue | 총 거래 수익|\n",
    "continent | 세션이 발생한 대륙|\n",
    "subcontinent | 세션이 발생한 하위 대륙|\n",
    "country | 세션이 발생한 국가|\n",
    "traffic_source | 트래픽이 발생한 소스|\n",
    "traffic_medium | 트래픽 소스의 매체|\n",
    "keyword | 트래픽 소스의 키워드, 일반적으로 traffic_medium이 organic, cpc인 경우에 설정|\n",
    "referral_path | traffic_medium이 referral인 경우 설정되는 경로|"
   ]
  },
  {
   "cell_type": "markdown",
   "id": "5f3c0411-196a-40d6-834d-57b15f05e681",
   "metadata": {},
   "source": [
    "## 데이터 로드 "
   ]
  },
  {
   "cell_type": "code",
   "execution_count": 3,
   "id": "da49730a-33a5-4cad-82fc-0801e0e7acd8",
   "metadata": {
    "scrolled": true
   },
   "outputs": [
    {
     "data": {
      "text/html": [
       "<div>\n",
       "<style scoped>\n",
       "    .dataframe tbody tr th:only-of-type {\n",
       "        vertical-align: middle;\n",
       "    }\n",
       "\n",
       "    .dataframe tbody tr th {\n",
       "        vertical-align: top;\n",
       "    }\n",
       "\n",
       "    .dataframe thead th {\n",
       "        text-align: right;\n",
       "    }\n",
       "</style>\n",
       "<table border=\"1\" class=\"dataframe\">\n",
       "  <thead>\n",
       "    <tr style=\"text-align: right;\">\n",
       "      <th></th>\n",
       "      <th>sessionID</th>\n",
       "      <th>userID</th>\n",
       "      <th>TARGET</th>\n",
       "      <th>browser</th>\n",
       "      <th>OS</th>\n",
       "      <th>device</th>\n",
       "      <th>new</th>\n",
       "      <th>quality</th>\n",
       "      <th>duration</th>\n",
       "      <th>bounced</th>\n",
       "      <th>transaction</th>\n",
       "      <th>transaction_revenue</th>\n",
       "      <th>continent</th>\n",
       "      <th>subcontinent</th>\n",
       "      <th>country</th>\n",
       "      <th>traffic_source</th>\n",
       "      <th>traffic_medium</th>\n",
       "      <th>keyword</th>\n",
       "      <th>referral_path</th>\n",
       "    </tr>\n",
       "  </thead>\n",
       "  <tbody>\n",
       "    <tr>\n",
       "      <th>0</th>\n",
       "      <td>SESSION_000000</td>\n",
       "      <td>USER_000000</td>\n",
       "      <td>17.0</td>\n",
       "      <td>Chrome</td>\n",
       "      <td>Macintosh</td>\n",
       "      <td>desktop</td>\n",
       "      <td>0</td>\n",
       "      <td>45.0</td>\n",
       "      <td>839.0</td>\n",
       "      <td>0</td>\n",
       "      <td>0.0</td>\n",
       "      <td>0.0</td>\n",
       "      <td>Americas</td>\n",
       "      <td>Northern America</td>\n",
       "      <td>United States</td>\n",
       "      <td>google</td>\n",
       "      <td>organic</td>\n",
       "      <td>Category8</td>\n",
       "      <td>NaN</td>\n",
       "    </tr>\n",
       "    <tr>\n",
       "      <th>1</th>\n",
       "      <td>SESSION_000001</td>\n",
       "      <td>USER_000001</td>\n",
       "      <td>3.0</td>\n",
       "      <td>Chrome</td>\n",
       "      <td>Windows</td>\n",
       "      <td>desktop</td>\n",
       "      <td>1</td>\n",
       "      <td>1.0</td>\n",
       "      <td>39.0</td>\n",
       "      <td>0</td>\n",
       "      <td>0.0</td>\n",
       "      <td>0.0</td>\n",
       "      <td>Europe</td>\n",
       "      <td>Western Europe</td>\n",
       "      <td>Germany</td>\n",
       "      <td>google</td>\n",
       "      <td>organic</td>\n",
       "      <td>Category8</td>\n",
       "      <td>NaN</td>\n",
       "    </tr>\n",
       "    <tr>\n",
       "      <th>2</th>\n",
       "      <td>SESSION_000002</td>\n",
       "      <td>USER_000002</td>\n",
       "      <td>1.0</td>\n",
       "      <td>Samsung Internet</td>\n",
       "      <td>Android</td>\n",
       "      <td>mobile</td>\n",
       "      <td>1</td>\n",
       "      <td>1.0</td>\n",
       "      <td>0.0</td>\n",
       "      <td>1</td>\n",
       "      <td>0.0</td>\n",
       "      <td>0.0</td>\n",
       "      <td>Asia</td>\n",
       "      <td>Southeast Asia</td>\n",
       "      <td>Malaysia</td>\n",
       "      <td>(direct)</td>\n",
       "      <td>(none)</td>\n",
       "      <td>NaN</td>\n",
       "      <td>NaN</td>\n",
       "    </tr>\n",
       "    <tr>\n",
       "      <th>3</th>\n",
       "      <td>SESSION_000003</td>\n",
       "      <td>USER_000003</td>\n",
       "      <td>1.0</td>\n",
       "      <td>Chrome</td>\n",
       "      <td>Macintosh</td>\n",
       "      <td>desktop</td>\n",
       "      <td>1</td>\n",
       "      <td>1.0</td>\n",
       "      <td>0.0</td>\n",
       "      <td>1</td>\n",
       "      <td>0.0</td>\n",
       "      <td>0.0</td>\n",
       "      <td>Americas</td>\n",
       "      <td>Northern America</td>\n",
       "      <td>United States</td>\n",
       "      <td>Partners</td>\n",
       "      <td>affiliate</td>\n",
       "      <td>NaN</td>\n",
       "      <td>NaN</td>\n",
       "    </tr>\n",
       "    <tr>\n",
       "      <th>4</th>\n",
       "      <td>SESSION_000004</td>\n",
       "      <td>USER_000004</td>\n",
       "      <td>1.0</td>\n",
       "      <td>Chrome</td>\n",
       "      <td>iOS</td>\n",
       "      <td>mobile</td>\n",
       "      <td>0</td>\n",
       "      <td>1.0</td>\n",
       "      <td>0.0</td>\n",
       "      <td>1</td>\n",
       "      <td>0.0</td>\n",
       "      <td>0.0</td>\n",
       "      <td>Americas</td>\n",
       "      <td>Northern America</td>\n",
       "      <td>United States</td>\n",
       "      <td>groups.google.com</td>\n",
       "      <td>referral</td>\n",
       "      <td>NaN</td>\n",
       "      <td>Category6_Path_0000</td>\n",
       "    </tr>\n",
       "  </tbody>\n",
       "</table>\n",
       "</div>"
      ],
      "text/plain": [
       "        sessionID       userID  TARGET           browser         OS   device  \\\n",
       "0  SESSION_000000  USER_000000    17.0            Chrome  Macintosh  desktop   \n",
       "1  SESSION_000001  USER_000001     3.0            Chrome    Windows  desktop   \n",
       "2  SESSION_000002  USER_000002     1.0  Samsung Internet    Android   mobile   \n",
       "3  SESSION_000003  USER_000003     1.0            Chrome  Macintosh  desktop   \n",
       "4  SESSION_000004  USER_000004     1.0            Chrome        iOS   mobile   \n",
       "\n",
       "   new  quality  duration  bounced  transaction  transaction_revenue  \\\n",
       "0    0     45.0     839.0        0          0.0                  0.0   \n",
       "1    1      1.0      39.0        0          0.0                  0.0   \n",
       "2    1      1.0       0.0        1          0.0                  0.0   \n",
       "3    1      1.0       0.0        1          0.0                  0.0   \n",
       "4    0      1.0       0.0        1          0.0                  0.0   \n",
       "\n",
       "  continent      subcontinent        country     traffic_source  \\\n",
       "0  Americas  Northern America  United States             google   \n",
       "1    Europe    Western Europe        Germany             google   \n",
       "2      Asia    Southeast Asia       Malaysia           (direct)   \n",
       "3  Americas  Northern America  United States           Partners   \n",
       "4  Americas  Northern America  United States  groups.google.com   \n",
       "\n",
       "  traffic_medium    keyword        referral_path  \n",
       "0        organic  Category8                  NaN  \n",
       "1        organic  Category8                  NaN  \n",
       "2         (none)        NaN                  NaN  \n",
       "3      affiliate        NaN                  NaN  \n",
       "4       referral        NaN  Category6_Path_0000  "
      ]
     },
     "execution_count": 3,
     "metadata": {},
     "output_type": "execute_result"
    }
   ],
   "source": [
    "df = pd.read_csv(\"/3차프로젝트/Weblog_Data/train.csv\")\n",
    "test = pd.read_csv(\"/3차프로젝트/Weblog_Data/test.csv\")\n",
    "\n",
    "df.head()"
   ]
  },
  {
   "cell_type": "markdown",
   "id": "5f00da83-b016-4dde-9510-7007c39fc0fc",
   "metadata": {},
   "source": [
    "## 데이터 EDA\n",
    "keyword, referral_path 에서 결측치가 존재하는 것을 확인"
   ]
  },
  {
   "cell_type": "code",
   "execution_count": 4,
   "id": "617ba9f7-b77a-4a5f-bfaf-40835d553193",
   "metadata": {},
   "outputs": [
    {
     "name": "stdout",
     "output_type": "stream",
     "text": [
      "<class 'pandas.core.frame.DataFrame'>\n",
      "RangeIndex: 252289 entries, 0 to 252288\n",
      "Data columns (total 19 columns):\n",
      " #   Column               Non-Null Count   Dtype  \n",
      "---  ------               --------------   -----  \n",
      " 0   sessionID            252289 non-null  object \n",
      " 1   userID               252289 non-null  object \n",
      " 2   TARGET               252289 non-null  float64\n",
      " 3   browser              252289 non-null  object \n",
      " 4   OS                   252289 non-null  object \n",
      " 5   device               252289 non-null  object \n",
      " 6   new                  252289 non-null  int64  \n",
      " 7   quality              252289 non-null  float64\n",
      " 8   duration             252289 non-null  float64\n",
      " 9   bounced              252289 non-null  int64  \n",
      " 10  transaction          252289 non-null  float64\n",
      " 11  transaction_revenue  252289 non-null  float64\n",
      " 12  continent            252289 non-null  object \n",
      " 13  subcontinent         252289 non-null  object \n",
      " 14  country              252289 non-null  object \n",
      " 15  traffic_source       252289 non-null  object \n",
      " 16  traffic_medium       252289 non-null  object \n",
      " 17  keyword              114614 non-null  object \n",
      " 18  referral_path        91182 non-null   object \n",
      "dtypes: float64(5), int64(2), object(12)\n",
      "memory usage: 36.6+ MB\n"
     ]
    }
   ],
   "source": [
    "df.info()"
   ]
  },
  {
   "cell_type": "code",
   "execution_count": 5,
   "id": "147d63dc-1a37-4af2-ab5b-29af4c110ae9",
   "metadata": {},
   "outputs": [
    {
     "data": {
      "text/html": [
       "<div>\n",
       "<style scoped>\n",
       "    .dataframe tbody tr th:only-of-type {\n",
       "        vertical-align: middle;\n",
       "    }\n",
       "\n",
       "    .dataframe tbody tr th {\n",
       "        vertical-align: top;\n",
       "    }\n",
       "\n",
       "    .dataframe thead th {\n",
       "        text-align: right;\n",
       "    }\n",
       "</style>\n",
       "<table border=\"1\" class=\"dataframe\">\n",
       "  <thead>\n",
       "    <tr style=\"text-align: right;\">\n",
       "      <th></th>\n",
       "      <th>TARGET</th>\n",
       "      <th>new</th>\n",
       "      <th>quality</th>\n",
       "      <th>duration</th>\n",
       "      <th>bounced</th>\n",
       "      <th>transaction</th>\n",
       "      <th>transaction_revenue</th>\n",
       "    </tr>\n",
       "  </thead>\n",
       "  <tbody>\n",
       "    <tr>\n",
       "      <th>count</th>\n",
       "      <td>252289.000000</td>\n",
       "      <td>252289.000000</td>\n",
       "      <td>252289.000000</td>\n",
       "      <td>252289.000000</td>\n",
       "      <td>252289.000000</td>\n",
       "      <td>252289.000000</td>\n",
       "      <td>2.522890e+05</td>\n",
       "    </tr>\n",
       "    <tr>\n",
       "      <th>mean</th>\n",
       "      <td>3.592626</td>\n",
       "      <td>0.751955</td>\n",
       "      <td>3.816805</td>\n",
       "      <td>113.104253</td>\n",
       "      <td>0.493672</td>\n",
       "      <td>0.009033</td>\n",
       "      <td>9.061248e+05</td>\n",
       "    </tr>\n",
       "    <tr>\n",
       "      <th>std</th>\n",
       "      <td>5.509465</td>\n",
       "      <td>0.431879</td>\n",
       "      <td>11.091028</td>\n",
       "      <td>330.876019</td>\n",
       "      <td>0.499961</td>\n",
       "      <td>0.100938</td>\n",
       "      <td>2.127689e+07</td>\n",
       "    </tr>\n",
       "    <tr>\n",
       "      <th>min</th>\n",
       "      <td>1.000000</td>\n",
       "      <td>0.000000</td>\n",
       "      <td>1.000000</td>\n",
       "      <td>0.000000</td>\n",
       "      <td>0.000000</td>\n",
       "      <td>0.000000</td>\n",
       "      <td>0.000000e+00</td>\n",
       "    </tr>\n",
       "    <tr>\n",
       "      <th>25%</th>\n",
       "      <td>1.000000</td>\n",
       "      <td>1.000000</td>\n",
       "      <td>1.000000</td>\n",
       "      <td>0.000000</td>\n",
       "      <td>0.000000</td>\n",
       "      <td>0.000000</td>\n",
       "      <td>0.000000e+00</td>\n",
       "    </tr>\n",
       "    <tr>\n",
       "      <th>50%</th>\n",
       "      <td>2.000000</td>\n",
       "      <td>1.000000</td>\n",
       "      <td>1.000000</td>\n",
       "      <td>3.000000</td>\n",
       "      <td>0.000000</td>\n",
       "      <td>0.000000</td>\n",
       "      <td>0.000000e+00</td>\n",
       "    </tr>\n",
       "    <tr>\n",
       "      <th>75%</th>\n",
       "      <td>4.000000</td>\n",
       "      <td>1.000000</td>\n",
       "      <td>1.000000</td>\n",
       "      <td>71.000000</td>\n",
       "      <td>1.000000</td>\n",
       "      <td>0.000000</td>\n",
       "      <td>0.000000e+00</td>\n",
       "    </tr>\n",
       "    <tr>\n",
       "      <th>max</th>\n",
       "      <td>386.000000</td>\n",
       "      <td>1.000000</td>\n",
       "      <td>98.000000</td>\n",
       "      <td>11186.000000</td>\n",
       "      <td>1.000000</td>\n",
       "      <td>12.000000</td>\n",
       "      <td>3.325712e+09</td>\n",
       "    </tr>\n",
       "  </tbody>\n",
       "</table>\n",
       "</div>"
      ],
      "text/plain": [
       "              TARGET            new        quality       duration  \\\n",
       "count  252289.000000  252289.000000  252289.000000  252289.000000   \n",
       "mean        3.592626       0.751955       3.816805     113.104253   \n",
       "std         5.509465       0.431879      11.091028     330.876019   \n",
       "min         1.000000       0.000000       1.000000       0.000000   \n",
       "25%         1.000000       1.000000       1.000000       0.000000   \n",
       "50%         2.000000       1.000000       1.000000       3.000000   \n",
       "75%         4.000000       1.000000       1.000000      71.000000   \n",
       "max       386.000000       1.000000      98.000000   11186.000000   \n",
       "\n",
       "             bounced    transaction  transaction_revenue  \n",
       "count  252289.000000  252289.000000         2.522890e+05  \n",
       "mean        0.493672       0.009033         9.061248e+05  \n",
       "std         0.499961       0.100938         2.127689e+07  \n",
       "min         0.000000       0.000000         0.000000e+00  \n",
       "25%         0.000000       0.000000         0.000000e+00  \n",
       "50%         0.000000       0.000000         0.000000e+00  \n",
       "75%         1.000000       0.000000         0.000000e+00  \n",
       "max         1.000000      12.000000         3.325712e+09  "
      ]
     },
     "execution_count": 5,
     "metadata": {},
     "output_type": "execute_result"
    }
   ],
   "source": [
    "# duration,transaction_revenue 등 값의 범위가 매우 크기 때문에 데이터 스케일링을 진행할 필요성이 있어보인다. \n",
    "df.describe()"
   ]
  },
  {
   "cell_type": "code",
   "execution_count": 6,
   "id": "746956a7-8df9-4181-a776-975f872a445b",
   "metadata": {},
   "outputs": [
    {
     "data": {
      "text/html": [
       "<div>\n",
       "<style scoped>\n",
       "    .dataframe tbody tr th:only-of-type {\n",
       "        vertical-align: middle;\n",
       "    }\n",
       "\n",
       "    .dataframe tbody tr th {\n",
       "        vertical-align: top;\n",
       "    }\n",
       "\n",
       "    .dataframe thead th {\n",
       "        text-align: right;\n",
       "    }\n",
       "</style>\n",
       "<table border=\"1\" class=\"dataframe\">\n",
       "  <thead>\n",
       "    <tr style=\"text-align: right;\">\n",
       "      <th></th>\n",
       "      <th>sessionID</th>\n",
       "      <th>userID</th>\n",
       "      <th>browser</th>\n",
       "      <th>OS</th>\n",
       "      <th>device</th>\n",
       "      <th>continent</th>\n",
       "      <th>subcontinent</th>\n",
       "      <th>country</th>\n",
       "      <th>traffic_source</th>\n",
       "      <th>traffic_medium</th>\n",
       "      <th>keyword</th>\n",
       "      <th>referral_path</th>\n",
       "    </tr>\n",
       "  </thead>\n",
       "  <tbody>\n",
       "    <tr>\n",
       "      <th>count</th>\n",
       "      <td>252289</td>\n",
       "      <td>252289</td>\n",
       "      <td>252289</td>\n",
       "      <td>252289</td>\n",
       "      <td>252289</td>\n",
       "      <td>252289</td>\n",
       "      <td>252289</td>\n",
       "      <td>252289</td>\n",
       "      <td>252289</td>\n",
       "      <td>252289</td>\n",
       "      <td>114614</td>\n",
       "      <td>91182</td>\n",
       "    </tr>\n",
       "    <tr>\n",
       "      <th>unique</th>\n",
       "      <td>252289</td>\n",
       "      <td>206024</td>\n",
       "      <td>70</td>\n",
       "      <td>21</td>\n",
       "      <td>3</td>\n",
       "      <td>6</td>\n",
       "      <td>23</td>\n",
       "      <td>205</td>\n",
       "      <td>168</td>\n",
       "      <td>7</td>\n",
       "      <td>623</td>\n",
       "      <td>1578</td>\n",
       "    </tr>\n",
       "    <tr>\n",
       "      <th>top</th>\n",
       "      <td>SESSION_000000</td>\n",
       "      <td>USER_002675</td>\n",
       "      <td>Chrome</td>\n",
       "      <td>Windows</td>\n",
       "      <td>desktop</td>\n",
       "      <td>Americas</td>\n",
       "      <td>Northern America</td>\n",
       "      <td>United States</td>\n",
       "      <td>google</td>\n",
       "      <td>organic</td>\n",
       "      <td>Category8</td>\n",
       "      <td>Category1</td>\n",
       "    </tr>\n",
       "    <tr>\n",
       "      <th>freq</th>\n",
       "      <td>1</td>\n",
       "      <td>78</td>\n",
       "      <td>174395</td>\n",
       "      <td>88119</td>\n",
       "      <td>167133</td>\n",
       "      <td>126506</td>\n",
       "      <td>111945</td>\n",
       "      <td>104201</td>\n",
       "      <td>116007</td>\n",
       "      <td>107370</td>\n",
       "      <td>103584</td>\n",
       "      <td>18687</td>\n",
       "    </tr>\n",
       "  </tbody>\n",
       "</table>\n",
       "</div>"
      ],
      "text/plain": [
       "             sessionID       userID browser       OS   device continent  \\\n",
       "count           252289       252289  252289   252289   252289    252289   \n",
       "unique          252289       206024      70       21        3         6   \n",
       "top     SESSION_000000  USER_002675  Chrome  Windows  desktop  Americas   \n",
       "freq                 1           78  174395    88119   167133    126506   \n",
       "\n",
       "            subcontinent        country traffic_source traffic_medium  \\\n",
       "count             252289         252289         252289         252289   \n",
       "unique                23            205            168              7   \n",
       "top     Northern America  United States         google        organic   \n",
       "freq              111945         104201         116007         107370   \n",
       "\n",
       "          keyword referral_path  \n",
       "count      114614         91182  \n",
       "unique        623          1578  \n",
       "top     Category8     Category1  \n",
       "freq       103584         18687  "
      ]
     },
     "execution_count": 6,
     "metadata": {},
     "output_type": "execute_result"
    }
   ],
   "source": [
    "## userID에 중복이 존재한다. (나머지는 중복이 있지만, 카테고리.)\n",
    "df.describe(include='object')"
   ]
  },
  {
   "cell_type": "code",
   "execution_count": 7,
   "id": "ecef2e0c-8386-47c4-824d-a917d46ebcb1",
   "metadata": {},
   "outputs": [
    {
     "data": {
      "text/html": [
       "<div>\n",
       "<style scoped>\n",
       "    .dataframe tbody tr th:only-of-type {\n",
       "        vertical-align: middle;\n",
       "    }\n",
       "\n",
       "    .dataframe tbody tr th {\n",
       "        vertical-align: top;\n",
       "    }\n",
       "\n",
       "    .dataframe thead th {\n",
       "        text-align: right;\n",
       "    }\n",
       "</style>\n",
       "<table border=\"1\" class=\"dataframe\">\n",
       "  <thead>\n",
       "    <tr style=\"text-align: right;\">\n",
       "      <th></th>\n",
       "      <th>new</th>\n",
       "      <th>quality</th>\n",
       "      <th>duration</th>\n",
       "      <th>bounced</th>\n",
       "      <th>transaction</th>\n",
       "      <th>transaction_revenue</th>\n",
       "    </tr>\n",
       "  </thead>\n",
       "  <tbody>\n",
       "    <tr>\n",
       "      <th>count</th>\n",
       "      <td>79786.000000</td>\n",
       "      <td>79786.000000</td>\n",
       "      <td>79786.000000</td>\n",
       "      <td>79786.000000</td>\n",
       "      <td>79786.000000</td>\n",
       "      <td>7.978600e+04</td>\n",
       "    </tr>\n",
       "    <tr>\n",
       "      <th>mean</th>\n",
       "      <td>0.734515</td>\n",
       "      <td>3.967576</td>\n",
       "      <td>121.550635</td>\n",
       "      <td>0.496804</td>\n",
       "      <td>0.007909</td>\n",
       "      <td>9.552892e+05</td>\n",
       "    </tr>\n",
       "    <tr>\n",
       "      <th>std</th>\n",
       "      <td>0.441594</td>\n",
       "      <td>11.349192</td>\n",
       "      <td>349.168791</td>\n",
       "      <td>0.499993</td>\n",
       "      <td>0.095260</td>\n",
       "      <td>2.714007e+07</td>\n",
       "    </tr>\n",
       "    <tr>\n",
       "      <th>min</th>\n",
       "      <td>0.000000</td>\n",
       "      <td>1.000000</td>\n",
       "      <td>0.000000</td>\n",
       "      <td>0.000000</td>\n",
       "      <td>0.000000</td>\n",
       "      <td>0.000000e+00</td>\n",
       "    </tr>\n",
       "    <tr>\n",
       "      <th>25%</th>\n",
       "      <td>0.000000</td>\n",
       "      <td>1.000000</td>\n",
       "      <td>0.000000</td>\n",
       "      <td>0.000000</td>\n",
       "      <td>0.000000</td>\n",
       "      <td>0.000000e+00</td>\n",
       "    </tr>\n",
       "    <tr>\n",
       "      <th>50%</th>\n",
       "      <td>1.000000</td>\n",
       "      <td>1.000000</td>\n",
       "      <td>2.000000</td>\n",
       "      <td>0.000000</td>\n",
       "      <td>0.000000</td>\n",
       "      <td>0.000000e+00</td>\n",
       "    </tr>\n",
       "    <tr>\n",
       "      <th>75%</th>\n",
       "      <td>1.000000</td>\n",
       "      <td>1.000000</td>\n",
       "      <td>75.000000</td>\n",
       "      <td>1.000000</td>\n",
       "      <td>0.000000</td>\n",
       "      <td>0.000000e+00</td>\n",
       "    </tr>\n",
       "    <tr>\n",
       "      <th>max</th>\n",
       "      <td>1.000000</td>\n",
       "      <td>98.000000</td>\n",
       "      <td>9316.000000</td>\n",
       "      <td>1.000000</td>\n",
       "      <td>7.000000</td>\n",
       "      <td>4.609835e+09</td>\n",
       "    </tr>\n",
       "  </tbody>\n",
       "</table>\n",
       "</div>"
      ],
      "text/plain": [
       "                new       quality      duration       bounced   transaction  \\\n",
       "count  79786.000000  79786.000000  79786.000000  79786.000000  79786.000000   \n",
       "mean       0.734515      3.967576    121.550635      0.496804      0.007909   \n",
       "std        0.441594     11.349192    349.168791      0.499993      0.095260   \n",
       "min        0.000000      1.000000      0.000000      0.000000      0.000000   \n",
       "25%        0.000000      1.000000      0.000000      0.000000      0.000000   \n",
       "50%        1.000000      1.000000      2.000000      0.000000      0.000000   \n",
       "75%        1.000000      1.000000     75.000000      1.000000      0.000000   \n",
       "max        1.000000     98.000000   9316.000000      1.000000      7.000000   \n",
       "\n",
       "       transaction_revenue  \n",
       "count         7.978600e+04  \n",
       "mean          9.552892e+05  \n",
       "std           2.714007e+07  \n",
       "min           0.000000e+00  \n",
       "25%           0.000000e+00  \n",
       "50%           0.000000e+00  \n",
       "75%           0.000000e+00  \n",
       "max           4.609835e+09  "
      ]
     },
     "execution_count": 7,
     "metadata": {},
     "output_type": "execute_result"
    }
   ],
   "source": [
    "test.describe()"
   ]
  },
  {
   "cell_type": "code",
   "execution_count": 8,
   "id": "6624f86c-fca8-4935-aaec-d9bfde98929b",
   "metadata": {},
   "outputs": [
    {
     "data": {
      "text/html": [
       "<div>\n",
       "<style scoped>\n",
       "    .dataframe tbody tr th:only-of-type {\n",
       "        vertical-align: middle;\n",
       "    }\n",
       "\n",
       "    .dataframe tbody tr th {\n",
       "        vertical-align: top;\n",
       "    }\n",
       "\n",
       "    .dataframe thead th {\n",
       "        text-align: right;\n",
       "    }\n",
       "</style>\n",
       "<table border=\"1\" class=\"dataframe\">\n",
       "  <thead>\n",
       "    <tr style=\"text-align: right;\">\n",
       "      <th></th>\n",
       "      <th>sessionID</th>\n",
       "      <th>userID</th>\n",
       "      <th>browser</th>\n",
       "      <th>OS</th>\n",
       "      <th>device</th>\n",
       "      <th>continent</th>\n",
       "      <th>subcontinent</th>\n",
       "      <th>country</th>\n",
       "      <th>traffic_source</th>\n",
       "      <th>traffic_medium</th>\n",
       "      <th>keyword</th>\n",
       "      <th>referral_path</th>\n",
       "    </tr>\n",
       "  </thead>\n",
       "  <tbody>\n",
       "    <tr>\n",
       "      <th>count</th>\n",
       "      <td>79786</td>\n",
       "      <td>79786</td>\n",
       "      <td>79786</td>\n",
       "      <td>79786</td>\n",
       "      <td>79786</td>\n",
       "      <td>79786</td>\n",
       "      <td>79786</td>\n",
       "      <td>79786</td>\n",
       "      <td>79786</td>\n",
       "      <td>79786</td>\n",
       "      <td>36716</td>\n",
       "      <td>25895</td>\n",
       "    </tr>\n",
       "    <tr>\n",
       "      <th>unique</th>\n",
       "      <td>79786</td>\n",
       "      <td>64535</td>\n",
       "      <td>45</td>\n",
       "      <td>16</td>\n",
       "      <td>3</td>\n",
       "      <td>6</td>\n",
       "      <td>23</td>\n",
       "      <td>192</td>\n",
       "      <td>97</td>\n",
       "      <td>7</td>\n",
       "      <td>211</td>\n",
       "      <td>980</td>\n",
       "    </tr>\n",
       "    <tr>\n",
       "      <th>top</th>\n",
       "      <td>SESSION_252289</td>\n",
       "      <td>USER_108579</td>\n",
       "      <td>Chrome</td>\n",
       "      <td>Windows</td>\n",
       "      <td>desktop</td>\n",
       "      <td>Americas</td>\n",
       "      <td>Northern America</td>\n",
       "      <td>United States</td>\n",
       "      <td>google</td>\n",
       "      <td>organic</td>\n",
       "      <td>Category8</td>\n",
       "      <td>Category1</td>\n",
       "    </tr>\n",
       "    <tr>\n",
       "      <th>freq</th>\n",
       "      <td>1</td>\n",
       "      <td>58</td>\n",
       "      <td>57503</td>\n",
       "      <td>28383</td>\n",
       "      <td>54730</td>\n",
       "      <td>40429</td>\n",
       "      <td>35465</td>\n",
       "      <td>33179</td>\n",
       "      <td>37210</td>\n",
       "      <td>35894</td>\n",
       "      <td>34598</td>\n",
       "      <td>6050</td>\n",
       "    </tr>\n",
       "  </tbody>\n",
       "</table>\n",
       "</div>"
      ],
      "text/plain": [
       "             sessionID       userID browser       OS   device continent  \\\n",
       "count            79786        79786   79786    79786    79786     79786   \n",
       "unique           79786        64535      45       16        3         6   \n",
       "top     SESSION_252289  USER_108579  Chrome  Windows  desktop  Americas   \n",
       "freq                 1           58   57503    28383    54730     40429   \n",
       "\n",
       "            subcontinent        country traffic_source traffic_medium  \\\n",
       "count              79786          79786          79786          79786   \n",
       "unique                23            192             97              7   \n",
       "top     Northern America  United States         google        organic   \n",
       "freq               35465          33179          37210          35894   \n",
       "\n",
       "          keyword referral_path  \n",
       "count       36716         25895  \n",
       "unique        211           980  \n",
       "top     Category8     Category1  \n",
       "freq        34598          6050  "
      ]
     },
     "execution_count": 8,
     "metadata": {},
     "output_type": "execute_result"
    }
   ],
   "source": [
    "test.describe(include='object')"
   ]
  },
  {
   "cell_type": "markdown",
   "id": "6ff0f8fd-b205-4da4-b7d7-63b78e773992",
   "metadata": {},
   "source": [
    "### 결측치\n",
    "keyword, referral_path 결측치가 너무 많아 삭제하기에는 데이터 손실로 인하여 대체법 생각"
   ]
  },
  {
   "cell_type": "code",
   "execution_count": 9,
   "id": "d3e2c4c7-60b1-4364-9929-db1b935aa16e",
   "metadata": {},
   "outputs": [
    {
     "data": {
      "text/plain": [
       "sessionID                   0\n",
       "userID                      0\n",
       "TARGET                      0\n",
       "browser                     0\n",
       "OS                          0\n",
       "device                      0\n",
       "new                         0\n",
       "quality                     0\n",
       "duration                    0\n",
       "bounced                     0\n",
       "transaction                 0\n",
       "transaction_revenue         0\n",
       "continent                   0\n",
       "subcontinent                0\n",
       "country                     0\n",
       "traffic_source              0\n",
       "traffic_medium              0\n",
       "keyword                137675\n",
       "referral_path          161107\n",
       "dtype: int64"
      ]
     },
     "execution_count": 9,
     "metadata": {},
     "output_type": "execute_result"
    }
   ],
   "source": [
    "df.isnull().sum()"
   ]
  },
  {
   "cell_type": "code",
   "execution_count": 10,
   "id": "52d4d9e9-c57a-47af-b84e-e4f627d723f3",
   "metadata": {},
   "outputs": [
    {
     "data": {
      "text/plain": [
       "sessionID                  0\n",
       "userID                     0\n",
       "browser                    0\n",
       "OS                         0\n",
       "device                     0\n",
       "new                        0\n",
       "quality                    0\n",
       "duration                   0\n",
       "bounced                    0\n",
       "transaction                0\n",
       "transaction_revenue        0\n",
       "continent                  0\n",
       "subcontinent               0\n",
       "country                    0\n",
       "traffic_source             0\n",
       "traffic_medium             0\n",
       "keyword                43070\n",
       "referral_path          53891\n",
       "dtype: int64"
      ]
     },
     "execution_count": 10,
     "metadata": {},
     "output_type": "execute_result"
    }
   ],
   "source": [
    "test.isnull().sum()"
   ]
  },
  {
   "cell_type": "markdown",
   "id": "44eb8bab-b7d0-4c06-92e7-00f9e5423ddc",
   "metadata": {},
   "source": [
    "### 중복 데이터 확인"
   ]
  },
  {
   "cell_type": "code",
   "execution_count": 11,
   "id": "a63cc974-25a4-431b-b891-72dde7b9f03b",
   "metadata": {},
   "outputs": [
    {
     "data": {
      "text/plain": [
       "0"
      ]
     },
     "execution_count": 11,
     "metadata": {},
     "output_type": "execute_result"
    }
   ],
   "source": [
    "df.duplicated().sum()"
   ]
  },
  {
   "cell_type": "code",
   "execution_count": 12,
   "id": "f7d68b2b-632e-4c6a-8d7a-da34e8e68f93",
   "metadata": {},
   "outputs": [
    {
     "data": {
      "text/plain": [
       "0"
      ]
     },
     "execution_count": 12,
     "metadata": {},
     "output_type": "execute_result"
    }
   ],
   "source": [
    "test.duplicated().sum()"
   ]
  },
  {
   "cell_type": "markdown",
   "id": "09a7c434-92e4-46cc-be3b-5bec7bd38418",
   "metadata": {},
   "source": [
    "## 데이터 전처리"
   ]
  },
  {
   "cell_type": "code",
   "execution_count": 23,
   "id": "71b009e4-f318-4108-aa17-e64f07b59e4e",
   "metadata": {},
   "outputs": [],
   "source": [
    "## 학습에 사용하지 않을 변수 제거\n",
    "df.drop(['sessionID', 'userID'] , axis=1, inplace=True)\n",
    "test.drop(['sessionID', 'userID'] , axis=1, inplace=True)"
   ]
  },
  {
   "cell_type": "markdown",
   "id": "d02c6151-0285-41c8-8a68-77a6725c8433",
   "metadata": {},
   "source": [
    "### 결측치 전처리"
   ]
  },
  {
   "cell_type": "code",
   "execution_count": 24,
   "id": "5143dd3b-f1d9-493e-82d9-e2511a8eec2e",
   "metadata": {},
   "outputs": [],
   "source": [
    "## keyword\n",
    "df['keyword'].fillna(\"unknown\",inplace=True)\n",
    "test['keyword'].fillna(\"unknown\",inplace=True)\n",
    "\n",
    "## referral_path\n",
    "df['referral_path'].fillna(\"unknown\",inplace=True)\n",
    "test['referral_path'].fillna(\"unknown\",inplace=True)"
   ]
  },
  {
   "cell_type": "markdown",
   "id": "4d4e28f0-5290-440d-810d-ba0552d49d9a",
   "metadata": {},
   "source": [
    "### 데이터 스케일"
   ]
  },
  {
   "cell_type": "markdown",
   "id": "9b7825cd-0431-42f8-a0fe-781a3e0134fe",
   "metadata": {},
   "source": [
    "#### quality 이상치 처리\n",
    "- 로그변환으로 축소"
   ]
  },
  {
   "cell_type": "code",
   "execution_count": 25,
   "id": "a01942b4-a4f9-4a87-a52d-9710d2331a94",
   "metadata": {},
   "outputs": [],
   "source": [
    "### Train 데이터 전처리\n",
    "df['quality'] = np.log1p(df['quality'])\n",
    "\n",
    "### Test 데이터 전처리\n",
    "test['quality'] = np.log1p(test['quality'])"
   ]
  },
  {
   "cell_type": "markdown",
   "id": "eee78fe3-44e1-4ecc-834f-031e8131eea8",
   "metadata": {},
   "source": [
    "#### transaction_revenue 이상치 처리\n",
    "거래 수익이기 때문에 값의 범위를 조절하는 스케일링이 필수적 \n",
    "- 로그변환으로 축소"
   ]
  },
  {
   "cell_type": "code",
   "execution_count": 26,
   "id": "53b26cf1-a29f-41d8-8435-9bebb2030c32",
   "metadata": {},
   "outputs": [],
   "source": [
    "### Train 데이터 전처리\n",
    "df['transaction_revenue'] = np.log1p(df['transaction_revenue'])\n",
    "\n",
    "### Test 데이터 전처리\n",
    "test['transaction_revenue'] = np.log1p(test['transaction_revenue'])"
   ]
  },
  {
   "cell_type": "markdown",
   "id": "ccc268d8-590e-4851-9ce6-521110de9f6a",
   "metadata": {},
   "source": [
    "#### duration 이상치 처리\n",
    "- 로그변환으로 축소"
   ]
  },
  {
   "cell_type": "code",
   "execution_count": 27,
   "id": "3fb3f60d-2147-465c-a21e-ee913d848ca7",
   "metadata": {},
   "outputs": [],
   "source": [
    "### Train 데이터 전처리\n",
    "df['duration'] = np.log1p(df['duration'])\n",
    "\n",
    "### Test 데이터 전처리\n",
    "test['duration'] = np.log1p(test['duration'])"
   ]
  },
  {
   "cell_type": "markdown",
   "id": "220f21a1-d071-413e-a419-e766cada9d7c",
   "metadata": {},
   "source": [
    "### 범주형 전처리 (범위 축소)"
   ]
  },
  {
   "cell_type": "code",
   "execution_count": 28,
   "id": "415f2f17-f241-4004-8d7c-adbb334a8ff7",
   "metadata": {},
   "outputs": [],
   "source": [
    "def browser_cleaning(data, browser_col):\n",
    "    for i in browser_col:\n",
    "        data.loc[data['browser'] == i, 'browser'] = 'unknown'\n",
    "    return "
   ]
  },
  {
   "cell_type": "code",
   "execution_count": 29,
   "id": "b354363c-39f1-4237-8a3d-edb285e1438a",
   "metadata": {},
   "outputs": [],
   "source": [
    "## train, test 데이터의 범위가 같아서 진행해도 됨\n",
    "bb = test['browser'].value_counts().loc[:'Puffin'].index.tolist()\n",
    "aa = df['browser'].value_counts().loc[:'Puffin'].index.tolist()\n",
    "\n",
    "if str(aa).find(str(bb)):\n",
    "    pass\n",
    "else:\n",
    "    print(f\"{aa}값이 존재하지 않음\")"
   ]
  },
  {
   "cell_type": "code",
   "execution_count": 30,
   "id": "8c53950d-e86d-4856-983e-5eae626c3bb5",
   "metadata": {},
   "outputs": [],
   "source": [
    "## 상위 17개 browser 이후 데이터들은 다 unknown 처리\n",
    "unknown_df = df['browser'].value_counts().iloc[17:].index.tolist()\n",
    "unknown_test = test['browser'].value_counts().iloc[17:].index.tolist()"
   ]
  },
  {
   "cell_type": "code",
   "execution_count": 31,
   "id": "8cf64b88-a477-40fc-8101-ff83238db715",
   "metadata": {},
   "outputs": [
    {
     "name": "stdout",
     "output_type": "stream",
     "text": [
      "18\n",
      "18\n"
     ]
    }
   ],
   "source": [
    "######### browser 전처리 #########\n",
    "\n",
    "# train data browser 전처리\n",
    "browser_cleaning(df, unknown_df)\n",
    "print(len(df['browser'].value_counts()))\n",
    "\n",
    "# test data browser 전처리\n",
    "browser_cleaning(test, unknown_test)\n",
    "print(len(test['browser'].value_counts()))"
   ]
  },
  {
   "cell_type": "code",
   "execution_count": 32,
   "id": "b226d6a7-78d9-4568-a0e9-8b3decea5065",
   "metadata": {},
   "outputs": [],
   "source": [
    "def os_cleaning(data, cleaning_type):\n",
    "    \n",
    "    #######  방법 1 unknown 으로 전처리  #######\n",
    "    #######  방법 2 (not set)으로 전처리  #######\n",
    "    \n",
    "    not_in_col = data[~data['OS'].isin(os_col)].index\n",
    "    \n",
    "    data.loc[not_in_col, 'OS'] = cleaning_type\n",
    "    \n",
    "    return "
   ]
  },
  {
   "cell_type": "code",
   "execution_count": 33,
   "id": "96807924-3c34-4927-a705-061c8cec7f0e",
   "metadata": {},
   "outputs": [
    {
     "name": "stdout",
     "output_type": "stream",
     "text": [
      "['Macintosh' 'Windows' 'Android' 'iOS' 'Linux' '(not set)' 'Chrome OS']\n",
      "['Linux' 'iOS' 'Windows' 'Android' '(not set)' 'Macintosh' 'Chrome OS']\n"
     ]
    }
   ],
   "source": [
    "######### os 전처리 #########\n",
    "\n",
    "# 유명한 os \n",
    "os_col = ['Windows', 'Macintosh', 'Android', 'iOS', 'Linux', 'Chrome OS','(not set)']\n",
    "\n",
    "# train data OS 전처리\n",
    "os_cleaning(df, '(not set)')\n",
    "print(df['OS'].unique())\n",
    "\n",
    "# test data OS 전처리\n",
    "os_cleaning(test, '(not set)')\n",
    "print(test['OS'].unique())"
   ]
  },
  {
   "cell_type": "code",
   "execution_count": 34,
   "id": "8416d057-bdc6-4c69-be4e-6c805e790c18",
   "metadata": {},
   "outputs": [],
   "source": [
    "def traffic_cleaning(data):\n",
    "    data.loc[data['traffic_source'].str.contains('google'), 'traffic_source'] = 'google'\n",
    "    data.loc[data['traffic_source'].str.contains('youtube'), 'traffic_source'] = 'youtube'\n",
    "    data.loc[data['traffic_source'].str.contains('facebook'), 'traffic_source'] = 'facebook'\n",
    "    data.loc[data['traffic_source'].str.contains('yahoo'), 'traffic_source'] = 'yahoo'\n",
    "    \n",
    "    traffic_col = data['traffic_source'].value_counts().index[:5] ## 상위 5개\n",
    "\n",
    "    not_in_traffic_col = data[~data['traffic_source'].isin(traffic_col)].index\n",
    "    \n",
    "    data.loc[not_in_traffic_col, 'traffic_source'] = \"unknown\"\n",
    "    \n",
    "    return "
   ]
  },
  {
   "cell_type": "code",
   "execution_count": 35,
   "id": "e3ee8847-f9c4-4516-92ea-0f27f3324fbb",
   "metadata": {},
   "outputs": [
    {
     "name": "stdout",
     "output_type": "stream",
     "text": [
      "['google' '(direct)' 'Partners' 'youtube' 'unknown' 'facebook']\n",
      "['(direct)' 'google' 'youtube' 'Partners' 'unknown' 'facebook']\n"
     ]
    }
   ],
   "source": [
    "######### traffic_source 전처리 #########\n",
    "\n",
    "# train data traffic_source 전처리\n",
    "traffic_cleaning(df)\n",
    "print(df['traffic_source'].unique())\n",
    "\n",
    "# test data traffic_source 전처리\n",
    "traffic_cleaning(test)\n",
    "print(test['traffic_source'].unique())"
   ]
  },
  {
   "cell_type": "code",
   "execution_count": 36,
   "id": "2090cba6-0fdc-45c0-a8a8-6dfd0e7d50a1",
   "metadata": {},
   "outputs": [],
   "source": [
    "def keyword_cleaning(data):\n",
    "    \n",
    "    tt = data['keyword'].tolist()\n",
    "    data['keyword'] = [t.split(\"_\")[0] for t in tt]\n",
    "    \n",
    "    return "
   ]
  },
  {
   "cell_type": "code",
   "execution_count": 37,
   "id": "f2075009-1245-440f-9660-44796e48d666",
   "metadata": {},
   "outputs": [
    {
     "name": "stdout",
     "output_type": "stream",
     "text": [
      "['Category8' 'unknown' 'Category9' 'Category1' 'Category10' 'Category6'\n",
      " 'Category2' 'Category11' 'Category4' 'Category3' 'Category5' 'Category12'\n",
      " 'Category7']\n",
      "['unknown' 'Category8' 'Category3' 'Category10' 'Category5' 'Category9'\n",
      " 'Category1' 'Category4' 'Category11' 'Category2' 'Category6' 'Category12'\n",
      " 'Category7']\n"
     ]
    }
   ],
   "source": [
    "######### keyword 전처리 #########\n",
    "\n",
    "# train data keyword 전처리\n",
    "keyword_cleaning(df)\n",
    "print(df['keyword'].unique())\n",
    "\n",
    "# test data keyword 전처리\n",
    "keyword_cleaning(test)\n",
    "print(test['keyword'].unique())"
   ]
  },
  {
   "cell_type": "code",
   "execution_count": 38,
   "id": "1a8aa205-f568-45fc-800c-70765d881140",
   "metadata": {},
   "outputs": [],
   "source": [
    "def referral_cleaning(data):\n",
    "    \n",
    "    tt = data['referral_path'].tolist()\n",
    "    data['referral_path'] = [t.split(\"_\")[0] for t in tt]\n",
    "    \n",
    "    return "
   ]
  },
  {
   "cell_type": "code",
   "execution_count": 39,
   "id": "9466e32a-f20a-4f7b-bcb3-47490ba7cc07",
   "metadata": {},
   "outputs": [
    {
     "name": "stdout",
     "output_type": "stream",
     "text": [
      "['unknown' 'Category6' 'Category7' 'Category5' 'Category11' 'Category8'\n",
      " 'Category9' 'Category13' 'Category1' 'Category2' 'Category3' 'Category4'\n",
      " 'Category12' 'Category10']\n",
      "['Category1' 'unknown' 'Category2' 'Category11' 'Category3' 'Category10'\n",
      " 'Category6' 'Category8' 'Category5' 'Category12' 'Category13' 'Category7'\n",
      " 'Category9' 'Category4']\n"
     ]
    }
   ],
   "source": [
    "######### keyword 전처리 #########\n",
    "\n",
    "# train data keyword 전처리\n",
    "referral_cleaning(df)\n",
    "print(df['referral_path'].unique())\n",
    "\n",
    "# test data keyword 전처리\n",
    "referral_cleaning(test)\n",
    "print(test['referral_path'].unique())"
   ]
  },
  {
   "cell_type": "markdown",
   "id": "49af8f53-2f17-48fd-970f-dac51cb01baa",
   "metadata": {},
   "source": [
    "### 범주형 전처리 (카테고리로 변경)"
   ]
  },
  {
   "cell_type": "code",
   "execution_count": 40,
   "id": "d3848393-e5ea-4350-ad68-6dfb4c8b7a0b",
   "metadata": {},
   "outputs": [],
   "source": [
    "categorical_features = [\n",
    "\"browser\",\n",
    "\"OS\",\n",
    "\"device\",\n",
    "\"continent\",\n",
    "\"subcontinent\",\n",
    "\"country\",\n",
    "\"traffic_source\",\n",
    "\"traffic_medium\",\n",
    "\"keyword\",\n",
    "\"referral_path\",\n",
    "]\n",
    "\n",
    "for i in categorical_features:\n",
    "    df[i] = df[i].astype('category')\n",
    "    test[i] = test[i].astype('category')"
   ]
  },
  {
   "cell_type": "markdown",
   "id": "f6ef2922-1eca-4442-9ff7-a8712b88be7b",
   "metadata": {},
   "source": [
    "### 범주형 변수 상관계수 (Cramer-V)"
   ]
  },
  {
   "cell_type": "code",
   "execution_count": 41,
   "id": "00276deb-52c6-4a97-a690-b4d06800c43b",
   "metadata": {},
   "outputs": [],
   "source": [
    "from scipy.stats.contingency import association\n",
    "from scipy.stats import chi2_contingency\n",
    "\n",
    "def corr_cramer(x):\n",
    "    new_tab = pd.crosstab(df['TARGET'], df[x])\n",
    "    result = association(new_tab, method=\"cramer\")\n",
    "    return result"
   ]
  },
  {
   "cell_type": "code",
   "execution_count": 42,
   "id": "4f94e53d-69bd-408e-b1e0-fae0452cb2f1",
   "metadata": {},
   "outputs": [],
   "source": [
    "# for col in object_col:\n",
    "#     print(col, \"상관계수:\", np.round(corr_cramer(col), 5))"
   ]
  },
  {
   "cell_type": "markdown",
   "id": "59f15772-da75-4bb0-af51-0cad93f562a9",
   "metadata": {},
   "source": [
    "## 데이터 분리 - Hold_out"
   ]
  },
  {
   "cell_type": "code",
   "execution_count": 43,
   "id": "ee367b12-083b-4526-bc39-436df05092b3",
   "metadata": {},
   "outputs": [],
   "source": [
    "## 데이터 분할\n",
    "X = df.drop(['TARGET'] , axis=1)\n",
    "Y = df.TARGET"
   ]
  },
  {
   "cell_type": "code",
   "execution_count": 44,
   "id": "0464a8d2-d5aa-4b67-b9be-39c0864e63f9",
   "metadata": {},
   "outputs": [],
   "source": [
    "from sklearn.model_selection import train_test_split\n",
    "\n",
    "## 학습용 데이터 생성\n",
    "x_train, x_valid, y_train, y_valid = train_test_split(X, Y, test_size=0.2, shuffle=True, random_state=1106)"
   ]
  },
  {
   "cell_type": "markdown",
   "id": "f2a2938c-fe52-41ec-8800-0dad9f33e353",
   "metadata": {},
   "source": [
    "## 모델 파트"
   ]
  },
  {
   "cell_type": "code",
   "execution_count": 45,
   "id": "c450b9b1-29b1-4368-b8d0-408b92e67f20",
   "metadata": {},
   "outputs": [],
   "source": [
    "from catboost import CatBoostRegressor\n",
    "from sklearn.model_selection import RandomizedSearchCV, KFold\n",
    "from scipy.stats import uniform, randint\n",
    "from sklearn.metrics import make_scorer\n",
    "from sklearn.metrics import mean_squared_error\n",
    "import time\n",
    "\n",
    "# RMSE 계산 함수 정의\n",
    "def rmse(y_true, y_pred):\n",
    "    return mean_squared_error(y_true, y_pred, squared=False)"
   ]
  },
  {
   "cell_type": "code",
   "execution_count": 46,
   "id": "329f4ba1-40ad-4416-b010-a062a369dc24",
   "metadata": {},
   "outputs": [
    {
     "name": "stdout",
     "output_type": "stream",
     "text": [
      "Best Hyperparameters: {'depth': 8, 'eval_metric': 'RMSE', 'learning_rate': 0.09449462681059005, 'loss_function': 'RMSE', 'n_estimators': 187}\n",
      "Best Score (RMSE): 2.7628842002498213\n",
      "랜덤 서치 수행 시간: 5.7439833879470825 분\n"
     ]
    }
   ],
   "source": [
    "# CatBoostRegressor 모델 생성\n",
    "cbr_model = CatBoostRegressor(cat_features=categorical_features, verbose=False)\n",
    "\n",
    "# 랜덤 서치를 위한 하이퍼파라미터 공간 설정\n",
    "param_space = {\n",
    "    'learning_rate': uniform(0.01, 0.1),     # 학습 속도 범위\n",
    "    'depth': randint(3, 10),                  # 트리의 깊이 범위\n",
    "    'n_estimators': randint(100, 1000),        # 트리의 개수 범위\n",
    "    'loss_function': ['RMSE'],\n",
    "    'eval_metric': ['RMSE']\n",
    "}\n",
    "\n",
    "# 랜덤 서치를 위한 RandomizedSearchCV 객체 생성\n",
    "random_search = RandomizedSearchCV(\n",
    "    estimator=cbr_model,\n",
    "    param_distributions=param_space,\n",
    "    n_iter=10,             # 랜덤 서치의 반복 횟수 설정\n",
    "    cv=KFold(n_splits=5),  # 교차 검증의 폴드 수 설정\n",
    "    random_state=1106,\n",
    "    scoring=make_scorer(rmse, greater_is_better=False)  # RMSE를 평가지표로 설정\n",
    ")\n",
    "\n",
    "# 랜덤 서치 수행 전 현재 시간 기록\n",
    "start_time = time.time()\n",
    "\n",
    "# 랜덤 서치와 교차 검증을 통한 모델 학습\n",
    "random_search.fit(x_train, y_train)\n",
    "\n",
    "# 랜덤 서치 수행 후 현재 시간 기록\n",
    "end_time = time.time()\n",
    "\n",
    "# 수행 시간 계산\n",
    "elapsed_time = end_time - start_time\n",
    "\n",
    "# 최적의 하이퍼파라미터\n",
    "best_params = random_search.best_params_\n",
    "\n",
    "# 최적의 하이퍼파라미터와 성능 출력\n",
    "print(\"Best Hyperparameters:\", random_search.best_params_)\n",
    "print(\"Best Score (RMSE):\", -random_search.best_score_)  # 음수로 출력된 RMSE 값을 양수로 변환하여 출력\n",
    "print(\"랜덤 서치 수행 시간:\", elapsed_time/60, \"분\")"
   ]
  },
  {
   "cell_type": "code",
   "execution_count": 49,
   "id": "ebcd3687-c8a4-49c0-93a4-ef085358fe70",
   "metadata": {},
   "outputs": [
    {
     "data": {
      "text/plain": [
       "<catboost.core.CatBoostRegressor at 0x7f64058f3d10>"
      ]
     },
     "execution_count": 49,
     "metadata": {},
     "output_type": "execute_result"
    }
   ],
   "source": [
    "# 모델 생성 시 하이퍼파라미터 설정\n",
    "cbr_best_model = CatBoostRegressor(\n",
    "    depth=best_params['depth'], \n",
    "    eval_metric=best_params['eval_metric'], \n",
    "    learning_rate=best_params['learning_rate'], \n",
    "    loss_function=best_params['loss_function'], \n",
    "    n_estimators=best_params['n_estimators']\n",
    ")\n",
    "\n",
    "# 학습\n",
    "cbr_best_model.fit(x_train, y_train, cat_features=categorical_features, verbose=False)"
   ]
  },
  {
   "cell_type": "code",
   "execution_count": 50,
   "id": "36459128-921d-4dd7-9b25-1cb27daa3129",
   "metadata": {},
   "outputs": [
    {
     "name": "stdout",
     "output_type": "stream",
     "text": [
      "훈련 세트 RMSE: 2.51\n",
      "검증 세트 RMSE: 2.50\n"
     ]
    }
   ],
   "source": [
    "################# 랜덤 결과\n",
    "# 훈련 세트의 예측값 계산\n",
    "y_train_pred = cbr_best_model.predict(x_train)\n",
    "\n",
    "# 검증 세트의 예측값 계산\n",
    "y_valid_pred = cbr_best_model.predict(x_valid)\n",
    "\n",
    "# RMSE 계산\n",
    "train_rmse = np.sqrt(mean_squared_error(y_train, y_train_pred))\n",
    "valid_rmse = np.sqrt(mean_squared_error(y_valid, y_valid_pred))\n",
    "\n",
    "print(\"훈련 세트 RMSE: {:.2f}\".format(train_rmse))\n",
    "print(\"검증 세트 RMSE: {:.2f}\".format(valid_rmse))"
   ]
  },
  {
   "cell_type": "code",
   "execution_count": 51,
   "id": "475f4656-c250-45c7-a53b-a5e63b214d74",
   "metadata": {},
   "outputs": [
    {
     "name": "stdout",
     "output_type": "stream",
     "text": [
      "훈련 세트 R2: 0.797\n",
      "검증 세트 R2: 0.778\n"
     ]
    }
   ],
   "source": [
    "from sklearn.metrics import r2_score\n",
    "\n",
    "R2_train = r2_score(y_train, y_train_pred) # R2\n",
    "R2_valid = r2_score(y_valid, y_valid_pred) # R2\n",
    "\n",
    "print(\"훈련 세트 R2: {:.3f}\".format(R2_train))\n",
    "print(\"검증 세트 R2: {:.3f}\".format(R2_valid))"
   ]
  },
  {
   "cell_type": "code",
   "execution_count": 52,
   "id": "c23c66d4-d007-4576-ae6d-e7af6c303383",
   "metadata": {},
   "outputs": [
    {
     "name": "stderr",
     "output_type": "stream",
     "text": [
      "findfont: Font family ['Malgun Gothic'] not found. Falling back to DejaVu Sans.\n",
      "findfont: Font family ['Malgun Gothic'] not found. Falling back to DejaVu Sans.\n"
     ]
    },
    {
     "data": {
      "image/png": "[encoded data removed]",
      "text/plain": [
       "<Figure size 800x600 with 1 Axes>"
      ]
     },
     "metadata": {},
     "output_type": "display_data"
    }
   ],
   "source": [
    "import matplotlib.pyplot as plt\n",
    "import seaborn as sns\n",
    "%matplotlib inline\n",
    "\n",
    "ftr_importances_values = cbr_best_model.feature_importances_\n",
    "ftr_importances = pd.Series(ftr_importances_values, index = x_train.columns)\n",
    "ftr_top20 = ftr_importances.sort_values(ascending=False)[:20]\n",
    "\n",
    "plt.figure(figsize=(8,6))\n",
    "plt.title('Top 20 Feature Importances')\n",
    "sns.barplot(x=ftr_top20, y=ftr_top20.index)\n",
    "plt.show()"
   ]
  },
  {
   "cell_type": "code",
   "execution_count": 53,
   "id": "8e4e3bcc-d0bf-452e-b2c1-12b8d91d2357",
   "metadata": {},
   "outputs": [],
   "source": [
    "preds = cbr_best_model.predict(test)\n",
    "preds[preds < 0] = 0 ## 0보다 작은 값은 0으로 수정"
   ]
  },
  {
   "cell_type": "code",
   "execution_count": 54,
   "id": "29b1ae92-fa82-43a3-9870-0dd1ab1c82a2",
   "metadata": {},
   "outputs": [
    {
     "data": {
      "text/html": [
       "<div>\n",
       "<style scoped>\n",
       "    .dataframe tbody tr th:only-of-type {\n",
       "        vertical-align: middle;\n",
       "    }\n",
       "\n",
       "    .dataframe tbody tr th {\n",
       "        vertical-align: top;\n",
       "    }\n",
       "\n",
       "    .dataframe thead th {\n",
       "        text-align: right;\n",
       "    }\n",
       "</style>\n",
       "<table border=\"1\" class=\"dataframe\">\n",
       "  <thead>\n",
       "    <tr style=\"text-align: right;\">\n",
       "      <th></th>\n",
       "      <th>sessionID</th>\n",
       "      <th>TARGET</th>\n",
       "    </tr>\n",
       "  </thead>\n",
       "  <tbody>\n",
       "    <tr>\n",
       "      <th>0</th>\n",
       "      <td>SESSION_252289</td>\n",
       "      <td>24.921144</td>\n",
       "    </tr>\n",
       "    <tr>\n",
       "      <th>1</th>\n",
       "      <td>SESSION_252290</td>\n",
       "      <td>1.038724</td>\n",
       "    </tr>\n",
       "    <tr>\n",
       "      <th>2</th>\n",
       "      <td>SESSION_252291</td>\n",
       "      <td>2.717987</td>\n",
       "    </tr>\n",
       "    <tr>\n",
       "      <th>3</th>\n",
       "      <td>SESSION_252292</td>\n",
       "      <td>4.283338</td>\n",
       "    </tr>\n",
       "    <tr>\n",
       "      <th>4</th>\n",
       "      <td>SESSION_252293</td>\n",
       "      <td>10.373897</td>\n",
       "    </tr>\n",
       "    <tr>\n",
       "      <th>...</th>\n",
       "      <td>...</td>\n",
       "      <td>...</td>\n",
       "    </tr>\n",
       "    <tr>\n",
       "      <th>79781</th>\n",
       "      <td>SESSION_332070</td>\n",
       "      <td>1.114638</td>\n",
       "    </tr>\n",
       "    <tr>\n",
       "      <th>79782</th>\n",
       "      <td>SESSION_332071</td>\n",
       "      <td>1.079588</td>\n",
       "    </tr>\n",
       "    <tr>\n",
       "      <th>79783</th>\n",
       "      <td>SESSION_332072</td>\n",
       "      <td>2.733976</td>\n",
       "    </tr>\n",
       "    <tr>\n",
       "      <th>79784</th>\n",
       "      <td>SESSION_332073</td>\n",
       "      <td>4.847996</td>\n",
       "    </tr>\n",
       "    <tr>\n",
       "      <th>79785</th>\n",
       "      <td>SESSION_332074</td>\n",
       "      <td>1.057264</td>\n",
       "    </tr>\n",
       "  </tbody>\n",
       "</table>\n",
       "<p>79786 rows × 2 columns</p>\n",
       "</div>"
      ],
      "text/plain": [
       "            sessionID     TARGET\n",
       "0      SESSION_252289  24.921144\n",
       "1      SESSION_252290   1.038724\n",
       "2      SESSION_252291   2.717987\n",
       "3      SESSION_252292   4.283338\n",
       "4      SESSION_252293  10.373897\n",
       "...               ...        ...\n",
       "79781  SESSION_332070   1.114638\n",
       "79782  SESSION_332071   1.079588\n",
       "79783  SESSION_332072   2.733976\n",
       "79784  SESSION_332073   4.847996\n",
       "79785  SESSION_332074   1.057264\n",
       "\n",
       "[79786 rows x 2 columns]"
      ]
     },
     "execution_count": 54,
     "metadata": {},
     "output_type": "execute_result"
    }
   ],
   "source": [
    "submission = pd.read_csv('./Weblog_Data/sample_submission.csv')\n",
    "submission['TARGET'] = preds\n",
    "submission"
   ]
  },
  {
   "cell_type": "code",
   "execution_count": 59,
   "id": "30cc3d6f-081d-44c1-b34a-5f4befd7354d",
   "metadata": {},
   "outputs": [],
   "source": [
    "submission.to_csv('./0221_1_submission.csv', index=False)"
   ]
  }
 ],
 "metadata": {
  "kernelspec": {
   "display_name": "Python 3 (ipykernel)",
   "language": "python",
   "name": "python3"
  },
  "language_info": {
   "codemirror_mode": {
    "name": "ipython",
    "version": 3
   },
   "file_extension": ".py",
   "mimetype": "text/x-python",
   "name": "python",
   "nbconvert_exporter": "python",
   "pygments_lexer": "ipython3",
   "version": "3.11.5"
  }
 },
 "nbformat": 4,
 "nbformat_minor": 5
}
