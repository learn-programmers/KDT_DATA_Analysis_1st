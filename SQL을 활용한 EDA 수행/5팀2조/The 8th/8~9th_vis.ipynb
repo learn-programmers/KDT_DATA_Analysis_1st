{
  "nbformat": 4,
  "nbformat_minor": 0,
  "metadata": {
    "colab": {
      "provenance": []
    },
    "kernelspec": {
      "name": "python3",
      "display_name": "Python 3"
    },
    "language_info": {
      "name": "python"
    }
  },
  "cells": [
    {
      "cell_type": "markdown",
      "source": [
        "df9 그래프"
      ],
      "metadata": {
        "id": "sDmeSONAV2Fo"
      }
    },
    {
      "cell_type": "code",
      "execution_count": null,
      "metadata": {
        "id": "5f4rcpvCVx2g"
      },
      "outputs": [],
      "source": [
        "# Shipping Type로 그룹화하고 Purchase Count 합산\n",
        "grouped_df = df9.groupby('Shipping Type')['Purchase Count'].sum().reset_index(name='total_purchase_count')\n",
        "\n",
        "# 막대 그래프 그리기\n",
        "plt.bar(grouped_df['Shipping Type'], grouped_df['total_purchase_count'])\n",
        "plt.xlabel('Shipping Type')\n",
        "plt.ylabel('Purchase Count')\n",
        "plt.title('Total Purchase Count by Shipping Type')\n",
        "\n",
        "plt.xticks(rotation=45, ha='right', rotation_mode='anchor')\n",
        "\n",
        "# 각 막대에 해당하는 값을 막대 위에 표시\n",
        "for i, value in enumerate(grouped_df['total_purchase_count']):\n",
        "    plt.text(i, value, str(value), ha='center', va='bottom')\n",
        "\n",
        "plt.tight_layout()  # 레이아웃 조절\n",
        "plt.show()"
      ]
    },
    {
      "cell_type": "markdown",
      "source": [
        "df10 그래프"
      ],
      "metadata": {
        "id": "Ws7KEACEV9wz"
      }
    },
    {
      "cell_type": "code",
      "source": [
        "# 나이대(Age Group) 별로 그룹화하고 각 카테고리(Category)의 Total Count 합산\n",
        "grouped_df = df10_n.groupby(['Age Group', 'Category'])['Total Count'].sum().reset_index()\n",
        "\n",
        "# seaborn을 사용하여 막대 그래프 그리기\n",
        "plt.figure(figsize=(12, 6))\n",
        "ax = sns.barplot(x='Age Group', y='Total Count', hue='Category', data=grouped_df)\n",
        "plt.xlabel('Age Group')\n",
        "plt.ylabel('Count')\n",
        "plt.title('Total Count by Category and Age Group')\n",
        "plt.legend(title='Category', loc='upper right', bbox_to_anchor=(1.2, 1))\n",
        "\n",
        "# 각 막대에 해당하는 값을 막대 위에 표시\n",
        "for p in ax.patches:\n",
        "    ax.annotate(f'{p.get_height():.0f}', (p.get_x() + p.get_width() / 2., p.get_height()), ha='center', va='center', xytext=(0, 10), textcoords='offset points', fontsize=8, color='black')\n",
        "\n",
        "# 각 나이대 별로 카테고리를 합산한 값을 나이대 밑에 표시\n",
        "age_group_totals = df10_n.groupby('Age Group')['Total Count'].sum().reset_index()\n",
        "for i, value in enumerate(age_group_totals['Total Count']):\n",
        "    plt.text(i, 0, f'Total: {value}', ha='center', va='bottom')"
      ],
      "metadata": {
        "id": "7NcyKEcbVy1L"
      },
      "execution_count": null,
      "outputs": []
    }
  ]
}